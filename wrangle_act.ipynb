{
 "metadata": {
  "language_info": {
   "codemirror_mode": {
    "name": "ipython",
    "version": 3
   },
   "file_extension": ".py",
   "mimetype": "text/x-python",
   "name": "python",
   "nbconvert_exporter": "python",
   "pygments_lexer": "ipython3",
   "version": "3.8.3-final"
  },
  "orig_nbformat": 2,
  "kernelspec": {
   "name": "python3",
   "display_name": "Python 3"
  }
 },
 "nbformat": 4,
 "nbformat_minor": 2,
 "cells": [
  {
   "source": [
    "# Data Analysis Project — WeRateDogs\n",
    "# Gather \n",
    "### The data are collected from different 3 locations (Normal download, programmatically downloaded file, file from twitter API )"
   ],
   "cell_type": "markdown",
   "metadata": {}
  },
  {
   "cell_type": "code",
   "execution_count": 458,
   "metadata": {},
   "outputs": [],
   "source": [
    "# import required libs\n",
    "\n",
    "import requests\n",
    "import pandas as pd\n",
    "import tweepy\n",
    "import json\n",
    "import matplotlib.pyplot as plt\n",
    "import tweepy\n",
    "from tweepy import OAuthHandler\n",
    "import json\n",
    "from timeit import default_timer as timer\n",
    "%matplotlib inline\n"
   ]
  },
  {
   "cell_type": "code",
   "execution_count": 461,
   "metadata": {},
   "outputs": [],
   "source": [
    "# this is code for API however i did not use it to download the file \n",
    "\n",
    "\n",
    "# Query Twitter API for each tweet in the Twitter archive and save JSON in a text file\n",
    "# These are hidden to comply with Twitter's API terms and conditions\n",
    "consumer_key = 'HIDDEN'\n",
    "consumer_secret = 'HIDDEN'\n",
    "access_token = 'HIDDEN'\n",
    "access_secret = 'HIDDEN'\n",
    "\n",
    "auth = OAuthHandler(consumer_key, consumer_secret)\n",
    "auth.set_access_token(access_token, access_secret)\n",
    "\n",
    "api = tweepy.API(auth, wait_on_rate_limit=True)\n",
    "\n",
    "# NOTE TO STUDENT WITH MOBILE VERIFICATION ISSUES:\n",
    "# df_1 is a DataFrame with the twitter_archive_enhanced.csv file. You may have to\n",
    "# change line 17 to match the name of your DataFrame with twitter_archive_enhanced.csv\n",
    "# NOTE TO REVIEWER: this student had mobile verification issues so the following\n",
    "# Twitter API code was sent to this student from a Udacity instructor\n",
    "# Tweet IDs for which to gather additional data via Twitter's API\n",
    "tweet_ids = twitter_archive_enhanced.values\n",
    "len(tweet_ids)\n",
    "\n",
    "# Query Twitter's API for JSON data for each tweet ID in the Twitter archive\n",
    "count = 0\n",
    "fails_dict = {}\n",
    "start = timer()\n",
    "# Save each tweet's returned JSON as a new line in a .txt file\n",
    "with open('tweet_json.txt', 'w') as outfile:\n",
    "    # This loop will likely take 20-30 minutes to run because of Twitter's rate limit\n",
    "    for tweet_id in tweet_ids:\n",
    "        count += 1\n",
    "        print(str(count) + \": \" + str(tweet_id))\n",
    "        try:\n",
    "            tweet = api.get_status(tweet_id, tweet_mode='extended')\n",
    "            print(\"Success\")\n",
    "            json.dump(tweet._json, outfile)\n",
    "            outfile.write('\\n')\n",
    "        except tweepy.TweepError as e:\n",
    "            print(\"Fail\")\n",
    "            fails_dict[tweet_id] = e\n",
    "            pass\n",
    "end = timer()\n",
    "print(end - start)\n",
    "print(fails_dict)"
   ]
  },
  {
   "cell_type": "code",
   "execution_count": 462,
   "metadata": {},
   "outputs": [],
   "source": [
    "# this is file which will be downloaded through request library\n",
    "image_predictions_tsv_file_link = \"https://d17h27t6h515a5.cloudfront.net/topher/2017/August/599fd2ad_image-predictions/image-predictions.tsv\"\n",
    "response = requests.get(image_predictions_tsv_file_link)\n",
    "with open(image_predictions_tsv_file_link.split('/')[-1],mode='wb') as file:\n",
    "    file.write(response.content)"
   ]
  },
  {
   "cell_type": "code",
   "execution_count": 463,
   "metadata": {},
   "outputs": [],
   "source": [
    "df_twitter_archive_enhanced = pd.read_csv('twitter-archive-enhanced.csv')\n",
    "df_image_predictions = pd.read_csv('image-predictions.tsv',sep='\\t')"
   ]
  },
  {
   "cell_type": "code",
   "execution_count": 464,
   "metadata": {},
   "outputs": [],
   "source": [
    "df_list = []\n",
    "\n",
    "with open('tweet-json.txt', 'r') as file:\n",
    "    for line in file:\n",
    "        tweet = json.loads(line)\n",
    "        tweet_id = tweet['id']\n",
    "        retweet_count = tweet['retweet_count']\n",
    "        fav_count = tweet['favorite_count']\n",
    "        user_count = tweet['user']['followers_count']\n",
    "        df_list.append({'tweet_id':tweet_id,\n",
    "                       'retweet_count': retweet_count,\n",
    "                       'favorite_count': fav_count,\n",
    "                       'user_count': user_count})\n",
    "        \n",
    "api_df_now = pd.DataFrame(df_list)\n"
   ]
  },
  {
   "source": [
    "### 3 Datasets are : \n",
    "#### df_twitter_archive_enhanced\n",
    "#### df_image_predictions\n",
    "#### api_df_now"
   ],
   "cell_type": "markdown",
   "metadata": {}
  },
  {
   "source": [
    "#\n",
    "# Key Points\n",
    "## Key points to keep in mind when data wrangling for this project:\n",
    "\n",
    "### You only want original ratings (no retweets) that have images. Though there are 5000+ tweets in the dataset, not all are dog ratings and some are retweets.\n",
    "### Assessing and cleaning the entire dataset completely would require a lot of time, and is not necessary to practice and demonstrate your skills in data wrangling. Therefore, the requirements of this project are only to assess and clean at least 8 quality issues and at least 2 tidiness issues in this dataset.\n",
    "### Cleaning includes merging individual pieces of data according to the rules of tidy data.\n",
    "### The fact that the rating numerators are greater than the denominators does not need to be cleaned. This unique rating system is a big part of the popularity of WeRateDogs.\n",
    "### You do not need to gather the tweets beyond August 1st, 2017. You can, but note that you won't be able to gather the image predictions for these tweets since you don't have access to the algorithm used."
   ],
   "cell_type": "markdown",
   "metadata": {}
  },
  {
   "cell_type": "code",
   "execution_count": 549,
   "metadata": {},
   "outputs": [
    {
     "output_type": "execute_result",
     "data": {
      "text/plain": [
       "             tweet_id  in_reply_to_status_id  in_reply_to_user_id  \\\n",
       "0  892420643555336193                    NaN                  NaN   \n",
       "1  892177421306343426                    NaN                  NaN   \n",
       "2  891815181378084864                    NaN                  NaN   \n",
       "3  891689557279858688                    NaN                  NaN   \n",
       "4  891327558926688256                    NaN                  NaN   \n",
       "\n",
       "                   timestamp  \\\n",
       "0  2017-08-01 16:23:56 +0000   \n",
       "1  2017-08-01 00:17:27 +0000   \n",
       "2  2017-07-31 00:18:03 +0000   \n",
       "3  2017-07-30 15:58:51 +0000   \n",
       "4  2017-07-29 16:00:24 +0000   \n",
       "\n",
       "                                              source  \\\n",
       "0  <a href=\"http://twitter.com/download/iphone\" r...   \n",
       "1  <a href=\"http://twitter.com/download/iphone\" r...   \n",
       "2  <a href=\"http://twitter.com/download/iphone\" r...   \n",
       "3  <a href=\"http://twitter.com/download/iphone\" r...   \n",
       "4  <a href=\"http://twitter.com/download/iphone\" r...   \n",
       "\n",
       "                                                text  retweeted_status_id  \\\n",
       "0  This is Phineas. He's a mystical boy. Only eve...                  NaN   \n",
       "1  This is Tilly. She's just checking pup on you....                  NaN   \n",
       "2  This is Archie. He is a rare Norwegian Pouncin...                  NaN   \n",
       "3  This is Darla. She commenced a snooze mid meal...                  NaN   \n",
       "4  This is Franklin. He would like you to stop ca...                  NaN   \n",
       "\n",
       "   retweeted_status_user_id retweeted_status_timestamp  \\\n",
       "0                       NaN                        NaN   \n",
       "1                       NaN                        NaN   \n",
       "2                       NaN                        NaN   \n",
       "3                       NaN                        NaN   \n",
       "4                       NaN                        NaN   \n",
       "\n",
       "                                       expanded_urls  rating_numerator  \\\n",
       "0  https://twitter.com/dog_rates/status/892420643...                13   \n",
       "1  https://twitter.com/dog_rates/status/892177421...                13   \n",
       "2  https://twitter.com/dog_rates/status/891815181...                12   \n",
       "3  https://twitter.com/dog_rates/status/891689557...                13   \n",
       "4  https://twitter.com/dog_rates/status/891327558...                12   \n",
       "\n",
       "   rating_denominator      name doggo floofer pupper puppo  \n",
       "0                  10   Phineas  None    None   None  None  \n",
       "1                  10     Tilly  None    None   None  None  \n",
       "2                  10    Archie  None    None   None  None  \n",
       "3                  10     Darla  None    None   None  None  \n",
       "4                  10  Franklin  None    None   None  None  "
      ],
      "text/html": "<div>\n<style scoped>\n    .dataframe tbody tr th:only-of-type {\n        vertical-align: middle;\n    }\n\n    .dataframe tbody tr th {\n        vertical-align: top;\n    }\n\n    .dataframe thead th {\n        text-align: right;\n    }\n</style>\n<table border=\"1\" class=\"dataframe\">\n  <thead>\n    <tr style=\"text-align: right;\">\n      <th></th>\n      <th>tweet_id</th>\n      <th>in_reply_to_status_id</th>\n      <th>in_reply_to_user_id</th>\n      <th>timestamp</th>\n      <th>source</th>\n      <th>text</th>\n      <th>retweeted_status_id</th>\n      <th>retweeted_status_user_id</th>\n      <th>retweeted_status_timestamp</th>\n      <th>expanded_urls</th>\n      <th>rating_numerator</th>\n      <th>rating_denominator</th>\n      <th>name</th>\n      <th>doggo</th>\n      <th>floofer</th>\n      <th>pupper</th>\n      <th>puppo</th>\n    </tr>\n  </thead>\n  <tbody>\n    <tr>\n      <th>0</th>\n      <td>892420643555336193</td>\n      <td>NaN</td>\n      <td>NaN</td>\n      <td>2017-08-01 16:23:56 +0000</td>\n      <td>&lt;a href=\"http://twitter.com/download/iphone\" r...</td>\n      <td>This is Phineas. He's a mystical boy. Only eve...</td>\n      <td>NaN</td>\n      <td>NaN</td>\n      <td>NaN</td>\n      <td>https://twitter.com/dog_rates/status/892420643...</td>\n      <td>13</td>\n      <td>10</td>\n      <td>Phineas</td>\n      <td>None</td>\n      <td>None</td>\n      <td>None</td>\n      <td>None</td>\n    </tr>\n    <tr>\n      <th>1</th>\n      <td>892177421306343426</td>\n      <td>NaN</td>\n      <td>NaN</td>\n      <td>2017-08-01 00:17:27 +0000</td>\n      <td>&lt;a href=\"http://twitter.com/download/iphone\" r...</td>\n      <td>This is Tilly. She's just checking pup on you....</td>\n      <td>NaN</td>\n      <td>NaN</td>\n      <td>NaN</td>\n      <td>https://twitter.com/dog_rates/status/892177421...</td>\n      <td>13</td>\n      <td>10</td>\n      <td>Tilly</td>\n      <td>None</td>\n      <td>None</td>\n      <td>None</td>\n      <td>None</td>\n    </tr>\n    <tr>\n      <th>2</th>\n      <td>891815181378084864</td>\n      <td>NaN</td>\n      <td>NaN</td>\n      <td>2017-07-31 00:18:03 +0000</td>\n      <td>&lt;a href=\"http://twitter.com/download/iphone\" r...</td>\n      <td>This is Archie. He is a rare Norwegian Pouncin...</td>\n      <td>NaN</td>\n      <td>NaN</td>\n      <td>NaN</td>\n      <td>https://twitter.com/dog_rates/status/891815181...</td>\n      <td>12</td>\n      <td>10</td>\n      <td>Archie</td>\n      <td>None</td>\n      <td>None</td>\n      <td>None</td>\n      <td>None</td>\n    </tr>\n    <tr>\n      <th>3</th>\n      <td>891689557279858688</td>\n      <td>NaN</td>\n      <td>NaN</td>\n      <td>2017-07-30 15:58:51 +0000</td>\n      <td>&lt;a href=\"http://twitter.com/download/iphone\" r...</td>\n      <td>This is Darla. She commenced a snooze mid meal...</td>\n      <td>NaN</td>\n      <td>NaN</td>\n      <td>NaN</td>\n      <td>https://twitter.com/dog_rates/status/891689557...</td>\n      <td>13</td>\n      <td>10</td>\n      <td>Darla</td>\n      <td>None</td>\n      <td>None</td>\n      <td>None</td>\n      <td>None</td>\n    </tr>\n    <tr>\n      <th>4</th>\n      <td>891327558926688256</td>\n      <td>NaN</td>\n      <td>NaN</td>\n      <td>2017-07-29 16:00:24 +0000</td>\n      <td>&lt;a href=\"http://twitter.com/download/iphone\" r...</td>\n      <td>This is Franklin. He would like you to stop ca...</td>\n      <td>NaN</td>\n      <td>NaN</td>\n      <td>NaN</td>\n      <td>https://twitter.com/dog_rates/status/891327558...</td>\n      <td>12</td>\n      <td>10</td>\n      <td>Franklin</td>\n      <td>None</td>\n      <td>None</td>\n      <td>None</td>\n      <td>None</td>\n    </tr>\n  </tbody>\n</table>\n</div>"
     },
     "metadata": {},
     "execution_count": 549
    }
   ],
   "source": [
    "df_twitter_archive_enhanced.head()"
   ]
  },
  {
   "cell_type": "code",
   "execution_count": 550,
   "metadata": {},
   "outputs": [
    {
     "output_type": "execute_result",
     "data": {
      "text/plain": [
       "             tweet_id                                          jpg_url  \\\n",
       "0  666020888022790149  https://pbs.twimg.com/media/CT4udn0WwAA0aMy.jpg   \n",
       "1  666029285002620928  https://pbs.twimg.com/media/CT42GRgUYAA5iDo.jpg   \n",
       "2  666033412701032449  https://pbs.twimg.com/media/CT4521TWwAEvMyu.jpg   \n",
       "3  666044226329800704  https://pbs.twimg.com/media/CT5Dr8HUEAA-lEu.jpg   \n",
       "4  666049248165822465  https://pbs.twimg.com/media/CT5IQmsXIAAKY4A.jpg   \n",
       "\n",
       "   img_num                      p1   p1_conf  p1_dog                  p2  \\\n",
       "0        1  Welsh_springer_spaniel  0.465074    True              collie   \n",
       "1        1                 redbone  0.506826    True  miniature_pinscher   \n",
       "2        1         German_shepherd  0.596461    True            malinois   \n",
       "3        1     Rhodesian_ridgeback  0.408143    True             redbone   \n",
       "4        1      miniature_pinscher  0.560311    True          Rottweiler   \n",
       "\n",
       "    p2_conf  p2_dog                   p3   p3_conf  p3_dog  \n",
       "0  0.156665    True    Shetland_sheepdog  0.061428    True  \n",
       "1  0.074192    True  Rhodesian_ridgeback  0.072010    True  \n",
       "2  0.138584    True           bloodhound  0.116197    True  \n",
       "3  0.360687    True   miniature_pinscher  0.222752    True  \n",
       "4  0.243682    True             Doberman  0.154629    True  "
      ],
      "text/html": "<div>\n<style scoped>\n    .dataframe tbody tr th:only-of-type {\n        vertical-align: middle;\n    }\n\n    .dataframe tbody tr th {\n        vertical-align: top;\n    }\n\n    .dataframe thead th {\n        text-align: right;\n    }\n</style>\n<table border=\"1\" class=\"dataframe\">\n  <thead>\n    <tr style=\"text-align: right;\">\n      <th></th>\n      <th>tweet_id</th>\n      <th>jpg_url</th>\n      <th>img_num</th>\n      <th>p1</th>\n      <th>p1_conf</th>\n      <th>p1_dog</th>\n      <th>p2</th>\n      <th>p2_conf</th>\n      <th>p2_dog</th>\n      <th>p3</th>\n      <th>p3_conf</th>\n      <th>p3_dog</th>\n    </tr>\n  </thead>\n  <tbody>\n    <tr>\n      <th>0</th>\n      <td>666020888022790149</td>\n      <td>https://pbs.twimg.com/media/CT4udn0WwAA0aMy.jpg</td>\n      <td>1</td>\n      <td>Welsh_springer_spaniel</td>\n      <td>0.465074</td>\n      <td>True</td>\n      <td>collie</td>\n      <td>0.156665</td>\n      <td>True</td>\n      <td>Shetland_sheepdog</td>\n      <td>0.061428</td>\n      <td>True</td>\n    </tr>\n    <tr>\n      <th>1</th>\n      <td>666029285002620928</td>\n      <td>https://pbs.twimg.com/media/CT42GRgUYAA5iDo.jpg</td>\n      <td>1</td>\n      <td>redbone</td>\n      <td>0.506826</td>\n      <td>True</td>\n      <td>miniature_pinscher</td>\n      <td>0.074192</td>\n      <td>True</td>\n      <td>Rhodesian_ridgeback</td>\n      <td>0.072010</td>\n      <td>True</td>\n    </tr>\n    <tr>\n      <th>2</th>\n      <td>666033412701032449</td>\n      <td>https://pbs.twimg.com/media/CT4521TWwAEvMyu.jpg</td>\n      <td>1</td>\n      <td>German_shepherd</td>\n      <td>0.596461</td>\n      <td>True</td>\n      <td>malinois</td>\n      <td>0.138584</td>\n      <td>True</td>\n      <td>bloodhound</td>\n      <td>0.116197</td>\n      <td>True</td>\n    </tr>\n    <tr>\n      <th>3</th>\n      <td>666044226329800704</td>\n      <td>https://pbs.twimg.com/media/CT5Dr8HUEAA-lEu.jpg</td>\n      <td>1</td>\n      <td>Rhodesian_ridgeback</td>\n      <td>0.408143</td>\n      <td>True</td>\n      <td>redbone</td>\n      <td>0.360687</td>\n      <td>True</td>\n      <td>miniature_pinscher</td>\n      <td>0.222752</td>\n      <td>True</td>\n    </tr>\n    <tr>\n      <th>4</th>\n      <td>666049248165822465</td>\n      <td>https://pbs.twimg.com/media/CT5IQmsXIAAKY4A.jpg</td>\n      <td>1</td>\n      <td>miniature_pinscher</td>\n      <td>0.560311</td>\n      <td>True</td>\n      <td>Rottweiler</td>\n      <td>0.243682</td>\n      <td>True</td>\n      <td>Doberman</td>\n      <td>0.154629</td>\n      <td>True</td>\n    </tr>\n  </tbody>\n</table>\n</div>"
     },
     "metadata": {},
     "execution_count": 550
    }
   ],
   "source": [
    "df_image_predictions.head()"
   ]
  },
  {
   "cell_type": "code",
   "execution_count": 551,
   "metadata": {},
   "outputs": [
    {
     "output_type": "execute_result",
     "data": {
      "text/plain": [
       "             tweet_id  retweet_count  favorite_count  user_count\n",
       "0  892420643555336193           8853           39467     3200889\n",
       "1  892177421306343426           6514           33819     3200889\n",
       "2  891815181378084864           4328           25461     3200889\n",
       "3  891689557279858688           8964           42908     3200889\n",
       "4  891327558926688256           9774           41048     3200889"
      ],
      "text/html": "<div>\n<style scoped>\n    .dataframe tbody tr th:only-of-type {\n        vertical-align: middle;\n    }\n\n    .dataframe tbody tr th {\n        vertical-align: top;\n    }\n\n    .dataframe thead th {\n        text-align: right;\n    }\n</style>\n<table border=\"1\" class=\"dataframe\">\n  <thead>\n    <tr style=\"text-align: right;\">\n      <th></th>\n      <th>tweet_id</th>\n      <th>retweet_count</th>\n      <th>favorite_count</th>\n      <th>user_count</th>\n    </tr>\n  </thead>\n  <tbody>\n    <tr>\n      <th>0</th>\n      <td>892420643555336193</td>\n      <td>8853</td>\n      <td>39467</td>\n      <td>3200889</td>\n    </tr>\n    <tr>\n      <th>1</th>\n      <td>892177421306343426</td>\n      <td>6514</td>\n      <td>33819</td>\n      <td>3200889</td>\n    </tr>\n    <tr>\n      <th>2</th>\n      <td>891815181378084864</td>\n      <td>4328</td>\n      <td>25461</td>\n      <td>3200889</td>\n    </tr>\n    <tr>\n      <th>3</th>\n      <td>891689557279858688</td>\n      <td>8964</td>\n      <td>42908</td>\n      <td>3200889</td>\n    </tr>\n    <tr>\n      <th>4</th>\n      <td>891327558926688256</td>\n      <td>9774</td>\n      <td>41048</td>\n      <td>3200889</td>\n    </tr>\n  </tbody>\n</table>\n</div>"
     },
     "metadata": {},
     "execution_count": 551
    }
   ],
   "source": [
    "api_df_now.head()"
   ]
  },
  {
   "cell_type": "code",
   "execution_count": 552,
   "metadata": {},
   "outputs": [
    {
     "output_type": "execute_result",
     "data": {
      "text/plain": [
       "(2356, 17)"
      ]
     },
     "metadata": {},
     "execution_count": 552
    }
   ],
   "source": [
    "df_twitter_archive_enhanced.shape"
   ]
  },
  {
   "cell_type": "code",
   "execution_count": 553,
   "metadata": {},
   "outputs": [
    {
     "output_type": "execute_result",
     "data": {
      "text/plain": [
       "(2075, 12)"
      ]
     },
     "metadata": {},
     "execution_count": 553
    }
   ],
   "source": [
    "df_image_predictions.shape"
   ]
  },
  {
   "cell_type": "code",
   "execution_count": 554,
   "metadata": {},
   "outputs": [
    {
     "output_type": "execute_result",
     "data": {
      "text/plain": [
       "(2354, 4)"
      ]
     },
     "metadata": {},
     "execution_count": 554
    }
   ],
   "source": [
    "api_df_now.shape"
   ]
  },
  {
   "cell_type": "code",
   "execution_count": 555,
   "metadata": {},
   "outputs": [
    {
     "output_type": "execute_result",
     "data": {
      "text/plain": [
       "tweet_id                        int64\n",
       "in_reply_to_status_id         float64\n",
       "in_reply_to_user_id           float64\n",
       "timestamp                      object\n",
       "source                         object\n",
       "text                           object\n",
       "retweeted_status_id           float64\n",
       "retweeted_status_user_id      float64\n",
       "retweeted_status_timestamp     object\n",
       "expanded_urls                  object\n",
       "rating_numerator                int64\n",
       "rating_denominator              int64\n",
       "name                           object\n",
       "doggo                          object\n",
       "floofer                        object\n",
       "pupper                         object\n",
       "puppo                          object\n",
       "dtype: object"
      ]
     },
     "metadata": {},
     "execution_count": 555
    }
   ],
   "source": [
    "\n",
    "df_twitter_archive_enhanced.dtypes"
   ]
  },
  {
   "cell_type": "code",
   "execution_count": 556,
   "metadata": {},
   "outputs": [
    {
     "output_type": "execute_result",
     "data": {
      "text/plain": [
       "tweet_id      int64\n",
       "jpg_url      object\n",
       "img_num       int64\n",
       "p1           object\n",
       "p1_conf     float64\n",
       "p1_dog         bool\n",
       "p2           object\n",
       "p2_conf     float64\n",
       "p2_dog         bool\n",
       "p3           object\n",
       "p3_conf     float64\n",
       "p3_dog         bool\n",
       "dtype: object"
      ]
     },
     "metadata": {},
     "execution_count": 556
    }
   ],
   "source": [
    "df_image_predictions.dtypes\n"
   ]
  },
  {
   "cell_type": "code",
   "execution_count": 557,
   "metadata": {},
   "outputs": [
    {
     "output_type": "execute_result",
     "data": {
      "text/plain": [
       "tweet_id          int64\n",
       "retweet_count     int64\n",
       "favorite_count    int64\n",
       "user_count        int64\n",
       "dtype: object"
      ]
     },
     "metadata": {},
     "execution_count": 557
    }
   ],
   "source": [
    "api_df_now.dtypes"
   ]
  },
  {
   "cell_type": "code",
   "execution_count": 558,
   "metadata": {},
   "outputs": [
    {
     "output_type": "stream",
     "name": "stdout",
     "text": [
      "<class 'pandas.core.frame.DataFrame'>\nRangeIndex: 2356 entries, 0 to 2355\nData columns (total 17 columns):\n #   Column                      Non-Null Count  Dtype  \n---  ------                      --------------  -----  \n 0   tweet_id                    2356 non-null   int64  \n 1   in_reply_to_status_id       78 non-null     float64\n 2   in_reply_to_user_id         78 non-null     float64\n 3   timestamp                   2356 non-null   object \n 4   source                      2356 non-null   object \n 5   text                        2356 non-null   object \n 6   retweeted_status_id         181 non-null    float64\n 7   retweeted_status_user_id    181 non-null    float64\n 8   retweeted_status_timestamp  181 non-null    object \n 9   expanded_urls               2297 non-null   object \n 10  rating_numerator            2356 non-null   int64  \n 11  rating_denominator          2356 non-null   int64  \n 12  name                        2356 non-null   object \n 13  doggo                       2356 non-null   object \n 14  floofer                     2356 non-null   object \n 15  pupper                      2356 non-null   object \n 16  puppo                       2356 non-null   object \ndtypes: float64(4), int64(3), object(10)\nmemory usage: 313.0+ KB\n"
     ]
    }
   ],
   "source": [
    "df_twitter_archive_enhanced.info()"
   ]
  },
  {
   "cell_type": "code",
   "execution_count": 559,
   "metadata": {},
   "outputs": [
    {
     "output_type": "stream",
     "name": "stdout",
     "text": [
      "<class 'pandas.core.frame.DataFrame'>\nRangeIndex: 2075 entries, 0 to 2074\nData columns (total 12 columns):\n #   Column    Non-Null Count  Dtype  \n---  ------    --------------  -----  \n 0   tweet_id  2075 non-null   int64  \n 1   jpg_url   2075 non-null   object \n 2   img_num   2075 non-null   int64  \n 3   p1        2075 non-null   object \n 4   p1_conf   2075 non-null   float64\n 5   p1_dog    2075 non-null   bool   \n 6   p2        2075 non-null   object \n 7   p2_conf   2075 non-null   float64\n 8   p2_dog    2075 non-null   bool   \n 9   p3        2075 non-null   object \n 10  p3_conf   2075 non-null   float64\n 11  p3_dog    2075 non-null   bool   \ndtypes: bool(3), float64(3), int64(2), object(4)\nmemory usage: 152.1+ KB\n"
     ]
    }
   ],
   "source": [
    "df_image_predictions.info()"
   ]
  },
  {
   "cell_type": "code",
   "execution_count": 560,
   "metadata": {},
   "outputs": [
    {
     "output_type": "stream",
     "name": "stdout",
     "text": [
      "<class 'pandas.core.frame.DataFrame'>\nRangeIndex: 2354 entries, 0 to 2353\nData columns (total 4 columns):\n #   Column          Non-Null Count  Dtype\n---  ------          --------------  -----\n 0   tweet_id        2354 non-null   int64\n 1   retweet_count   2354 non-null   int64\n 2   favorite_count  2354 non-null   int64\n 3   user_count      2354 non-null   int64\ndtypes: int64(4)\nmemory usage: 73.7 KB\n"
     ]
    }
   ],
   "source": [
    "api_df_now.info()"
   ]
  },
  {
   "cell_type": "code",
   "execution_count": 561,
   "metadata": {},
   "outputs": [
    {
     "output_type": "execute_result",
     "data": {
      "text/plain": [
       "tweet_id                      2356\n",
       "in_reply_to_status_id           77\n",
       "in_reply_to_user_id             31\n",
       "timestamp                     2356\n",
       "source                           4\n",
       "text                          2356\n",
       "retweeted_status_id            181\n",
       "retweeted_status_user_id        25\n",
       "retweeted_status_timestamp     181\n",
       "expanded_urls                 2218\n",
       "rating_numerator                40\n",
       "rating_denominator              18\n",
       "name                           957\n",
       "doggo                            2\n",
       "floofer                          2\n",
       "pupper                           2\n",
       "puppo                            2\n",
       "dtype: int64"
      ]
     },
     "metadata": {},
     "execution_count": 561
    }
   ],
   "source": [
    "df_twitter_archive_enhanced.nunique()"
   ]
  },
  {
   "cell_type": "code",
   "execution_count": 562,
   "metadata": {},
   "outputs": [
    {
     "output_type": "execute_result",
     "data": {
      "text/plain": [
       "tweet_id    2075\n",
       "jpg_url     2009\n",
       "img_num        4\n",
       "p1           378\n",
       "p1_conf     2006\n",
       "p1_dog         2\n",
       "p2           405\n",
       "p2_conf     2004\n",
       "p2_dog         2\n",
       "p3           408\n",
       "p3_conf     2006\n",
       "p3_dog         2\n",
       "dtype: int64"
      ]
     },
     "metadata": {},
     "execution_count": 562
    }
   ],
   "source": [
    "df_image_predictions.nunique()"
   ]
  },
  {
   "cell_type": "code",
   "execution_count": 563,
   "metadata": {},
   "outputs": [
    {
     "output_type": "execute_result",
     "data": {
      "text/plain": [
       "tweet_id          2354\n",
       "retweet_count     1724\n",
       "favorite_count    2007\n",
       "user_count          66\n",
       "dtype: int64"
      ]
     },
     "metadata": {},
     "execution_count": 563
    }
   ],
   "source": [
    "api_df_now.nunique()"
   ]
  },
  {
   "cell_type": "code",
   "execution_count": 564,
   "metadata": {},
   "outputs": [
    {
     "output_type": "execute_result",
     "data": {
      "text/plain": [
       "           tweet_id  in_reply_to_status_id  in_reply_to_user_id  \\\n",
       "count  2.356000e+03           7.800000e+01         7.800000e+01   \n",
       "mean   7.427716e+17           7.455079e+17         2.014171e+16   \n",
       "std    6.856705e+16           7.582492e+16         1.252797e+17   \n",
       "min    6.660209e+17           6.658147e+17         1.185634e+07   \n",
       "25%    6.783989e+17           6.757419e+17         3.086374e+08   \n",
       "50%    7.196279e+17           7.038708e+17         4.196984e+09   \n",
       "75%    7.993373e+17           8.257804e+17         4.196984e+09   \n",
       "max    8.924206e+17           8.862664e+17         8.405479e+17   \n",
       "\n",
       "       retweeted_status_id  retweeted_status_user_id  rating_numerator  \\\n",
       "count         1.810000e+02              1.810000e+02       2356.000000   \n",
       "mean          7.720400e+17              1.241698e+16         13.126486   \n",
       "std           6.236928e+16              9.599254e+16         45.876648   \n",
       "min           6.661041e+17              7.832140e+05          0.000000   \n",
       "25%           7.186315e+17              4.196984e+09         10.000000   \n",
       "50%           7.804657e+17              4.196984e+09         11.000000   \n",
       "75%           8.203146e+17              4.196984e+09         12.000000   \n",
       "max           8.874740e+17              7.874618e+17       1776.000000   \n",
       "\n",
       "       rating_denominator  \n",
       "count         2356.000000  \n",
       "mean            10.455433  \n",
       "std              6.745237  \n",
       "min              0.000000  \n",
       "25%             10.000000  \n",
       "50%             10.000000  \n",
       "75%             10.000000  \n",
       "max            170.000000  "
      ],
      "text/html": "<div>\n<style scoped>\n    .dataframe tbody tr th:only-of-type {\n        vertical-align: middle;\n    }\n\n    .dataframe tbody tr th {\n        vertical-align: top;\n    }\n\n    .dataframe thead th {\n        text-align: right;\n    }\n</style>\n<table border=\"1\" class=\"dataframe\">\n  <thead>\n    <tr style=\"text-align: right;\">\n      <th></th>\n      <th>tweet_id</th>\n      <th>in_reply_to_status_id</th>\n      <th>in_reply_to_user_id</th>\n      <th>retweeted_status_id</th>\n      <th>retweeted_status_user_id</th>\n      <th>rating_numerator</th>\n      <th>rating_denominator</th>\n    </tr>\n  </thead>\n  <tbody>\n    <tr>\n      <th>count</th>\n      <td>2.356000e+03</td>\n      <td>7.800000e+01</td>\n      <td>7.800000e+01</td>\n      <td>1.810000e+02</td>\n      <td>1.810000e+02</td>\n      <td>2356.000000</td>\n      <td>2356.000000</td>\n    </tr>\n    <tr>\n      <th>mean</th>\n      <td>7.427716e+17</td>\n      <td>7.455079e+17</td>\n      <td>2.014171e+16</td>\n      <td>7.720400e+17</td>\n      <td>1.241698e+16</td>\n      <td>13.126486</td>\n      <td>10.455433</td>\n    </tr>\n    <tr>\n      <th>std</th>\n      <td>6.856705e+16</td>\n      <td>7.582492e+16</td>\n      <td>1.252797e+17</td>\n      <td>6.236928e+16</td>\n      <td>9.599254e+16</td>\n      <td>45.876648</td>\n      <td>6.745237</td>\n    </tr>\n    <tr>\n      <th>min</th>\n      <td>6.660209e+17</td>\n      <td>6.658147e+17</td>\n      <td>1.185634e+07</td>\n      <td>6.661041e+17</td>\n      <td>7.832140e+05</td>\n      <td>0.000000</td>\n      <td>0.000000</td>\n    </tr>\n    <tr>\n      <th>25%</th>\n      <td>6.783989e+17</td>\n      <td>6.757419e+17</td>\n      <td>3.086374e+08</td>\n      <td>7.186315e+17</td>\n      <td>4.196984e+09</td>\n      <td>10.000000</td>\n      <td>10.000000</td>\n    </tr>\n    <tr>\n      <th>50%</th>\n      <td>7.196279e+17</td>\n      <td>7.038708e+17</td>\n      <td>4.196984e+09</td>\n      <td>7.804657e+17</td>\n      <td>4.196984e+09</td>\n      <td>11.000000</td>\n      <td>10.000000</td>\n    </tr>\n    <tr>\n      <th>75%</th>\n      <td>7.993373e+17</td>\n      <td>8.257804e+17</td>\n      <td>4.196984e+09</td>\n      <td>8.203146e+17</td>\n      <td>4.196984e+09</td>\n      <td>12.000000</td>\n      <td>10.000000</td>\n    </tr>\n    <tr>\n      <th>max</th>\n      <td>8.924206e+17</td>\n      <td>8.862664e+17</td>\n      <td>8.405479e+17</td>\n      <td>8.874740e+17</td>\n      <td>7.874618e+17</td>\n      <td>1776.000000</td>\n      <td>170.000000</td>\n    </tr>\n  </tbody>\n</table>\n</div>"
     },
     "metadata": {},
     "execution_count": 564
    }
   ],
   "source": [
    "df_twitter_archive_enhanced.describe()"
   ]
  },
  {
   "cell_type": "code",
   "execution_count": 565,
   "metadata": {},
   "outputs": [
    {
     "output_type": "execute_result",
     "data": {
      "text/plain": [
       "           tweet_id      img_num      p1_conf       p2_conf       p3_conf\n",
       "count  2.075000e+03  2075.000000  2075.000000  2.075000e+03  2.075000e+03\n",
       "mean   7.384514e+17     1.203855     0.594548  1.345886e-01  6.032417e-02\n",
       "std    6.785203e+16     0.561875     0.271174  1.006657e-01  5.090593e-02\n",
       "min    6.660209e+17     1.000000     0.044333  1.011300e-08  1.740170e-10\n",
       "25%    6.764835e+17     1.000000     0.364412  5.388625e-02  1.622240e-02\n",
       "50%    7.119988e+17     1.000000     0.588230  1.181810e-01  4.944380e-02\n",
       "75%    7.932034e+17     1.000000     0.843855  1.955655e-01  9.180755e-02\n",
       "max    8.924206e+17     4.000000     1.000000  4.880140e-01  2.734190e-01"
      ],
      "text/html": "<div>\n<style scoped>\n    .dataframe tbody tr th:only-of-type {\n        vertical-align: middle;\n    }\n\n    .dataframe tbody tr th {\n        vertical-align: top;\n    }\n\n    .dataframe thead th {\n        text-align: right;\n    }\n</style>\n<table border=\"1\" class=\"dataframe\">\n  <thead>\n    <tr style=\"text-align: right;\">\n      <th></th>\n      <th>tweet_id</th>\n      <th>img_num</th>\n      <th>p1_conf</th>\n      <th>p2_conf</th>\n      <th>p3_conf</th>\n    </tr>\n  </thead>\n  <tbody>\n    <tr>\n      <th>count</th>\n      <td>2.075000e+03</td>\n      <td>2075.000000</td>\n      <td>2075.000000</td>\n      <td>2.075000e+03</td>\n      <td>2.075000e+03</td>\n    </tr>\n    <tr>\n      <th>mean</th>\n      <td>7.384514e+17</td>\n      <td>1.203855</td>\n      <td>0.594548</td>\n      <td>1.345886e-01</td>\n      <td>6.032417e-02</td>\n    </tr>\n    <tr>\n      <th>std</th>\n      <td>6.785203e+16</td>\n      <td>0.561875</td>\n      <td>0.271174</td>\n      <td>1.006657e-01</td>\n      <td>5.090593e-02</td>\n    </tr>\n    <tr>\n      <th>min</th>\n      <td>6.660209e+17</td>\n      <td>1.000000</td>\n      <td>0.044333</td>\n      <td>1.011300e-08</td>\n      <td>1.740170e-10</td>\n    </tr>\n    <tr>\n      <th>25%</th>\n      <td>6.764835e+17</td>\n      <td>1.000000</td>\n      <td>0.364412</td>\n      <td>5.388625e-02</td>\n      <td>1.622240e-02</td>\n    </tr>\n    <tr>\n      <th>50%</th>\n      <td>7.119988e+17</td>\n      <td>1.000000</td>\n      <td>0.588230</td>\n      <td>1.181810e-01</td>\n      <td>4.944380e-02</td>\n    </tr>\n    <tr>\n      <th>75%</th>\n      <td>7.932034e+17</td>\n      <td>1.000000</td>\n      <td>0.843855</td>\n      <td>1.955655e-01</td>\n      <td>9.180755e-02</td>\n    </tr>\n    <tr>\n      <th>max</th>\n      <td>8.924206e+17</td>\n      <td>4.000000</td>\n      <td>1.000000</td>\n      <td>4.880140e-01</td>\n      <td>2.734190e-01</td>\n    </tr>\n  </tbody>\n</table>\n</div>"
     },
     "metadata": {},
     "execution_count": 565
    }
   ],
   "source": [
    "df_image_predictions.describe()"
   ]
  },
  {
   "cell_type": "code",
   "execution_count": 566,
   "metadata": {},
   "outputs": [
    {
     "output_type": "execute_result",
     "data": {
      "text/plain": [
       "           tweet_id  retweet_count  favorite_count    user_count\n",
       "count  2.354000e+03    2354.000000     2354.000000  2.354000e+03\n",
       "mean   7.426978e+17    3164.797366     8080.968564  3.200942e+06\n",
       "std    6.852812e+16    5284.770364    11814.771334  4.457302e+01\n",
       "min    6.660209e+17       0.000000        0.000000  3.200799e+06\n",
       "25%    6.783975e+17     624.500000     1415.000000  3.200898e+06\n",
       "50%    7.194596e+17    1473.500000     3603.500000  3.200945e+06\n",
       "75%    7.993058e+17    3652.000000    10122.250000  3.200953e+06\n",
       "max    8.924206e+17   79515.000000   132810.000000  3.201018e+06"
      ],
      "text/html": "<div>\n<style scoped>\n    .dataframe tbody tr th:only-of-type {\n        vertical-align: middle;\n    }\n\n    .dataframe tbody tr th {\n        vertical-align: top;\n    }\n\n    .dataframe thead th {\n        text-align: right;\n    }\n</style>\n<table border=\"1\" class=\"dataframe\">\n  <thead>\n    <tr style=\"text-align: right;\">\n      <th></th>\n      <th>tweet_id</th>\n      <th>retweet_count</th>\n      <th>favorite_count</th>\n      <th>user_count</th>\n    </tr>\n  </thead>\n  <tbody>\n    <tr>\n      <th>count</th>\n      <td>2.354000e+03</td>\n      <td>2354.000000</td>\n      <td>2354.000000</td>\n      <td>2.354000e+03</td>\n    </tr>\n    <tr>\n      <th>mean</th>\n      <td>7.426978e+17</td>\n      <td>3164.797366</td>\n      <td>8080.968564</td>\n      <td>3.200942e+06</td>\n    </tr>\n    <tr>\n      <th>std</th>\n      <td>6.852812e+16</td>\n      <td>5284.770364</td>\n      <td>11814.771334</td>\n      <td>4.457302e+01</td>\n    </tr>\n    <tr>\n      <th>min</th>\n      <td>6.660209e+17</td>\n      <td>0.000000</td>\n      <td>0.000000</td>\n      <td>3.200799e+06</td>\n    </tr>\n    <tr>\n      <th>25%</th>\n      <td>6.783975e+17</td>\n      <td>624.500000</td>\n      <td>1415.000000</td>\n      <td>3.200898e+06</td>\n    </tr>\n    <tr>\n      <th>50%</th>\n      <td>7.194596e+17</td>\n      <td>1473.500000</td>\n      <td>3603.500000</td>\n      <td>3.200945e+06</td>\n    </tr>\n    <tr>\n      <th>75%</th>\n      <td>7.993058e+17</td>\n      <td>3652.000000</td>\n      <td>10122.250000</td>\n      <td>3.200953e+06</td>\n    </tr>\n    <tr>\n      <th>max</th>\n      <td>8.924206e+17</td>\n      <td>79515.000000</td>\n      <td>132810.000000</td>\n      <td>3.201018e+06</td>\n    </tr>\n  </tbody>\n</table>\n</div>"
     },
     "metadata": {},
     "execution_count": 566
    }
   ],
   "source": [
    "api_df_now.describe()"
   ]
  },
  {
   "cell_type": "code",
   "execution_count": 567,
   "metadata": {},
   "outputs": [
    {
     "output_type": "execute_result",
     "data": {
      "text/plain": [
       "                tweet_id  in_reply_to_status_id  in_reply_to_user_id  \\\n",
       "2113  670434127938719744                    NaN                  NaN   \n",
       "1965  673345638550134785                    NaN                  NaN   \n",
       "2259  667550904950915073                    NaN                  NaN   \n",
       "1834  676121918416756736                    NaN                  NaN   \n",
       "465   817181837579653120                    NaN                  NaN   \n",
       "1220  714606013974974464                    NaN                  NaN   \n",
       "2046  671520732782923777                    NaN                  NaN   \n",
       "2234  668190681446379520                    NaN                  NaN   \n",
       "955   751598357617971201                    NaN                  NaN   \n",
       "906   758041019896193024                    NaN                  NaN   \n",
       "\n",
       "                      timestamp  \\\n",
       "2113  2015-11-28 02:48:46 +0000   \n",
       "1965  2015-12-06 03:38:05 +0000   \n",
       "2259  2015-11-20 03:51:52 +0000   \n",
       "1834  2015-12-13 19:30:01 +0000   \n",
       "465   2017-01-06 01:31:47 +0000   \n",
       "1220  2016-03-29 00:12:05 +0000   \n",
       "2046  2015-12-01 02:46:33 +0000   \n",
       "2234  2015-11-21 22:14:07 +0000   \n",
       "955   2016-07-09 02:06:27 +0000   \n",
       "906   2016-07-26 20:47:17 +0000   \n",
       "\n",
       "                                                 source  \\\n",
       "2113  <a href=\"http://twitter.com/download/iphone\" r...   \n",
       "1965  <a href=\"http://twitter.com/download/iphone\" r...   \n",
       "2259  <a href=\"http://twitter.com\" rel=\"nofollow\">Tw...   \n",
       "1834  <a href=\"http://vine.co\" rel=\"nofollow\">Vine -...   \n",
       "465   <a href=\"http://twitter.com/download/iphone\" r...   \n",
       "1220  <a href=\"http://twitter.com/download/iphone\" r...   \n",
       "2046  <a href=\"http://twitter.com/download/iphone\" r...   \n",
       "2234  <a href=\"http://twitter.com/download/iphone\" r...   \n",
       "955   <a href=\"http://twitter.com/download/iphone\" r...   \n",
       "906   <a href=\"http://twitter.com/download/iphone\" r...   \n",
       "\n",
       "                                                   text  retweeted_status_id  \\\n",
       "2113  Meet Hank and Sully. Hank is very proud of the...                  NaN   \n",
       "1965  This is Gerald. He's a fluffy lil yellow pup. ...                  NaN   \n",
       "2259  RT @dogratingrating: Exceptional talent. Origi...         6.675487e+17   \n",
       "1834  Here we are witnessing a very excited dog. Cle...                  NaN   \n",
       "465   RT @dog_rates: Here's a pupper with squeaky hi...         8.159661e+17   \n",
       "1220  Here are two lil cuddly puppers. Both 12/10 wo...                  NaN   \n",
       "2046  Meet Alejandro. He's an extremely seductive pu...                  NaN   \n",
       "2234  This is Skittles. I would kidnap Skittles. Pin...                  NaN   \n",
       "955   This is Toby. A cat got his tongue. 13/10 ador...                  NaN   \n",
       "906   Teagan reads entire books in store so they're ...                  NaN   \n",
       "\n",
       "      retweeted_status_user_id retweeted_status_timestamp  \\\n",
       "2113                       NaN                        NaN   \n",
       "1965                       NaN                        NaN   \n",
       "2259              4.296832e+09  2015-11-20 03:43:06 +0000   \n",
       "1834                       NaN                        NaN   \n",
       "465               4.196984e+09  2017-01-02 17:00:46 +0000   \n",
       "1220                       NaN                        NaN   \n",
       "2046                       NaN                        NaN   \n",
       "2234                       NaN                        NaN   \n",
       "955                        NaN                        NaN   \n",
       "906                        NaN                        NaN   \n",
       "\n",
       "                                          expanded_urls  rating_numerator  \\\n",
       "2113  https://twitter.com/dog_rates/status/670434127...                11   \n",
       "1965  https://twitter.com/dog_rates/status/673345638...                 7   \n",
       "2259  https://twitter.com/dogratingrating/status/667...                12   \n",
       "1834                      https://vine.co/v/iZXg7VpeDAv                 8   \n",
       "465   https://twitter.com/dog_rates/status/815966073...                13   \n",
       "1220  https://twitter.com/dog_rates/status/714606013...                12   \n",
       "2046  https://twitter.com/dog_rates/status/671520732...                10   \n",
       "2234  https://twitter.com/dog_rates/status/668190681...                12   \n",
       "955   https://twitter.com/dog_rates/status/751598357...                13   \n",
       "906   https://twitter.com/dog_rates/status/758041019...                 9   \n",
       "\n",
       "      rating_denominator       name doggo floofer  pupper puppo  \n",
       "2113                  10       Hank  None    None    None  None  \n",
       "1965                  10     Gerald  None    None    None  None  \n",
       "2259                  10       None  None    None    None  None  \n",
       "1834                  10       None  None    None    None  None  \n",
       "465                   10       None  None    None  pupper  None  \n",
       "1220                  10       None  None    None    None  None  \n",
       "2046                  10  Alejandro  None    None    None  None  \n",
       "2234                  10   Skittles  None    None    None  None  \n",
       "955                   10       Toby  None    None    None  None  \n",
       "906                   10       None  None    None    None  None  "
      ],
      "text/html": "<div>\n<style scoped>\n    .dataframe tbody tr th:only-of-type {\n        vertical-align: middle;\n    }\n\n    .dataframe tbody tr th {\n        vertical-align: top;\n    }\n\n    .dataframe thead th {\n        text-align: right;\n    }\n</style>\n<table border=\"1\" class=\"dataframe\">\n  <thead>\n    <tr style=\"text-align: right;\">\n      <th></th>\n      <th>tweet_id</th>\n      <th>in_reply_to_status_id</th>\n      <th>in_reply_to_user_id</th>\n      <th>timestamp</th>\n      <th>source</th>\n      <th>text</th>\n      <th>retweeted_status_id</th>\n      <th>retweeted_status_user_id</th>\n      <th>retweeted_status_timestamp</th>\n      <th>expanded_urls</th>\n      <th>rating_numerator</th>\n      <th>rating_denominator</th>\n      <th>name</th>\n      <th>doggo</th>\n      <th>floofer</th>\n      <th>pupper</th>\n      <th>puppo</th>\n    </tr>\n  </thead>\n  <tbody>\n    <tr>\n      <th>2113</th>\n      <td>670434127938719744</td>\n      <td>NaN</td>\n      <td>NaN</td>\n      <td>2015-11-28 02:48:46 +0000</td>\n      <td>&lt;a href=\"http://twitter.com/download/iphone\" r...</td>\n      <td>Meet Hank and Sully. Hank is very proud of the...</td>\n      <td>NaN</td>\n      <td>NaN</td>\n      <td>NaN</td>\n      <td>https://twitter.com/dog_rates/status/670434127...</td>\n      <td>11</td>\n      <td>10</td>\n      <td>Hank</td>\n      <td>None</td>\n      <td>None</td>\n      <td>None</td>\n      <td>None</td>\n    </tr>\n    <tr>\n      <th>1965</th>\n      <td>673345638550134785</td>\n      <td>NaN</td>\n      <td>NaN</td>\n      <td>2015-12-06 03:38:05 +0000</td>\n      <td>&lt;a href=\"http://twitter.com/download/iphone\" r...</td>\n      <td>This is Gerald. He's a fluffy lil yellow pup. ...</td>\n      <td>NaN</td>\n      <td>NaN</td>\n      <td>NaN</td>\n      <td>https://twitter.com/dog_rates/status/673345638...</td>\n      <td>7</td>\n      <td>10</td>\n      <td>Gerald</td>\n      <td>None</td>\n      <td>None</td>\n      <td>None</td>\n      <td>None</td>\n    </tr>\n    <tr>\n      <th>2259</th>\n      <td>667550904950915073</td>\n      <td>NaN</td>\n      <td>NaN</td>\n      <td>2015-11-20 03:51:52 +0000</td>\n      <td>&lt;a href=\"http://twitter.com\" rel=\"nofollow\"&gt;Tw...</td>\n      <td>RT @dogratingrating: Exceptional talent. Origi...</td>\n      <td>6.675487e+17</td>\n      <td>4.296832e+09</td>\n      <td>2015-11-20 03:43:06 +0000</td>\n      <td>https://twitter.com/dogratingrating/status/667...</td>\n      <td>12</td>\n      <td>10</td>\n      <td>None</td>\n      <td>None</td>\n      <td>None</td>\n      <td>None</td>\n      <td>None</td>\n    </tr>\n    <tr>\n      <th>1834</th>\n      <td>676121918416756736</td>\n      <td>NaN</td>\n      <td>NaN</td>\n      <td>2015-12-13 19:30:01 +0000</td>\n      <td>&lt;a href=\"http://vine.co\" rel=\"nofollow\"&gt;Vine -...</td>\n      <td>Here we are witnessing a very excited dog. Cle...</td>\n      <td>NaN</td>\n      <td>NaN</td>\n      <td>NaN</td>\n      <td>https://vine.co/v/iZXg7VpeDAv</td>\n      <td>8</td>\n      <td>10</td>\n      <td>None</td>\n      <td>None</td>\n      <td>None</td>\n      <td>None</td>\n      <td>None</td>\n    </tr>\n    <tr>\n      <th>465</th>\n      <td>817181837579653120</td>\n      <td>NaN</td>\n      <td>NaN</td>\n      <td>2017-01-06 01:31:47 +0000</td>\n      <td>&lt;a href=\"http://twitter.com/download/iphone\" r...</td>\n      <td>RT @dog_rates: Here's a pupper with squeaky hi...</td>\n      <td>8.159661e+17</td>\n      <td>4.196984e+09</td>\n      <td>2017-01-02 17:00:46 +0000</td>\n      <td>https://twitter.com/dog_rates/status/815966073...</td>\n      <td>13</td>\n      <td>10</td>\n      <td>None</td>\n      <td>None</td>\n      <td>None</td>\n      <td>pupper</td>\n      <td>None</td>\n    </tr>\n    <tr>\n      <th>1220</th>\n      <td>714606013974974464</td>\n      <td>NaN</td>\n      <td>NaN</td>\n      <td>2016-03-29 00:12:05 +0000</td>\n      <td>&lt;a href=\"http://twitter.com/download/iphone\" r...</td>\n      <td>Here are two lil cuddly puppers. Both 12/10 wo...</td>\n      <td>NaN</td>\n      <td>NaN</td>\n      <td>NaN</td>\n      <td>https://twitter.com/dog_rates/status/714606013...</td>\n      <td>12</td>\n      <td>10</td>\n      <td>None</td>\n      <td>None</td>\n      <td>None</td>\n      <td>None</td>\n      <td>None</td>\n    </tr>\n    <tr>\n      <th>2046</th>\n      <td>671520732782923777</td>\n      <td>NaN</td>\n      <td>NaN</td>\n      <td>2015-12-01 02:46:33 +0000</td>\n      <td>&lt;a href=\"http://twitter.com/download/iphone\" r...</td>\n      <td>Meet Alejandro. He's an extremely seductive pu...</td>\n      <td>NaN</td>\n      <td>NaN</td>\n      <td>NaN</td>\n      <td>https://twitter.com/dog_rates/status/671520732...</td>\n      <td>10</td>\n      <td>10</td>\n      <td>Alejandro</td>\n      <td>None</td>\n      <td>None</td>\n      <td>None</td>\n      <td>None</td>\n    </tr>\n    <tr>\n      <th>2234</th>\n      <td>668190681446379520</td>\n      <td>NaN</td>\n      <td>NaN</td>\n      <td>2015-11-21 22:14:07 +0000</td>\n      <td>&lt;a href=\"http://twitter.com/download/iphone\" r...</td>\n      <td>This is Skittles. I would kidnap Skittles. Pin...</td>\n      <td>NaN</td>\n      <td>NaN</td>\n      <td>NaN</td>\n      <td>https://twitter.com/dog_rates/status/668190681...</td>\n      <td>12</td>\n      <td>10</td>\n      <td>Skittles</td>\n      <td>None</td>\n      <td>None</td>\n      <td>None</td>\n      <td>None</td>\n    </tr>\n    <tr>\n      <th>955</th>\n      <td>751598357617971201</td>\n      <td>NaN</td>\n      <td>NaN</td>\n      <td>2016-07-09 02:06:27 +0000</td>\n      <td>&lt;a href=\"http://twitter.com/download/iphone\" r...</td>\n      <td>This is Toby. A cat got his tongue. 13/10 ador...</td>\n      <td>NaN</td>\n      <td>NaN</td>\n      <td>NaN</td>\n      <td>https://twitter.com/dog_rates/status/751598357...</td>\n      <td>13</td>\n      <td>10</td>\n      <td>Toby</td>\n      <td>None</td>\n      <td>None</td>\n      <td>None</td>\n      <td>None</td>\n    </tr>\n    <tr>\n      <th>906</th>\n      <td>758041019896193024</td>\n      <td>NaN</td>\n      <td>NaN</td>\n      <td>2016-07-26 20:47:17 +0000</td>\n      <td>&lt;a href=\"http://twitter.com/download/iphone\" r...</td>\n      <td>Teagan reads entire books in store so they're ...</td>\n      <td>NaN</td>\n      <td>NaN</td>\n      <td>NaN</td>\n      <td>https://twitter.com/dog_rates/status/758041019...</td>\n      <td>9</td>\n      <td>10</td>\n      <td>None</td>\n      <td>None</td>\n      <td>None</td>\n      <td>None</td>\n      <td>None</td>\n    </tr>\n  </tbody>\n</table>\n</div>"
     },
     "metadata": {},
     "execution_count": 567
    }
   ],
   "source": [
    "df_twitter_archive_enhanced.sample(10)"
   ]
  },
  {
   "cell_type": "code",
   "execution_count": 569,
   "metadata": {},
   "outputs": [
    {
     "output_type": "execute_result",
     "data": {
      "text/plain": [
       "                tweet_id                                          jpg_url  \\\n",
       "1758  825535076884762624  https://pbs.twimg.com/media/C3TjvitXAAAI-QH.jpg   \n",
       "656   682259524040966145  https://pbs.twimg.com/media/CXffar9WYAArfpw.jpg   \n",
       "1028  710997087345876993  https://pbs.twimg.com/media/Cd34FClUMAAnvGP.jpg   \n",
       "1685  814530161257443328  https://pbs.twimg.com/media/C03K2-VWIAAK1iV.jpg   \n",
       "1929  858471635011153920  https://pbs.twimg.com/media/C-nnZBdXkAAB-wg.jpg   \n",
       "186   669363888236994561  https://pbs.twimg.com/media/CUoO1TLWsAA0Z3w.jpg   \n",
       "105   667861340749471744  https://pbs.twimg.com/media/CUS4WJ-UsAEJj10.jpg   \n",
       "213   670040295598354432  https://pbs.twimg.com/media/CUx2F6lVEAAvFev.jpg   \n",
       "901   700002074055016451  https://pbs.twimg.com/media/CbboKP4WIAAw8xq.jpg   \n",
       "1305  753375668877008896  https://pbs.twimg.com/media/CnSHLFeWgAAwV-I.jpg   \n",
       "\n",
       "      img_num                p1   p1_conf  p1_dog               p2   p2_conf  \\\n",
       "1758        1        Rottweiler  0.681495    True  Tibetan_mastiff  0.147940   \n",
       "656         1    Siberian_husky  0.439670    True       Eskimo_dog  0.340474   \n",
       "1028        1          malamute  0.281260    True       Eskimo_dog  0.232641   \n",
       "1685        1  miniature_poodle  0.626913    True       toy_poodle  0.265582   \n",
       "1929        1          Pembroke  0.987407    True         Cardigan  0.008723   \n",
       "186         1  golden_retriever  0.539004    True     Irish_setter  0.406550   \n",
       "105         1          malamute  0.967275    True   Siberian_husky  0.016168   \n",
       "213         1          web_site  0.901552   False           borzoi  0.026660   \n",
       "901         1         Chihuahua  0.369488    True       schipperke  0.243367   \n",
       "1305        1          bluetick  0.360071    True           crutch  0.134816   \n",
       "\n",
       "      p2_dog                           p3   p3_conf  p3_dog  \n",
       "1758    True      black-and-tan_coonhound  0.024525    True  \n",
       "656     True                     malamute  0.101253    True  \n",
       "1028    True                     Pembroke  0.091602    True  \n",
       "1685    True  soft-coated_wheaten_terrier  0.041614    True  \n",
       "1929    True                      basenji  0.003424    True  \n",
       "186     True               cocker_spaniel  0.041484    True  \n",
       "105     True                   Eskimo_dog  0.011277    True  \n",
       "213     True                    Chihuahua  0.012438    True  \n",
       "901     True                          pug  0.161614    True  \n",
       "1305   False                       tripod  0.098207   False  "
      ],
      "text/html": "<div>\n<style scoped>\n    .dataframe tbody tr th:only-of-type {\n        vertical-align: middle;\n    }\n\n    .dataframe tbody tr th {\n        vertical-align: top;\n    }\n\n    .dataframe thead th {\n        text-align: right;\n    }\n</style>\n<table border=\"1\" class=\"dataframe\">\n  <thead>\n    <tr style=\"text-align: right;\">\n      <th></th>\n      <th>tweet_id</th>\n      <th>jpg_url</th>\n      <th>img_num</th>\n      <th>p1</th>\n      <th>p1_conf</th>\n      <th>p1_dog</th>\n      <th>p2</th>\n      <th>p2_conf</th>\n      <th>p2_dog</th>\n      <th>p3</th>\n      <th>p3_conf</th>\n      <th>p3_dog</th>\n    </tr>\n  </thead>\n  <tbody>\n    <tr>\n      <th>1758</th>\n      <td>825535076884762624</td>\n      <td>https://pbs.twimg.com/media/C3TjvitXAAAI-QH.jpg</td>\n      <td>1</td>\n      <td>Rottweiler</td>\n      <td>0.681495</td>\n      <td>True</td>\n      <td>Tibetan_mastiff</td>\n      <td>0.147940</td>\n      <td>True</td>\n      <td>black-and-tan_coonhound</td>\n      <td>0.024525</td>\n      <td>True</td>\n    </tr>\n    <tr>\n      <th>656</th>\n      <td>682259524040966145</td>\n      <td>https://pbs.twimg.com/media/CXffar9WYAArfpw.jpg</td>\n      <td>1</td>\n      <td>Siberian_husky</td>\n      <td>0.439670</td>\n      <td>True</td>\n      <td>Eskimo_dog</td>\n      <td>0.340474</td>\n      <td>True</td>\n      <td>malamute</td>\n      <td>0.101253</td>\n      <td>True</td>\n    </tr>\n    <tr>\n      <th>1028</th>\n      <td>710997087345876993</td>\n      <td>https://pbs.twimg.com/media/Cd34FClUMAAnvGP.jpg</td>\n      <td>1</td>\n      <td>malamute</td>\n      <td>0.281260</td>\n      <td>True</td>\n      <td>Eskimo_dog</td>\n      <td>0.232641</td>\n      <td>True</td>\n      <td>Pembroke</td>\n      <td>0.091602</td>\n      <td>True</td>\n    </tr>\n    <tr>\n      <th>1685</th>\n      <td>814530161257443328</td>\n      <td>https://pbs.twimg.com/media/C03K2-VWIAAK1iV.jpg</td>\n      <td>1</td>\n      <td>miniature_poodle</td>\n      <td>0.626913</td>\n      <td>True</td>\n      <td>toy_poodle</td>\n      <td>0.265582</td>\n      <td>True</td>\n      <td>soft-coated_wheaten_terrier</td>\n      <td>0.041614</td>\n      <td>True</td>\n    </tr>\n    <tr>\n      <th>1929</th>\n      <td>858471635011153920</td>\n      <td>https://pbs.twimg.com/media/C-nnZBdXkAAB-wg.jpg</td>\n      <td>1</td>\n      <td>Pembroke</td>\n      <td>0.987407</td>\n      <td>True</td>\n      <td>Cardigan</td>\n      <td>0.008723</td>\n      <td>True</td>\n      <td>basenji</td>\n      <td>0.003424</td>\n      <td>True</td>\n    </tr>\n    <tr>\n      <th>186</th>\n      <td>669363888236994561</td>\n      <td>https://pbs.twimg.com/media/CUoO1TLWsAA0Z3w.jpg</td>\n      <td>1</td>\n      <td>golden_retriever</td>\n      <td>0.539004</td>\n      <td>True</td>\n      <td>Irish_setter</td>\n      <td>0.406550</td>\n      <td>True</td>\n      <td>cocker_spaniel</td>\n      <td>0.041484</td>\n      <td>True</td>\n    </tr>\n    <tr>\n      <th>105</th>\n      <td>667861340749471744</td>\n      <td>https://pbs.twimg.com/media/CUS4WJ-UsAEJj10.jpg</td>\n      <td>1</td>\n      <td>malamute</td>\n      <td>0.967275</td>\n      <td>True</td>\n      <td>Siberian_husky</td>\n      <td>0.016168</td>\n      <td>True</td>\n      <td>Eskimo_dog</td>\n      <td>0.011277</td>\n      <td>True</td>\n    </tr>\n    <tr>\n      <th>213</th>\n      <td>670040295598354432</td>\n      <td>https://pbs.twimg.com/media/CUx2F6lVEAAvFev.jpg</td>\n      <td>1</td>\n      <td>web_site</td>\n      <td>0.901552</td>\n      <td>False</td>\n      <td>borzoi</td>\n      <td>0.026660</td>\n      <td>True</td>\n      <td>Chihuahua</td>\n      <td>0.012438</td>\n      <td>True</td>\n    </tr>\n    <tr>\n      <th>901</th>\n      <td>700002074055016451</td>\n      <td>https://pbs.twimg.com/media/CbboKP4WIAAw8xq.jpg</td>\n      <td>1</td>\n      <td>Chihuahua</td>\n      <td>0.369488</td>\n      <td>True</td>\n      <td>schipperke</td>\n      <td>0.243367</td>\n      <td>True</td>\n      <td>pug</td>\n      <td>0.161614</td>\n      <td>True</td>\n    </tr>\n    <tr>\n      <th>1305</th>\n      <td>753375668877008896</td>\n      <td>https://pbs.twimg.com/media/CnSHLFeWgAAwV-I.jpg</td>\n      <td>1</td>\n      <td>bluetick</td>\n      <td>0.360071</td>\n      <td>True</td>\n      <td>crutch</td>\n      <td>0.134816</td>\n      <td>False</td>\n      <td>tripod</td>\n      <td>0.098207</td>\n      <td>False</td>\n    </tr>\n  </tbody>\n</table>\n</div>"
     },
     "metadata": {},
     "execution_count": 569
    }
   ],
   "source": [
    "df_image_predictions.sample(10)"
   ]
  },
  {
   "cell_type": "code",
   "execution_count": 570,
   "metadata": {},
   "outputs": [
    {
     "output_type": "execute_result",
     "data": {
      "text/plain": [
       "                tweet_id  retweet_count  favorite_count  user_count\n",
       "270   841077006473256960           5991           24926     3200891\n",
       "2130  670079681849372674           1373            2390     3201010\n",
       "1654  683357973142474752           1059            3238     3200952\n",
       "3     891689557279858688           8964           42908     3200889\n",
       "1935  673919437611909120            401            1251     3201004\n",
       "1471  693647888581312512            673            2961     3200950\n",
       "193   855245323840757760           6568               0     3200891\n",
       "283   838921590096166913           2357           12183     3200891\n",
       "365   828801551087042563           3901               0     3200892\n",
       "1872  675135153782571009            542            1398     3201003"
      ],
      "text/html": "<div>\n<style scoped>\n    .dataframe tbody tr th:only-of-type {\n        vertical-align: middle;\n    }\n\n    .dataframe tbody tr th {\n        vertical-align: top;\n    }\n\n    .dataframe thead th {\n        text-align: right;\n    }\n</style>\n<table border=\"1\" class=\"dataframe\">\n  <thead>\n    <tr style=\"text-align: right;\">\n      <th></th>\n      <th>tweet_id</th>\n      <th>retweet_count</th>\n      <th>favorite_count</th>\n      <th>user_count</th>\n    </tr>\n  </thead>\n  <tbody>\n    <tr>\n      <th>270</th>\n      <td>841077006473256960</td>\n      <td>5991</td>\n      <td>24926</td>\n      <td>3200891</td>\n    </tr>\n    <tr>\n      <th>2130</th>\n      <td>670079681849372674</td>\n      <td>1373</td>\n      <td>2390</td>\n      <td>3201010</td>\n    </tr>\n    <tr>\n      <th>1654</th>\n      <td>683357973142474752</td>\n      <td>1059</td>\n      <td>3238</td>\n      <td>3200952</td>\n    </tr>\n    <tr>\n      <th>3</th>\n      <td>891689557279858688</td>\n      <td>8964</td>\n      <td>42908</td>\n      <td>3200889</td>\n    </tr>\n    <tr>\n      <th>1935</th>\n      <td>673919437611909120</td>\n      <td>401</td>\n      <td>1251</td>\n      <td>3201004</td>\n    </tr>\n    <tr>\n      <th>1471</th>\n      <td>693647888581312512</td>\n      <td>673</td>\n      <td>2961</td>\n      <td>3200950</td>\n    </tr>\n    <tr>\n      <th>193</th>\n      <td>855245323840757760</td>\n      <td>6568</td>\n      <td>0</td>\n      <td>3200891</td>\n    </tr>\n    <tr>\n      <th>283</th>\n      <td>838921590096166913</td>\n      <td>2357</td>\n      <td>12183</td>\n      <td>3200891</td>\n    </tr>\n    <tr>\n      <th>365</th>\n      <td>828801551087042563</td>\n      <td>3901</td>\n      <td>0</td>\n      <td>3200892</td>\n    </tr>\n    <tr>\n      <th>1872</th>\n      <td>675135153782571009</td>\n      <td>542</td>\n      <td>1398</td>\n      <td>3201003</td>\n    </tr>\n  </tbody>\n</table>\n</div>"
     },
     "metadata": {},
     "execution_count": 570
    }
   ],
   "source": [
    "api_df_now.sample(10)"
   ]
  },
  {
   "cell_type": "code",
   "execution_count": 571,
   "metadata": {},
   "outputs": [
    {
     "output_type": "execute_result",
     "data": {
      "text/plain": [
       "None          745\n",
       "a              55\n",
       "Charlie        12\n",
       "Lucy           11\n",
       "Cooper         11\n",
       "             ... \n",
       "Timmy           1\n",
       "Jeffri          1\n",
       "Dwight          1\n",
       "officially      1\n",
       "Arlen           1\n",
       "Name: name, Length: 957, dtype: int64"
      ]
     },
     "metadata": {},
     "execution_count": 571
    }
   ],
   "source": [
    "df_twitter_archive_enhanced['name'].value_counts()"
   ]
  },
  {
   "cell_type": "code",
   "execution_count": 572,
   "metadata": {},
   "outputs": [
    {
     "output_type": "execute_result",
     "data": {
      "text/plain": [
       "313       0\n",
       "342      15\n",
       "433      70\n",
       "516       7\n",
       "784      11\n",
       "902     150\n",
       "1068     11\n",
       "1120    170\n",
       "1165     20\n",
       "1202     50\n",
       "1228     90\n",
       "1254     80\n",
       "1274     50\n",
       "1351     50\n",
       "1433     40\n",
       "1598     20\n",
       "1634    130\n",
       "1635    110\n",
       "1662     11\n",
       "1663     16\n",
       "1779    120\n",
       "1843     80\n",
       "2335      2\n",
       "Name: rating_denominator, dtype: int64"
      ]
     },
     "metadata": {},
     "execution_count": 572
    }
   ],
   "source": [
    "df_twitter_archive_enhanced.query('rating_denominator != 10')['rating_denominator']"
   ]
  },
  {
   "cell_type": "code",
   "execution_count": 573,
   "metadata": {},
   "outputs": [
    {
     "output_type": "execute_result",
     "data": {
      "text/plain": [
       "50     3\n",
       "11     3\n",
       "20     2\n",
       "80     2\n",
       "90     1\n",
       "40     1\n",
       "130    1\n",
       "2      1\n",
       "70     1\n",
       "7      1\n",
       "110    1\n",
       "170    1\n",
       "120    1\n",
       "15     1\n",
       "16     1\n",
       "150    1\n",
       "0      1\n",
       "Name: rating_denominator, dtype: int64"
      ]
     },
     "metadata": {},
     "execution_count": 573
    }
   ],
   "source": [
    "df_twitter_archive_enhanced.query('rating_denominator != 10')['rating_denominator'].value_counts()"
   ]
  },
  {
   "cell_type": "code",
   "execution_count": 574,
   "metadata": {},
   "outputs": [
    {
     "output_type": "execute_result",
     "data": {
      "text/plain": [
       "23"
      ]
     },
     "metadata": {},
     "execution_count": 574
    }
   ],
   "source": [
    "df_twitter_archive_enhanced.query('rating_denominator != 10')['rating_denominator'].value_counts().sum()"
   ]
  },
  {
   "cell_type": "code",
   "execution_count": 548,
   "metadata": {},
   "outputs": [
    {
     "output_type": "execute_result",
     "data": {
      "text/plain": [
       "                tweet_id  in_reply_to_status_id  in_reply_to_user_id  \\\n",
       "19    888202515573088257                    NaN                  NaN   \n",
       "32    886054160059072513                    NaN                  NaN   \n",
       "36    885311592912609280                    NaN                  NaN   \n",
       "68    879130579576475649                    NaN                  NaN   \n",
       "73    878404777348136964                    NaN                  NaN   \n",
       "...                  ...                    ...                  ...   \n",
       "1023  746521445350707200                    NaN                  NaN   \n",
       "1043  743835915802583040                    NaN                  NaN   \n",
       "1242  711998809858043904                    NaN                  NaN   \n",
       "2259  667550904950915073                    NaN                  NaN   \n",
       "2260  667550882905632768                    NaN                  NaN   \n",
       "\n",
       "                      timestamp  \\\n",
       "19    2017-07-21 01:02:36 +0000   \n",
       "32    2017-07-15 02:45:48 +0000   \n",
       "36    2017-07-13 01:35:06 +0000   \n",
       "68    2017-06-26 00:13:58 +0000   \n",
       "73    2017-06-24 00:09:53 +0000   \n",
       "...                         ...   \n",
       "1023  2016-06-25 01:52:36 +0000   \n",
       "1043  2016-06-17 16:01:16 +0000   \n",
       "1242  2016-03-21 19:31:59 +0000   \n",
       "2259  2015-11-20 03:51:52 +0000   \n",
       "2260  2015-11-20 03:51:47 +0000   \n",
       "\n",
       "                                                 source  \\\n",
       "19    <a href=\"http://twitter.com/download/iphone\" r...   \n",
       "32    <a href=\"http://twitter.com/download/iphone\" r...   \n",
       "36    <a href=\"http://twitter.com/download/iphone\" r...   \n",
       "68    <a href=\"http://twitter.com/download/iphone\" r...   \n",
       "73    <a href=\"http://twitter.com/download/iphone\" r...   \n",
       "...                                                 ...   \n",
       "1023  <a href=\"http://twitter.com/download/iphone\" r...   \n",
       "1043  <a href=\"http://twitter.com/download/iphone\" r...   \n",
       "1242  <a href=\"http://twitter.com/download/iphone\" r...   \n",
       "2259  <a href=\"http://twitter.com\" rel=\"nofollow\">Tw...   \n",
       "2260  <a href=\"http://twitter.com\" rel=\"nofollow\">Tw...   \n",
       "\n",
       "                                                   text  retweeted_status_id  \\\n",
       "19    RT @dog_rates: This is Canela. She attempted s...         8.874740e+17   \n",
       "32    RT @Athletics: 12/10 #BATP https://t.co/WxwJmv...         8.860537e+17   \n",
       "36    RT @dog_rates: This is Lilly. She just paralle...         8.305833e+17   \n",
       "68    RT @dog_rates: This is Emmy. She was adopted t...         8.780576e+17   \n",
       "73    RT @dog_rates: Meet Shadow. In an attempt to r...         8.782815e+17   \n",
       "...                                                 ...                  ...   \n",
       "1023  RT @dog_rates: This is Shaggy. He knows exactl...         6.678667e+17   \n",
       "1043  RT @dog_rates: Extremely intelligent dog here....         6.671383e+17   \n",
       "1242  RT @twitter: @dog_rates Awesome Tweet! 12/10. ...         7.119983e+17   \n",
       "2259  RT @dogratingrating: Exceptional talent. Origi...         6.675487e+17   \n",
       "2260  RT @dogratingrating: Unoriginal idea. Blatant ...         6.675484e+17   \n",
       "\n",
       "      retweeted_status_user_id retweeted_status_timestamp  \\\n",
       "19                4.196984e+09  2017-07-19 00:47:34 +0000   \n",
       "32                1.960740e+07  2017-07-15 02:44:07 +0000   \n",
       "36                4.196984e+09  2017-02-12 01:04:29 +0000   \n",
       "68                4.196984e+09  2017-06-23 01:10:23 +0000   \n",
       "73                4.196984e+09  2017-06-23 16:00:04 +0000   \n",
       "...                        ...                        ...   \n",
       "1023              4.196984e+09  2015-11-21 00:46:50 +0000   \n",
       "1043              4.196984e+09  2015-11-19 00:32:12 +0000   \n",
       "1242              7.832140e+05  2016-03-21 19:29:52 +0000   \n",
       "2259              4.296832e+09  2015-11-20 03:43:06 +0000   \n",
       "2260              4.296832e+09  2015-11-20 03:41:59 +0000   \n",
       "\n",
       "                                          expanded_urls  rating_numerator  \\\n",
       "19    https://twitter.com/dog_rates/status/887473957...                13   \n",
       "32    https://twitter.com/dog_rates/status/886053434...                12   \n",
       "36    https://twitter.com/dog_rates/status/830583320...                13   \n",
       "68    https://twitter.com/dog_rates/status/878057613...                14   \n",
       "73    https://www.gofundme.com/3yd6y1c,https://twitt...                13   \n",
       "...                                                 ...               ...   \n",
       "1023  https://twitter.com/dog_rates/status/667866724...                10   \n",
       "1043  https://twitter.com/dog_rates/status/667138269...                10   \n",
       "1242  https://twitter.com/twitter/status/71199827977...                12   \n",
       "2259  https://twitter.com/dogratingrating/status/667...                12   \n",
       "2260  https://twitter.com/dogratingrating/status/667...                 5   \n",
       "\n",
       "      rating_denominator    name doggo floofer pupper puppo  \n",
       "19                    10  Canela  None    None   None  None  \n",
       "32                    10    None  None    None   None  None  \n",
       "36                    10   Lilly  None    None   None  None  \n",
       "68                    10    Emmy  None    None   None  None  \n",
       "73                    10  Shadow  None    None   None  None  \n",
       "...                  ...     ...   ...     ...    ...   ...  \n",
       "1023                  10  Shaggy  None    None   None  None  \n",
       "1043                  10    None  None    None   None  None  \n",
       "1242                  10    None  None    None   None  None  \n",
       "2259                  10    None  None    None   None  None  \n",
       "2260                  10    None  None    None   None  None  \n",
       "\n",
       "[181 rows x 17 columns]"
      ],
      "text/html": "<div>\n<style scoped>\n    .dataframe tbody tr th:only-of-type {\n        vertical-align: middle;\n    }\n\n    .dataframe tbody tr th {\n        vertical-align: top;\n    }\n\n    .dataframe thead th {\n        text-align: right;\n    }\n</style>\n<table border=\"1\" class=\"dataframe\">\n  <thead>\n    <tr style=\"text-align: right;\">\n      <th></th>\n      <th>tweet_id</th>\n      <th>in_reply_to_status_id</th>\n      <th>in_reply_to_user_id</th>\n      <th>timestamp</th>\n      <th>source</th>\n      <th>text</th>\n      <th>retweeted_status_id</th>\n      <th>retweeted_status_user_id</th>\n      <th>retweeted_status_timestamp</th>\n      <th>expanded_urls</th>\n      <th>rating_numerator</th>\n      <th>rating_denominator</th>\n      <th>name</th>\n      <th>doggo</th>\n      <th>floofer</th>\n      <th>pupper</th>\n      <th>puppo</th>\n    </tr>\n  </thead>\n  <tbody>\n    <tr>\n      <th>19</th>\n      <td>888202515573088257</td>\n      <td>NaN</td>\n      <td>NaN</td>\n      <td>2017-07-21 01:02:36 +0000</td>\n      <td>&lt;a href=\"http://twitter.com/download/iphone\" r...</td>\n      <td>RT @dog_rates: This is Canela. She attempted s...</td>\n      <td>8.874740e+17</td>\n      <td>4.196984e+09</td>\n      <td>2017-07-19 00:47:34 +0000</td>\n      <td>https://twitter.com/dog_rates/status/887473957...</td>\n      <td>13</td>\n      <td>10</td>\n      <td>Canela</td>\n      <td>None</td>\n      <td>None</td>\n      <td>None</td>\n      <td>None</td>\n    </tr>\n    <tr>\n      <th>32</th>\n      <td>886054160059072513</td>\n      <td>NaN</td>\n      <td>NaN</td>\n      <td>2017-07-15 02:45:48 +0000</td>\n      <td>&lt;a href=\"http://twitter.com/download/iphone\" r...</td>\n      <td>RT @Athletics: 12/10 #BATP https://t.co/WxwJmv...</td>\n      <td>8.860537e+17</td>\n      <td>1.960740e+07</td>\n      <td>2017-07-15 02:44:07 +0000</td>\n      <td>https://twitter.com/dog_rates/status/886053434...</td>\n      <td>12</td>\n      <td>10</td>\n      <td>None</td>\n      <td>None</td>\n      <td>None</td>\n      <td>None</td>\n      <td>None</td>\n    </tr>\n    <tr>\n      <th>36</th>\n      <td>885311592912609280</td>\n      <td>NaN</td>\n      <td>NaN</td>\n      <td>2017-07-13 01:35:06 +0000</td>\n      <td>&lt;a href=\"http://twitter.com/download/iphone\" r...</td>\n      <td>RT @dog_rates: This is Lilly. She just paralle...</td>\n      <td>8.305833e+17</td>\n      <td>4.196984e+09</td>\n      <td>2017-02-12 01:04:29 +0000</td>\n      <td>https://twitter.com/dog_rates/status/830583320...</td>\n      <td>13</td>\n      <td>10</td>\n      <td>Lilly</td>\n      <td>None</td>\n      <td>None</td>\n      <td>None</td>\n      <td>None</td>\n    </tr>\n    <tr>\n      <th>68</th>\n      <td>879130579576475649</td>\n      <td>NaN</td>\n      <td>NaN</td>\n      <td>2017-06-26 00:13:58 +0000</td>\n      <td>&lt;a href=\"http://twitter.com/download/iphone\" r...</td>\n      <td>RT @dog_rates: This is Emmy. She was adopted t...</td>\n      <td>8.780576e+17</td>\n      <td>4.196984e+09</td>\n      <td>2017-06-23 01:10:23 +0000</td>\n      <td>https://twitter.com/dog_rates/status/878057613...</td>\n      <td>14</td>\n      <td>10</td>\n      <td>Emmy</td>\n      <td>None</td>\n      <td>None</td>\n      <td>None</td>\n      <td>None</td>\n    </tr>\n    <tr>\n      <th>73</th>\n      <td>878404777348136964</td>\n      <td>NaN</td>\n      <td>NaN</td>\n      <td>2017-06-24 00:09:53 +0000</td>\n      <td>&lt;a href=\"http://twitter.com/download/iphone\" r...</td>\n      <td>RT @dog_rates: Meet Shadow. In an attempt to r...</td>\n      <td>8.782815e+17</td>\n      <td>4.196984e+09</td>\n      <td>2017-06-23 16:00:04 +0000</td>\n      <td>https://www.gofundme.com/3yd6y1c,https://twitt...</td>\n      <td>13</td>\n      <td>10</td>\n      <td>Shadow</td>\n      <td>None</td>\n      <td>None</td>\n      <td>None</td>\n      <td>None</td>\n    </tr>\n    <tr>\n      <th>...</th>\n      <td>...</td>\n      <td>...</td>\n      <td>...</td>\n      <td>...</td>\n      <td>...</td>\n      <td>...</td>\n      <td>...</td>\n      <td>...</td>\n      <td>...</td>\n      <td>...</td>\n      <td>...</td>\n      <td>...</td>\n      <td>...</td>\n      <td>...</td>\n      <td>...</td>\n      <td>...</td>\n      <td>...</td>\n    </tr>\n    <tr>\n      <th>1023</th>\n      <td>746521445350707200</td>\n      <td>NaN</td>\n      <td>NaN</td>\n      <td>2016-06-25 01:52:36 +0000</td>\n      <td>&lt;a href=\"http://twitter.com/download/iphone\" r...</td>\n      <td>RT @dog_rates: This is Shaggy. He knows exactl...</td>\n      <td>6.678667e+17</td>\n      <td>4.196984e+09</td>\n      <td>2015-11-21 00:46:50 +0000</td>\n      <td>https://twitter.com/dog_rates/status/667866724...</td>\n      <td>10</td>\n      <td>10</td>\n      <td>Shaggy</td>\n      <td>None</td>\n      <td>None</td>\n      <td>None</td>\n      <td>None</td>\n    </tr>\n    <tr>\n      <th>1043</th>\n      <td>743835915802583040</td>\n      <td>NaN</td>\n      <td>NaN</td>\n      <td>2016-06-17 16:01:16 +0000</td>\n      <td>&lt;a href=\"http://twitter.com/download/iphone\" r...</td>\n      <td>RT @dog_rates: Extremely intelligent dog here....</td>\n      <td>6.671383e+17</td>\n      <td>4.196984e+09</td>\n      <td>2015-11-19 00:32:12 +0000</td>\n      <td>https://twitter.com/dog_rates/status/667138269...</td>\n      <td>10</td>\n      <td>10</td>\n      <td>None</td>\n      <td>None</td>\n      <td>None</td>\n      <td>None</td>\n      <td>None</td>\n    </tr>\n    <tr>\n      <th>1242</th>\n      <td>711998809858043904</td>\n      <td>NaN</td>\n      <td>NaN</td>\n      <td>2016-03-21 19:31:59 +0000</td>\n      <td>&lt;a href=\"http://twitter.com/download/iphone\" r...</td>\n      <td>RT @twitter: @dog_rates Awesome Tweet! 12/10. ...</td>\n      <td>7.119983e+17</td>\n      <td>7.832140e+05</td>\n      <td>2016-03-21 19:29:52 +0000</td>\n      <td>https://twitter.com/twitter/status/71199827977...</td>\n      <td>12</td>\n      <td>10</td>\n      <td>None</td>\n      <td>None</td>\n      <td>None</td>\n      <td>None</td>\n      <td>None</td>\n    </tr>\n    <tr>\n      <th>2259</th>\n      <td>667550904950915073</td>\n      <td>NaN</td>\n      <td>NaN</td>\n      <td>2015-11-20 03:51:52 +0000</td>\n      <td>&lt;a href=\"http://twitter.com\" rel=\"nofollow\"&gt;Tw...</td>\n      <td>RT @dogratingrating: Exceptional talent. Origi...</td>\n      <td>6.675487e+17</td>\n      <td>4.296832e+09</td>\n      <td>2015-11-20 03:43:06 +0000</td>\n      <td>https://twitter.com/dogratingrating/status/667...</td>\n      <td>12</td>\n      <td>10</td>\n      <td>None</td>\n      <td>None</td>\n      <td>None</td>\n      <td>None</td>\n      <td>None</td>\n    </tr>\n    <tr>\n      <th>2260</th>\n      <td>667550882905632768</td>\n      <td>NaN</td>\n      <td>NaN</td>\n      <td>2015-11-20 03:51:47 +0000</td>\n      <td>&lt;a href=\"http://twitter.com\" rel=\"nofollow\"&gt;Tw...</td>\n      <td>RT @dogratingrating: Unoriginal idea. Blatant ...</td>\n      <td>6.675484e+17</td>\n      <td>4.296832e+09</td>\n      <td>2015-11-20 03:41:59 +0000</td>\n      <td>https://twitter.com/dogratingrating/status/667...</td>\n      <td>5</td>\n      <td>10</td>\n      <td>None</td>\n      <td>None</td>\n      <td>None</td>\n      <td>None</td>\n      <td>None</td>\n    </tr>\n  </tbody>\n</table>\n<p>181 rows × 17 columns</p>\n</div>"
     },
     "metadata": {},
     "execution_count": 548
    }
   ],
   "source": [
    "df_twitter_archive_enhanced.query(\"retweeted_status_id != 'NaN'\")"
   ]
  },
  {
   "source": [
    "# Assessing Data\n",
    "\n",
    "## Quality issues \n",
    "\n",
    "### There are 59 NAN value at df_twitter_archive_enhanced in in_reply_to_status_id expanded_urls  \n",
    "### timestamp column need to be changed from object to datetime type\n",
    "### retweeted_status_timestamp column need to be changed from object to datetime type\n",
    "### in_reply_to_status_id column need to be changed to int64 type \n",
    "### in_reply_to_user_id column need to be changed to int64 type \n",
    "### retweeted_status_id column need to be changed to int64 type \n",
    "### retweeted_status_user_id column need to be changed to int64 type  \n",
    "### 55 incorrect names in 'name' column under name 'a'\n",
    "### 23 incorrect rating denominator - not equel 10 \n",
    "### 181 duplicate  rows where tweet are retweeted again > df_twitter_archive_enhanced.query(\"retweeted_status_id != 'NaN'\")\n",
    "### invalid rating for ['680494726643068929', '778027034220126208', '786709082849828864', '835246439529840640']\n",
    "\n",
    "\n",
    "\n",
    "## Tidiness issues \n",
    "\n",
    "### one variable 'dog stage' is represented at four columns [doggo,floofer, pupper, puppo ] \n",
    "### the shape of df_twitter_archive_enhanced is different that api_df_now\n",
    "### source column at  df_twitter_archive_enhanced dataframe is not useful \n",
    "\n",
    "\n"
   ],
   "cell_type": "markdown",
   "metadata": {}
  },
  {
   "cell_type": "code",
   "execution_count": 526,
   "metadata": {},
   "outputs": [],
   "source": [
    "# Take Copy to work on and keep the orginal as it is \n",
    "\n",
    "df_image_predictions_cleaned = df_image_predictions.copy()\n",
    "api_df_now_cleaned = api_df_now.copy()\n",
    "df_twitter_archive_enhanced_cleaned = df_twitter_archive_enhanced.copy()"
   ]
  },
  {
   "source": [
    "# Clean\n",
    "### Fixing quality issues "
   ],
   "cell_type": "markdown",
   "metadata": {}
  },
  {
   "source": [
    "## Define: \n",
    "### Convert date to datetime data type \n"
   ],
   "cell_type": "markdown",
   "metadata": {}
  },
  {
   "cell_type": "code",
   "execution_count": 527,
   "metadata": {},
   "outputs": [],
   "source": [
    "df_twitter_archive_enhanced_cleaned['timestamp'] = pd.to_datetime(df_twitter_archive_enhanced_cleaned['timestamp'])\n",
    "df_twitter_archive_enhanced_cleaned['retweeted_status_timestamp'] = pd.to_datetime(df_twitter_archive_enhanced_cleaned['retweeted_status_timestamp'])\n"
   ]
  },
  {
   "source": [
    "## Test"
   ],
   "cell_type": "markdown",
   "metadata": {}
  },
  {
   "cell_type": "code",
   "execution_count": 575,
   "metadata": {},
   "outputs": [
    {
     "output_type": "execute_result",
     "data": {
      "text/plain": [
       "datetime64[ns, UTC]"
      ]
     },
     "metadata": {},
     "execution_count": 575
    }
   ],
   "source": [
    "df_twitter_archive_enhanced_cleaned['timestamp'].dtype"
   ]
  },
  {
   "cell_type": "code",
   "execution_count": 576,
   "metadata": {},
   "outputs": [
    {
     "output_type": "execute_result",
     "data": {
      "text/plain": [
       "datetime64[ns, UTC]"
      ]
     },
     "metadata": {},
     "execution_count": 576
    }
   ],
   "source": [
    "df_twitter_archive_enhanced_cleaned['retweeted_status_timestamp'].dtype"
   ]
  },
  {
   "source": [
    "## Define:\n",
    "### in_reply_to_status_id column need to be changed to int64 type \n",
    "### in_reply_to_user_id column need to be changed to int64 type \n",
    "### retweeted_status_id column need to be changed to int64 type \n",
    "### retweeted_status_user_id column need to be changed to int64 type "
   ],
   "cell_type": "markdown",
   "metadata": {}
  },
  {
   "cell_type": "code",
   "execution_count": 528,
   "metadata": {},
   "outputs": [],
   "source": [
    "\n",
    "df_twitter_archive_enhanced_cleaned['in_reply_to_status_id'] = df_twitter_archive_enhanced_cleaned['in_reply_to_status_id'].astype(dtype= 'Int64')\n",
    "df_twitter_archive_enhanced_cleaned['in_reply_to_user_id'] = df_twitter_archive_enhanced_cleaned['in_reply_to_user_id'].astype(dtype= 'Int64')\n",
    "df_twitter_archive_enhanced_cleaned['retweeted_status_id'] = df_twitter_archive_enhanced_cleaned['retweeted_status_id'].astype(dtype= 'Int64')\n",
    "df_twitter_archive_enhanced_cleaned['retweeted_status_user_id'] = df_twitter_archive_enhanced_cleaned['retweeted_status_user_id'].astype(dtype= 'Int64')\n"
   ]
  },
  {
   "source": [
    "## Test"
   ],
   "cell_type": "markdown",
   "metadata": {}
  },
  {
   "cell_type": "code",
   "execution_count": 577,
   "metadata": {},
   "outputs": [
    {
     "output_type": "execute_result",
     "data": {
      "text/plain": [
       "Int64Dtype()"
      ]
     },
     "metadata": {},
     "execution_count": 577
    }
   ],
   "source": [
    "df_twitter_archive_enhanced_cleaned['in_reply_to_status_id'].dtype"
   ]
  },
  {
   "cell_type": "code",
   "execution_count": 578,
   "metadata": {},
   "outputs": [
    {
     "output_type": "execute_result",
     "data": {
      "text/plain": [
       "Int64Dtype()"
      ]
     },
     "metadata": {},
     "execution_count": 578
    }
   ],
   "source": [
    "df_twitter_archive_enhanced_cleaned['in_reply_to_user_id'].dtype"
   ]
  },
  {
   "cell_type": "code",
   "execution_count": 579,
   "metadata": {},
   "outputs": [
    {
     "output_type": "execute_result",
     "data": {
      "text/plain": [
       "Int64Dtype()"
      ]
     },
     "metadata": {},
     "execution_count": 579
    }
   ],
   "source": [
    "df_twitter_archive_enhanced_cleaned['retweeted_status_id'].dtype"
   ]
  },
  {
   "cell_type": "code",
   "execution_count": 580,
   "metadata": {},
   "outputs": [
    {
     "output_type": "execute_result",
     "data": {
      "text/plain": [
       "Int64Dtype()"
      ]
     },
     "metadata": {},
     "execution_count": 580
    }
   ],
   "source": [
    "df_twitter_archive_enhanced_cleaned['retweeted_status_user_id'].dtype"
   ]
  },
  {
   "source": [
    "## Define:\n",
    "### 55 incorrect names in 'name' column under name 'a'"
   ],
   "cell_type": "markdown",
   "metadata": {}
  },
  {
   "cell_type": "code",
   "execution_count": 529,
   "metadata": {},
   "outputs": [],
   "source": [
    "df_twitter_archive_enhanced_cleaned[\"name\"].replace({\"a\": \"None\"}, inplace=True)"
   ]
  },
  {
   "source": [
    "## Test"
   ],
   "cell_type": "markdown",
   "metadata": {}
  },
  {
   "cell_type": "code",
   "execution_count": 581,
   "metadata": {},
   "outputs": [
    {
     "output_type": "execute_result",
     "data": {
      "text/plain": [
       "None        718\n",
       "Lucy         11\n",
       "Charlie      11\n",
       "Cooper       10\n",
       "Oliver       10\n",
       "           ... \n",
       "Storkson      1\n",
       "Mona          1\n",
       "Bilbo         1\n",
       "Dante         1\n",
       "Arlen         1\n",
       "Name: name, Length: 952, dtype: int64"
      ]
     },
     "metadata": {},
     "execution_count": 581
    }
   ],
   "source": [
    "df_twitter_archive_enhanced_cleaned[\"name\"].value_counts()"
   ]
  },
  {
   "source": [
    "## Define:\n",
    "### 23 incorrect rating denominator - not equel 10 - since it is only 23 rows so I will drop them\n"
   ],
   "cell_type": "markdown",
   "metadata": {}
  },
  {
   "cell_type": "code",
   "execution_count": 530,
   "metadata": {},
   "outputs": [],
   "source": [
    "df_twitter_archive_enhanced_cleaned = df_twitter_archive_enhanced_cleaned[df_twitter_archive_enhanced['rating_denominator'] == 10] "
   ]
  },
  {
   "source": [
    "## Test: "
   ],
   "cell_type": "markdown",
   "metadata": {}
  },
  {
   "cell_type": "code",
   "execution_count": 583,
   "metadata": {},
   "outputs": [
    {
     "output_type": "execute_result",
     "data": {
      "text/plain": [
       "Empty DataFrame\n",
       "Columns: [tweet_id, in_reply_to_status_id, in_reply_to_user_id, timestamp, text, retweeted_status_id, retweeted_status_user_id, retweeted_status_timestamp, expanded_urls, rating_numerator, rating_denominator, name, stage, retweet_count, favorite_count, user_count]\n",
       "Index: []"
      ],
      "text/html": "<div>\n<style scoped>\n    .dataframe tbody tr th:only-of-type {\n        vertical-align: middle;\n    }\n\n    .dataframe tbody tr th {\n        vertical-align: top;\n    }\n\n    .dataframe thead th {\n        text-align: right;\n    }\n</style>\n<table border=\"1\" class=\"dataframe\">\n  <thead>\n    <tr style=\"text-align: right;\">\n      <th></th>\n      <th>tweet_id</th>\n      <th>in_reply_to_status_id</th>\n      <th>in_reply_to_user_id</th>\n      <th>timestamp</th>\n      <th>text</th>\n      <th>retweeted_status_id</th>\n      <th>retweeted_status_user_id</th>\n      <th>retweeted_status_timestamp</th>\n      <th>expanded_urls</th>\n      <th>rating_numerator</th>\n      <th>rating_denominator</th>\n      <th>name</th>\n      <th>stage</th>\n      <th>retweet_count</th>\n      <th>favorite_count</th>\n      <th>user_count</th>\n    </tr>\n  </thead>\n  <tbody>\n  </tbody>\n</table>\n</div>"
     },
     "metadata": {},
     "execution_count": 583
    }
   ],
   "source": [
    "df_twitter_archive_enhanced_cleaned.query(\"rating_denominator != 10\")"
   ]
  },
  {
   "source": [
    "## Define: \n",
    "### 181 duplicate  rows where tweet are retweeted again > df_twitter_archive_enhanced.query(\"retweeted_status_id != 'NaN'\")\n"
   ],
   "cell_type": "markdown",
   "metadata": {}
  },
  {
   "cell_type": "code",
   "execution_count": 531,
   "metadata": {},
   "outputs": [],
   "source": [
    "temp = df_twitter_archive_enhanced.query(\"retweeted_status_id != 'NaN'\")['retweeted_status_id'].astype(dtype=\"int64\")\n",
    "l_1d = temp.values.tolist()\n",
    "for l in l_1d:\n",
    "    \n",
    "    if l in df_twitter_archive_enhanced.values:\n",
    "       \n",
    "        df_twitter_archive_enhanced_cleaned.drop(df_twitter_archive_enhanced_cleaned[df_twitter_archive_enhanced_cleaned['retweeted_status_id'] == l].index, inplace = True)"
   ]
  },
  {
   "source": [
    "## Test"
   ],
   "cell_type": "markdown",
   "metadata": {}
  },
  {
   "cell_type": "code",
   "execution_count": 608,
   "metadata": {},
   "outputs": [
    {
     "output_type": "execute_result",
     "data": {
      "text/plain": [
       "0"
      ]
     },
     "metadata": {},
     "execution_count": 608
    }
   ],
   "source": [
    "df_twitter_archive_enhanced_cleaned['retweeted_status_id'].nunique()"
   ]
  },
  {
   "source": [
    "## Define \n",
    "### invalid rating for ['680494726643068929', '778027034220126208', '786709082849828864', '835246439529840640']"
   ],
   "cell_type": "markdown",
   "metadata": {}
  },
  {
   "cell_type": "code",
   "execution_count": 532,
   "metadata": {},
   "outputs": [],
   "source": [
    "\n",
    "df_twitter_archive_enhanced_cleaned.loc[df_twitter_archive_enhanced_cleaned['tweet_id'] == 680494726643068929, 'rating_numerator'] = 11"
   ]
  },
  {
   "cell_type": "code",
   "execution_count": null,
   "metadata": {},
   "outputs": [],
   "source": [
    "df_twitter_archive_enhanced_cleaned.loc[df_twitter_archive_enhanced_cleaned['tweet_id'] == 778027034220126208, 'rating_numerator'] = 11"
   ]
  },
  {
   "cell_type": "code",
   "execution_count": null,
   "metadata": {},
   "outputs": [],
   "source": [
    "df_twitter_archive_enhanced_cleaned.loc[df_twitter_archive_enhanced_cleaned['tweet_id'] == 786709082849828864, 'rating_numerator'] = 9\n"
   ]
  },
  {
   "cell_type": "code",
   "execution_count": null,
   "metadata": {},
   "outputs": [],
   "source": [
    "# 835246439529840640 removed from pervious operation"
   ]
  },
  {
   "source": [
    "## Test"
   ],
   "cell_type": "markdown",
   "metadata": {}
  },
  {
   "cell_type": "code",
   "execution_count": 609,
   "metadata": {},
   "outputs": [
    {
     "output_type": "execute_result",
     "data": {
      "text/plain": [
       "                tweet_id  in_reply_to_status_id  in_reply_to_user_id  \\\n",
       "1712  680494726643068929                   <NA>                 <NA>   \n",
       "\n",
       "                     timestamp  \\\n",
       "1712 2015-12-25 21:06:00+00:00   \n",
       "\n",
       "                                                   text  retweeted_status_id  \\\n",
       "1712  Here we have uncovered an entire battalion of ...                 <NA>   \n",
       "\n",
       "      retweeted_status_user_id retweeted_status_timestamp  \\\n",
       "1712                      <NA>                        NaT   \n",
       "\n",
       "                                          expanded_urls  rating_numerator  \\\n",
       "1712  https://twitter.com/dog_rates/status/680494726...                11   \n",
       "\n",
       "      rating_denominator  name stage retweet_count favorite_count user_count  \n",
       "1712                  10  None                 542           1879    3200953  "
      ],
      "text/html": "<div>\n<style scoped>\n    .dataframe tbody tr th:only-of-type {\n        vertical-align: middle;\n    }\n\n    .dataframe tbody tr th {\n        vertical-align: top;\n    }\n\n    .dataframe thead th {\n        text-align: right;\n    }\n</style>\n<table border=\"1\" class=\"dataframe\">\n  <thead>\n    <tr style=\"text-align: right;\">\n      <th></th>\n      <th>tweet_id</th>\n      <th>in_reply_to_status_id</th>\n      <th>in_reply_to_user_id</th>\n      <th>timestamp</th>\n      <th>text</th>\n      <th>retweeted_status_id</th>\n      <th>retweeted_status_user_id</th>\n      <th>retweeted_status_timestamp</th>\n      <th>expanded_urls</th>\n      <th>rating_numerator</th>\n      <th>rating_denominator</th>\n      <th>name</th>\n      <th>stage</th>\n      <th>retweet_count</th>\n      <th>favorite_count</th>\n      <th>user_count</th>\n    </tr>\n  </thead>\n  <tbody>\n    <tr>\n      <th>1712</th>\n      <td>680494726643068929</td>\n      <td>&lt;NA&gt;</td>\n      <td>&lt;NA&gt;</td>\n      <td>2015-12-25 21:06:00+00:00</td>\n      <td>Here we have uncovered an entire battalion of ...</td>\n      <td>&lt;NA&gt;</td>\n      <td>&lt;NA&gt;</td>\n      <td>NaT</td>\n      <td>https://twitter.com/dog_rates/status/680494726...</td>\n      <td>11</td>\n      <td>10</td>\n      <td>None</td>\n      <td></td>\n      <td>542</td>\n      <td>1879</td>\n      <td>3200953</td>\n    </tr>\n  </tbody>\n</table>\n</div>"
     },
     "metadata": {},
     "execution_count": 609
    }
   ],
   "source": [
    "df_twitter_archive_enhanced_cleaned.query('tweet_id == 680494726643068929')"
   ]
  },
  {
   "cell_type": "code",
   "execution_count": 610,
   "metadata": {},
   "outputs": [
    {
     "output_type": "execute_result",
     "data": {
      "text/plain": [
       "               tweet_id  in_reply_to_status_id  in_reply_to_user_id  \\\n",
       "763  778027034220126208                   <NA>                 <NA>   \n",
       "\n",
       "                    timestamp  \\\n",
       "763 2016-09-20 00:24:34+00:00   \n",
       "\n",
       "                                                  text  retweeted_status_id  \\\n",
       "763  This is Sophie. She's a Jubilant Bush Pupper. ...                 <NA>   \n",
       "\n",
       "     retweeted_status_user_id retweeted_status_timestamp  \\\n",
       "763                      <NA>                        NaT   \n",
       "\n",
       "                                         expanded_urls  rating_numerator  \\\n",
       "763  https://twitter.com/dog_rates/status/778027034...                11   \n",
       "\n",
       "     rating_denominator    name   stage retweet_count favorite_count  \\\n",
       "763                  10  Sophie  pupper          1885           7320   \n",
       "\n",
       "    user_count  \n",
       "763    3200810  "
      ],
      "text/html": "<div>\n<style scoped>\n    .dataframe tbody tr th:only-of-type {\n        vertical-align: middle;\n    }\n\n    .dataframe tbody tr th {\n        vertical-align: top;\n    }\n\n    .dataframe thead th {\n        text-align: right;\n    }\n</style>\n<table border=\"1\" class=\"dataframe\">\n  <thead>\n    <tr style=\"text-align: right;\">\n      <th></th>\n      <th>tweet_id</th>\n      <th>in_reply_to_status_id</th>\n      <th>in_reply_to_user_id</th>\n      <th>timestamp</th>\n      <th>text</th>\n      <th>retweeted_status_id</th>\n      <th>retweeted_status_user_id</th>\n      <th>retweeted_status_timestamp</th>\n      <th>expanded_urls</th>\n      <th>rating_numerator</th>\n      <th>rating_denominator</th>\n      <th>name</th>\n      <th>stage</th>\n      <th>retweet_count</th>\n      <th>favorite_count</th>\n      <th>user_count</th>\n    </tr>\n  </thead>\n  <tbody>\n    <tr>\n      <th>763</th>\n      <td>778027034220126208</td>\n      <td>&lt;NA&gt;</td>\n      <td>&lt;NA&gt;</td>\n      <td>2016-09-20 00:24:34+00:00</td>\n      <td>This is Sophie. She's a Jubilant Bush Pupper. ...</td>\n      <td>&lt;NA&gt;</td>\n      <td>&lt;NA&gt;</td>\n      <td>NaT</td>\n      <td>https://twitter.com/dog_rates/status/778027034...</td>\n      <td>11</td>\n      <td>10</td>\n      <td>Sophie</td>\n      <td>pupper</td>\n      <td>1885</td>\n      <td>7320</td>\n      <td>3200810</td>\n    </tr>\n  </tbody>\n</table>\n</div>"
     },
     "metadata": {},
     "execution_count": 610
    }
   ],
   "source": [
    "df_twitter_archive_enhanced_cleaned.query('tweet_id == 778027034220126208')"
   ]
  },
  {
   "cell_type": "code",
   "execution_count": 611,
   "metadata": {},
   "outputs": [
    {
     "output_type": "execute_result",
     "data": {
      "text/plain": [
       "               tweet_id  in_reply_to_status_id  in_reply_to_user_id  \\\n",
       "695  786709082849828864                   <NA>                 <NA>   \n",
       "\n",
       "                    timestamp  \\\n",
       "695 2016-10-13 23:23:56+00:00   \n",
       "\n",
       "                                                  text  retweeted_status_id  \\\n",
       "695  This is Logan, the Chow who lived. He solemnly...                 <NA>   \n",
       "\n",
       "     retweeted_status_user_id retweeted_status_timestamp  \\\n",
       "695                      <NA>                        NaT   \n",
       "\n",
       "                                         expanded_urls  rating_numerator  \\\n",
       "695  https://twitter.com/dog_rates/status/786709082...                 9   \n",
       "\n",
       "     rating_denominator   name stage retweet_count favorite_count user_count  \n",
       "695                  10  Logan                7069          20296    3200901  "
      ],
      "text/html": "<div>\n<style scoped>\n    .dataframe tbody tr th:only-of-type {\n        vertical-align: middle;\n    }\n\n    .dataframe tbody tr th {\n        vertical-align: top;\n    }\n\n    .dataframe thead th {\n        text-align: right;\n    }\n</style>\n<table border=\"1\" class=\"dataframe\">\n  <thead>\n    <tr style=\"text-align: right;\">\n      <th></th>\n      <th>tweet_id</th>\n      <th>in_reply_to_status_id</th>\n      <th>in_reply_to_user_id</th>\n      <th>timestamp</th>\n      <th>text</th>\n      <th>retweeted_status_id</th>\n      <th>retweeted_status_user_id</th>\n      <th>retweeted_status_timestamp</th>\n      <th>expanded_urls</th>\n      <th>rating_numerator</th>\n      <th>rating_denominator</th>\n      <th>name</th>\n      <th>stage</th>\n      <th>retweet_count</th>\n      <th>favorite_count</th>\n      <th>user_count</th>\n    </tr>\n  </thead>\n  <tbody>\n    <tr>\n      <th>695</th>\n      <td>786709082849828864</td>\n      <td>&lt;NA&gt;</td>\n      <td>&lt;NA&gt;</td>\n      <td>2016-10-13 23:23:56+00:00</td>\n      <td>This is Logan, the Chow who lived. He solemnly...</td>\n      <td>&lt;NA&gt;</td>\n      <td>&lt;NA&gt;</td>\n      <td>NaT</td>\n      <td>https://twitter.com/dog_rates/status/786709082...</td>\n      <td>9</td>\n      <td>10</td>\n      <td>Logan</td>\n      <td></td>\n      <td>7069</td>\n      <td>20296</td>\n      <td>3200901</td>\n    </tr>\n  </tbody>\n</table>\n</div>"
     },
     "metadata": {},
     "execution_count": 611
    }
   ],
   "source": [
    "df_twitter_archive_enhanced_cleaned.query('tweet_id == 786709082849828864')"
   ]
  },
  {
   "source": [
    "### Fixing tidiness issues"
   ],
   "cell_type": "markdown",
   "metadata": {}
  },
  {
   "source": [
    "## Define \n",
    "###  source column at  df_twitter_archive_enhanced dataframe is not useful "
   ],
   "cell_type": "markdown",
   "metadata": {}
  },
  {
   "cell_type": "code",
   "execution_count": 533,
   "metadata": {},
   "outputs": [],
   "source": [
    "\n",
    "df_twitter_archive_enhanced_cleaned.drop(\"source\",axis=1,inplace=True)"
   ]
  },
  {
   "source": [
    "## Test"
   ],
   "cell_type": "markdown",
   "metadata": {}
  },
  {
   "cell_type": "code",
   "execution_count": 612,
   "metadata": {},
   "outputs": [
    {
     "output_type": "execute_result",
     "data": {
      "text/plain": [
       "Index(['tweet_id', 'in_reply_to_status_id', 'in_reply_to_user_id', 'timestamp',\n",
       "       'text', 'retweeted_status_id', 'retweeted_status_user_id',\n",
       "       'retweeted_status_timestamp', 'expanded_urls', 'rating_numerator',\n",
       "       'rating_denominator', 'name', 'stage', 'retweet_count',\n",
       "       'favorite_count', 'user_count'],\n",
       "      dtype='object')"
      ]
     },
     "metadata": {},
     "execution_count": 612
    }
   ],
   "source": [
    "\n",
    "df_twitter_archive_enhanced_cleaned.columns"
   ]
  },
  {
   "source": [
    "## Define \n",
    "### one variable 'dog stage' is represented in four columns [doggo,floofer, pupper, puppo ] \n"
   ],
   "cell_type": "markdown",
   "metadata": {}
  },
  {
   "cell_type": "code",
   "execution_count": 534,
   "metadata": {},
   "outputs": [],
   "source": [
    "\n",
    "df_twitter_archive_enhanced_cleaned['stage']=None\n",
    "df_twitter_archive_enhanced_cleaned['stage'] = df_twitter_archive_enhanced_cleaned.doggo + df_twitter_archive_enhanced_cleaned.floofer + df_twitter_archive_enhanced_cleaned.pupper + df_twitter_archive_enhanced_cleaned.puppo\n",
    "df_twitter_archive_enhanced_cleaned['stage'] = df_twitter_archive_enhanced_cleaned['stage'].map(lambda x: x.replace(\"None\",\"\"))\n",
    "df_twitter_archive_enhanced_cleaned.loc[df_twitter_archive_enhanced_cleaned.stage == 'doggopupper', 'stage'] = 'doggo, pupper'\n",
    "df_twitter_archive_enhanced_cleaned.loc[df_twitter_archive_enhanced_cleaned.stage == 'doggopuppo', 'stage'] = 'doggo, puppo'\n",
    "df_twitter_archive_enhanced_cleaned.loc[df_twitter_archive_enhanced_cleaned.stage == 'doggofloofer', 'stage'] = 'doggo, floofer'\n",
    "df_twitter_archive_enhanced_cleaned.drop(['doggo', 'floofer', 'pupper', 'puppo'], axis =1, inplace=True)"
   ]
  },
  {
   "source": [
    "## Test"
   ],
   "cell_type": "markdown",
   "metadata": {}
  },
  {
   "cell_type": "code",
   "execution_count": 614,
   "metadata": {},
   "outputs": [
    {
     "output_type": "execute_result",
     "data": {
      "text/plain": [
       "                tweet_id  in_reply_to_status_id  in_reply_to_user_id  \\\n",
       "1531  690015576308211712                   <NA>                 <NA>   \n",
       "864   762464539388485633                   <NA>                 <NA>   \n",
       "810   771380798096281600                   <NA>                 <NA>   \n",
       "297   837110210464448512                   <NA>                 <NA>   \n",
       "17    888804989199671297                   <NA>                 <NA>   \n",
       "2050  671497587707535361                   <NA>                 <NA>   \n",
       "2042  671538301157904385                   <NA>                 <NA>   \n",
       "1887  674788554665512960                   <NA>                 <NA>   \n",
       "1657  683142553609318400                   <NA>                 <NA>   \n",
       "1901  674646392044941312                   <NA>                 <NA>   \n",
       "\n",
       "                     timestamp  \\\n",
       "1531 2016-01-21 03:38:27+00:00   \n",
       "864  2016-08-08 01:44:46+00:00   \n",
       "810  2016-09-01 16:14:48+00:00   \n",
       "297  2017-03-02 01:20:01+00:00   \n",
       "17   2017-07-22 16:56:37+00:00   \n",
       "2050 2015-12-01 01:14:35+00:00   \n",
       "2042 2015-12-01 03:56:22+00:00   \n",
       "1887 2015-12-10 03:11:43+00:00   \n",
       "1657 2016-01-02 04:27:31+00:00   \n",
       "1901 2015-12-09 17:46:48+00:00   \n",
       "\n",
       "                                                   text  retweeted_status_id  \\\n",
       "1531  This pupper can only sleep on shoes. It's a cr...                 <NA>   \n",
       "864   This is Buddy. His father was a bear and his m...                 <NA>   \n",
       "810   Meet Fizz. She thinks love is a social constru...                 <NA>   \n",
       "297   This is Clark. He passed pupper training today...                 <NA>   \n",
       "17    This is Zeke. He has a new stick. Very proud o...                 <NA>   \n",
       "2050  This is Pip. He is a ship captain. Many years ...                 <NA>   \n",
       "2042  This is Baxter. He's very calm. Hasn't eaten i...                 <NA>   \n",
       "1887  Say hello to Maggie. She's a Western Septic Do...                 <NA>   \n",
       "1657  Meet Brandy. She's a member of the Bloods. Men...                 <NA>   \n",
       "1901  Two gorgeous dogs here. Little waddling dog is...                 <NA>   \n",
       "\n",
       "      retweeted_status_user_id retweeted_status_timestamp  \\\n",
       "1531                      <NA>                        NaT   \n",
       "864                       <NA>                        NaT   \n",
       "810                       <NA>                        NaT   \n",
       "297                       <NA>                        NaT   \n",
       "17                        <NA>                        NaT   \n",
       "2050                      <NA>                        NaT   \n",
       "2042                      <NA>                        NaT   \n",
       "1887                      <NA>                        NaT   \n",
       "1657                      <NA>                        NaT   \n",
       "1901                      <NA>                        NaT   \n",
       "\n",
       "                                          expanded_urls  rating_numerator  \\\n",
       "1531  https://twitter.com/dog_rates/status/690015576...                12   \n",
       "864   https://twitter.com/dog_rates/status/762464539...                12   \n",
       "810   https://twitter.com/dog_rates/status/771380798...                11   \n",
       "297   https://twitter.com/dog_rates/status/837110210...                13   \n",
       "17    https://twitter.com/dog_rates/status/888804989...                13   \n",
       "2050  https://twitter.com/dog_rates/status/671497587...                11   \n",
       "2042  https://twitter.com/dog_rates/status/671538301...                 8   \n",
       "1887  https://twitter.com/dog_rates/status/674788554...                 9   \n",
       "1657  https://twitter.com/dog_rates/status/683142553...                 9   \n",
       "1901  https://twitter.com/dog_rates/status/674646392...                 5   \n",
       "\n",
       "      rating_denominator    name   stage retweet_count favorite_count  \\\n",
       "1531                  10    None  pupper           836           2740   \n",
       "864                   10   Buddy                  4839          11503   \n",
       "810                   10    Fizz                  5912          11746   \n",
       "297                   10   Clark  pupper          2731          17480   \n",
       "17                    10    Zeke                  4559          26080   \n",
       "2050                  10     Pip                   481            980   \n",
       "2042                  10  Baxter                   436            993   \n",
       "1887                  10  Maggie                   230            871   \n",
       "1657                  10  Brandy  pupper          1173           3162   \n",
       "1901                  10    None                   557           1533   \n",
       "\n",
       "     user_count  \n",
       "1531    3200951  \n",
       "864     3200908  \n",
       "810     3200905  \n",
       "297     3200891  \n",
       "17      3200889  \n",
       "2050    3201007  \n",
       "2042    3201007  \n",
       "1887    3201004  \n",
       "1657    3200952  \n",
       "1901    3201003  "
      ],
      "text/html": "<div>\n<style scoped>\n    .dataframe tbody tr th:only-of-type {\n        vertical-align: middle;\n    }\n\n    .dataframe tbody tr th {\n        vertical-align: top;\n    }\n\n    .dataframe thead th {\n        text-align: right;\n    }\n</style>\n<table border=\"1\" class=\"dataframe\">\n  <thead>\n    <tr style=\"text-align: right;\">\n      <th></th>\n      <th>tweet_id</th>\n      <th>in_reply_to_status_id</th>\n      <th>in_reply_to_user_id</th>\n      <th>timestamp</th>\n      <th>text</th>\n      <th>retweeted_status_id</th>\n      <th>retweeted_status_user_id</th>\n      <th>retweeted_status_timestamp</th>\n      <th>expanded_urls</th>\n      <th>rating_numerator</th>\n      <th>rating_denominator</th>\n      <th>name</th>\n      <th>stage</th>\n      <th>retweet_count</th>\n      <th>favorite_count</th>\n      <th>user_count</th>\n    </tr>\n  </thead>\n  <tbody>\n    <tr>\n      <th>1531</th>\n      <td>690015576308211712</td>\n      <td>&lt;NA&gt;</td>\n      <td>&lt;NA&gt;</td>\n      <td>2016-01-21 03:38:27+00:00</td>\n      <td>This pupper can only sleep on shoes. It's a cr...</td>\n      <td>&lt;NA&gt;</td>\n      <td>&lt;NA&gt;</td>\n      <td>NaT</td>\n      <td>https://twitter.com/dog_rates/status/690015576...</td>\n      <td>12</td>\n      <td>10</td>\n      <td>None</td>\n      <td>pupper</td>\n      <td>836</td>\n      <td>2740</td>\n      <td>3200951</td>\n    </tr>\n    <tr>\n      <th>864</th>\n      <td>762464539388485633</td>\n      <td>&lt;NA&gt;</td>\n      <td>&lt;NA&gt;</td>\n      <td>2016-08-08 01:44:46+00:00</td>\n      <td>This is Buddy. His father was a bear and his m...</td>\n      <td>&lt;NA&gt;</td>\n      <td>&lt;NA&gt;</td>\n      <td>NaT</td>\n      <td>https://twitter.com/dog_rates/status/762464539...</td>\n      <td>12</td>\n      <td>10</td>\n      <td>Buddy</td>\n      <td></td>\n      <td>4839</td>\n      <td>11503</td>\n      <td>3200908</td>\n    </tr>\n    <tr>\n      <th>810</th>\n      <td>771380798096281600</td>\n      <td>&lt;NA&gt;</td>\n      <td>&lt;NA&gt;</td>\n      <td>2016-09-01 16:14:48+00:00</td>\n      <td>Meet Fizz. She thinks love is a social constru...</td>\n      <td>&lt;NA&gt;</td>\n      <td>&lt;NA&gt;</td>\n      <td>NaT</td>\n      <td>https://twitter.com/dog_rates/status/771380798...</td>\n      <td>11</td>\n      <td>10</td>\n      <td>Fizz</td>\n      <td></td>\n      <td>5912</td>\n      <td>11746</td>\n      <td>3200905</td>\n    </tr>\n    <tr>\n      <th>297</th>\n      <td>837110210464448512</td>\n      <td>&lt;NA&gt;</td>\n      <td>&lt;NA&gt;</td>\n      <td>2017-03-02 01:20:01+00:00</td>\n      <td>This is Clark. He passed pupper training today...</td>\n      <td>&lt;NA&gt;</td>\n      <td>&lt;NA&gt;</td>\n      <td>NaT</td>\n      <td>https://twitter.com/dog_rates/status/837110210...</td>\n      <td>13</td>\n      <td>10</td>\n      <td>Clark</td>\n      <td>pupper</td>\n      <td>2731</td>\n      <td>17480</td>\n      <td>3200891</td>\n    </tr>\n    <tr>\n      <th>17</th>\n      <td>888804989199671297</td>\n      <td>&lt;NA&gt;</td>\n      <td>&lt;NA&gt;</td>\n      <td>2017-07-22 16:56:37+00:00</td>\n      <td>This is Zeke. He has a new stick. Very proud o...</td>\n      <td>&lt;NA&gt;</td>\n      <td>&lt;NA&gt;</td>\n      <td>NaT</td>\n      <td>https://twitter.com/dog_rates/status/888804989...</td>\n      <td>13</td>\n      <td>10</td>\n      <td>Zeke</td>\n      <td></td>\n      <td>4559</td>\n      <td>26080</td>\n      <td>3200889</td>\n    </tr>\n    <tr>\n      <th>2050</th>\n      <td>671497587707535361</td>\n      <td>&lt;NA&gt;</td>\n      <td>&lt;NA&gt;</td>\n      <td>2015-12-01 01:14:35+00:00</td>\n      <td>This is Pip. He is a ship captain. Many years ...</td>\n      <td>&lt;NA&gt;</td>\n      <td>&lt;NA&gt;</td>\n      <td>NaT</td>\n      <td>https://twitter.com/dog_rates/status/671497587...</td>\n      <td>11</td>\n      <td>10</td>\n      <td>Pip</td>\n      <td></td>\n      <td>481</td>\n      <td>980</td>\n      <td>3201007</td>\n    </tr>\n    <tr>\n      <th>2042</th>\n      <td>671538301157904385</td>\n      <td>&lt;NA&gt;</td>\n      <td>&lt;NA&gt;</td>\n      <td>2015-12-01 03:56:22+00:00</td>\n      <td>This is Baxter. He's very calm. Hasn't eaten i...</td>\n      <td>&lt;NA&gt;</td>\n      <td>&lt;NA&gt;</td>\n      <td>NaT</td>\n      <td>https://twitter.com/dog_rates/status/671538301...</td>\n      <td>8</td>\n      <td>10</td>\n      <td>Baxter</td>\n      <td></td>\n      <td>436</td>\n      <td>993</td>\n      <td>3201007</td>\n    </tr>\n    <tr>\n      <th>1887</th>\n      <td>674788554665512960</td>\n      <td>&lt;NA&gt;</td>\n      <td>&lt;NA&gt;</td>\n      <td>2015-12-10 03:11:43+00:00</td>\n      <td>Say hello to Maggie. She's a Western Septic Do...</td>\n      <td>&lt;NA&gt;</td>\n      <td>&lt;NA&gt;</td>\n      <td>NaT</td>\n      <td>https://twitter.com/dog_rates/status/674788554...</td>\n      <td>9</td>\n      <td>10</td>\n      <td>Maggie</td>\n      <td></td>\n      <td>230</td>\n      <td>871</td>\n      <td>3201004</td>\n    </tr>\n    <tr>\n      <th>1657</th>\n      <td>683142553609318400</td>\n      <td>&lt;NA&gt;</td>\n      <td>&lt;NA&gt;</td>\n      <td>2016-01-02 04:27:31+00:00</td>\n      <td>Meet Brandy. She's a member of the Bloods. Men...</td>\n      <td>&lt;NA&gt;</td>\n      <td>&lt;NA&gt;</td>\n      <td>NaT</td>\n      <td>https://twitter.com/dog_rates/status/683142553...</td>\n      <td>9</td>\n      <td>10</td>\n      <td>Brandy</td>\n      <td>pupper</td>\n      <td>1173</td>\n      <td>3162</td>\n      <td>3200952</td>\n    </tr>\n    <tr>\n      <th>1901</th>\n      <td>674646392044941312</td>\n      <td>&lt;NA&gt;</td>\n      <td>&lt;NA&gt;</td>\n      <td>2015-12-09 17:46:48+00:00</td>\n      <td>Two gorgeous dogs here. Little waddling dog is...</td>\n      <td>&lt;NA&gt;</td>\n      <td>&lt;NA&gt;</td>\n      <td>NaT</td>\n      <td>https://twitter.com/dog_rates/status/674646392...</td>\n      <td>5</td>\n      <td>10</td>\n      <td>None</td>\n      <td></td>\n      <td>557</td>\n      <td>1533</td>\n      <td>3201003</td>\n    </tr>\n  </tbody>\n</table>\n</div>"
     },
     "metadata": {},
     "execution_count": 614
    }
   ],
   "source": [
    "df_twitter_archive_enhanced_cleaned.sample(10)"
   ]
  },
  {
   "source": [
    "## Define\n",
    "### the shape of df_twitter_archive_enhanced is different that api_df_now , we will do this by merge ['retweet_count', 'favorite_count', 'user_count'] into df_twitter_archive_enhanced_cleaned\n",
    "### by then we will have only two datafreams "
   ],
   "cell_type": "markdown",
   "metadata": {}
  },
  {
   "cell_type": "code",
   "execution_count": 535,
   "metadata": {},
   "outputs": [],
   "source": [
    "df_twitter_archive_enhanced_cleaned['retweet_count'] = 'NaN'\n",
    "df_twitter_archive_enhanced_cleaned['favorite_count'] = 'NaN'\n",
    "df_twitter_archive_enhanced_cleaned['user_count'] = 'NaN'\n",
    "for tweet in df_twitter_archive_enhanced_cleaned['tweet_id']:\n",
    "    if tweet in api_df_now_cleaned.values:\n",
    "         i = api_df_now_cleaned.index[api_df_now_cleaned['tweet_id'] == tweet].tolist()[0]\n",
    "         v_retweet_count = api_df_now_cleaned.iloc[i]['retweet_count']\n",
    "         v_favorite_count = api_df_now_cleaned.iloc[i]['favorite_count']\n",
    "         v_user_count = api_df_now_cleaned.iloc[i]['user_count']\n",
    "\n",
    "         df_twitter_archive_enhanced_cleaned.loc[df_twitter_archive_enhanced_cleaned['tweet_id'] == tweet, 'retweet_count'] = v_retweet_count\n",
    "\n",
    "         df_twitter_archive_enhanced_cleaned.loc[df_twitter_archive_enhanced_cleaned['tweet_id'] == tweet, 'favorite_count'] = v_favorite_count\n",
    "\n",
    "         df_twitter_archive_enhanced_cleaned.loc[df_twitter_archive_enhanced_cleaned['tweet_id'] == tweet, 'user_count'] = v_user_count"
   ]
  },
  {
   "source": [
    "## Test"
   ],
   "cell_type": "markdown",
   "metadata": {}
  },
  {
   "cell_type": "code",
   "execution_count": 615,
   "metadata": {},
   "outputs": [
    {
     "output_type": "execute_result",
     "data": {
      "text/plain": [
       "                tweet_id  in_reply_to_status_id  in_reply_to_user_id  \\\n",
       "2107  670465786746662913                   <NA>                 <NA>   \n",
       "527   808733504066486276                   <NA>                 <NA>   \n",
       "678   789268448748703744                   <NA>                 <NA>   \n",
       "494   813187593374461952                   <NA>                 <NA>   \n",
       "842   766793450729734144                   <NA>                 <NA>   \n",
       "514   811627233043480576                   <NA>                 <NA>   \n",
       "2192  668932921458302977                   <NA>                 <NA>   \n",
       "1123  730427201120833536                   <NA>                 <NA>   \n",
       "652   792394556390137856                   <NA>                 <NA>   \n",
       "1208  715704790270025728                   <NA>                 <NA>   \n",
       "\n",
       "                     timestamp  \\\n",
       "2107 2015-11-28 04:54:34+00:00   \n",
       "527  2016-12-13 18:01:07+00:00   \n",
       "678  2016-10-21 00:53:56+00:00   \n",
       "494  2016-12-26 01:00:05+00:00   \n",
       "842  2016-08-20 00:26:19+00:00   \n",
       "514  2016-12-21 17:39:46+00:00   \n",
       "2192 2015-11-23 23:23:31+00:00   \n",
       "1123 2016-05-11 15:59:50+00:00   \n",
       "652  2016-10-29 15:55:58+00:00   \n",
       "1208 2016-04-01 00:58:13+00:00   \n",
       "\n",
       "                                                   text  retweeted_status_id  \\\n",
       "2107  Silly dog here. Wearing bunny ears. Nice long ...                 <NA>   \n",
       "527   Here's a pupper in a onesie. Quite pupset abou...                 <NA>   \n",
       "678   This is Stella. She's happier than I will ever...                 <NA>   \n",
       "494   We only rate dogs. Please don't send in other ...                 <NA>   \n",
       "842   This is Rufus. He just missed out on the 100m ...                 <NA>   \n",
       "514   This is Augie. He's a savage. Doesn't give a h...                 <NA>   \n",
       "2192  This is Herald. He likes to swing. Subtle tong...                 <NA>   \n",
       "1123  This is Crystal. She's flawless. Really wants ...                 <NA>   \n",
       "652   Meet BeBe. She rocks the messy bun of your dre...                 <NA>   \n",
       "1208  This is Bentley. He gives kisses back. 11/10 p...                 <NA>   \n",
       "\n",
       "      retweeted_status_user_id retweeted_status_timestamp  \\\n",
       "2107                      <NA>                        NaT   \n",
       "527                       <NA>                        NaT   \n",
       "678                       <NA>                        NaT   \n",
       "494                       <NA>                        NaT   \n",
       "842                       <NA>                        NaT   \n",
       "514                       <NA>                        NaT   \n",
       "2192                      <NA>                        NaT   \n",
       "1123                      <NA>                        NaT   \n",
       "652                       <NA>                        NaT   \n",
       "1208                      <NA>                        NaT   \n",
       "\n",
       "                                          expanded_urls  rating_numerator  \\\n",
       "2107  https://twitter.com/dog_rates/status/670465786...                 7   \n",
       "527   https://twitter.com/dog_rates/status/808733504...                12   \n",
       "678   https://twitter.com/dog_rates/status/789268448...                10   \n",
       "494   https://twitter.com/dog_rates/status/813187593...                13   \n",
       "842   https://twitter.com/dog_rates/status/766793450...                10   \n",
       "514   https://twitter.com/dog_rates/status/811627233...                10   \n",
       "2192  https://twitter.com/dog_rates/status/668932921...                 9   \n",
       "1123  https://twitter.com/dog_rates/status/730427201...                11   \n",
       "652   https://twitter.com/dog_rates/status/792394556...                12   \n",
       "1208                      https://vine.co/v/ijAlDnuOD0l                11   \n",
       "\n",
       "      rating_denominator     name   stage retweet_count favorite_count  \\\n",
       "2107                  10     None                   608           1048   \n",
       "527                   10     None  pupper          2509           8784   \n",
       "678                   10   Stella                  3014          10196   \n",
       "494                   10     None                  5096          22085   \n",
       "842                   10    Rufus                  1565           5650   \n",
       "514                   10    Augie                  3650          14265   \n",
       "2192                  10   Herald                    63            284   \n",
       "1123                  10  Crystal                  1176           3809   \n",
       "652                   10     BeBe                  4998          15128   \n",
       "1208                  10  Bentley                   634           3055   \n",
       "\n",
       "     user_count  \n",
       "2107    3201009  \n",
       "527     3200896  \n",
       "678     3200901  \n",
       "494     3200895  \n",
       "842     3200906  \n",
       "514     3200895  \n",
       "2192    3201014  \n",
       "1123    3200944  \n",
       "652     3200901  \n",
       "1208    3200945  "
      ],
      "text/html": "<div>\n<style scoped>\n    .dataframe tbody tr th:only-of-type {\n        vertical-align: middle;\n    }\n\n    .dataframe tbody tr th {\n        vertical-align: top;\n    }\n\n    .dataframe thead th {\n        text-align: right;\n    }\n</style>\n<table border=\"1\" class=\"dataframe\">\n  <thead>\n    <tr style=\"text-align: right;\">\n      <th></th>\n      <th>tweet_id</th>\n      <th>in_reply_to_status_id</th>\n      <th>in_reply_to_user_id</th>\n      <th>timestamp</th>\n      <th>text</th>\n      <th>retweeted_status_id</th>\n      <th>retweeted_status_user_id</th>\n      <th>retweeted_status_timestamp</th>\n      <th>expanded_urls</th>\n      <th>rating_numerator</th>\n      <th>rating_denominator</th>\n      <th>name</th>\n      <th>stage</th>\n      <th>retweet_count</th>\n      <th>favorite_count</th>\n      <th>user_count</th>\n    </tr>\n  </thead>\n  <tbody>\n    <tr>\n      <th>2107</th>\n      <td>670465786746662913</td>\n      <td>&lt;NA&gt;</td>\n      <td>&lt;NA&gt;</td>\n      <td>2015-11-28 04:54:34+00:00</td>\n      <td>Silly dog here. Wearing bunny ears. Nice long ...</td>\n      <td>&lt;NA&gt;</td>\n      <td>&lt;NA&gt;</td>\n      <td>NaT</td>\n      <td>https://twitter.com/dog_rates/status/670465786...</td>\n      <td>7</td>\n      <td>10</td>\n      <td>None</td>\n      <td></td>\n      <td>608</td>\n      <td>1048</td>\n      <td>3201009</td>\n    </tr>\n    <tr>\n      <th>527</th>\n      <td>808733504066486276</td>\n      <td>&lt;NA&gt;</td>\n      <td>&lt;NA&gt;</td>\n      <td>2016-12-13 18:01:07+00:00</td>\n      <td>Here's a pupper in a onesie. Quite pupset abou...</td>\n      <td>&lt;NA&gt;</td>\n      <td>&lt;NA&gt;</td>\n      <td>NaT</td>\n      <td>https://twitter.com/dog_rates/status/808733504...</td>\n      <td>12</td>\n      <td>10</td>\n      <td>None</td>\n      <td>pupper</td>\n      <td>2509</td>\n      <td>8784</td>\n      <td>3200896</td>\n    </tr>\n    <tr>\n      <th>678</th>\n      <td>789268448748703744</td>\n      <td>&lt;NA&gt;</td>\n      <td>&lt;NA&gt;</td>\n      <td>2016-10-21 00:53:56+00:00</td>\n      <td>This is Stella. She's happier than I will ever...</td>\n      <td>&lt;NA&gt;</td>\n      <td>&lt;NA&gt;</td>\n      <td>NaT</td>\n      <td>https://twitter.com/dog_rates/status/789268448...</td>\n      <td>10</td>\n      <td>10</td>\n      <td>Stella</td>\n      <td></td>\n      <td>3014</td>\n      <td>10196</td>\n      <td>3200901</td>\n    </tr>\n    <tr>\n      <th>494</th>\n      <td>813187593374461952</td>\n      <td>&lt;NA&gt;</td>\n      <td>&lt;NA&gt;</td>\n      <td>2016-12-26 01:00:05+00:00</td>\n      <td>We only rate dogs. Please don't send in other ...</td>\n      <td>&lt;NA&gt;</td>\n      <td>&lt;NA&gt;</td>\n      <td>NaT</td>\n      <td>https://twitter.com/dog_rates/status/813187593...</td>\n      <td>13</td>\n      <td>10</td>\n      <td>None</td>\n      <td></td>\n      <td>5096</td>\n      <td>22085</td>\n      <td>3200895</td>\n    </tr>\n    <tr>\n      <th>842</th>\n      <td>766793450729734144</td>\n      <td>&lt;NA&gt;</td>\n      <td>&lt;NA&gt;</td>\n      <td>2016-08-20 00:26:19+00:00</td>\n      <td>This is Rufus. He just missed out on the 100m ...</td>\n      <td>&lt;NA&gt;</td>\n      <td>&lt;NA&gt;</td>\n      <td>NaT</td>\n      <td>https://twitter.com/dog_rates/status/766793450...</td>\n      <td>10</td>\n      <td>10</td>\n      <td>Rufus</td>\n      <td></td>\n      <td>1565</td>\n      <td>5650</td>\n      <td>3200906</td>\n    </tr>\n    <tr>\n      <th>514</th>\n      <td>811627233043480576</td>\n      <td>&lt;NA&gt;</td>\n      <td>&lt;NA&gt;</td>\n      <td>2016-12-21 17:39:46+00:00</td>\n      <td>This is Augie. He's a savage. Doesn't give a h...</td>\n      <td>&lt;NA&gt;</td>\n      <td>&lt;NA&gt;</td>\n      <td>NaT</td>\n      <td>https://twitter.com/dog_rates/status/811627233...</td>\n      <td>10</td>\n      <td>10</td>\n      <td>Augie</td>\n      <td></td>\n      <td>3650</td>\n      <td>14265</td>\n      <td>3200895</td>\n    </tr>\n    <tr>\n      <th>2192</th>\n      <td>668932921458302977</td>\n      <td>&lt;NA&gt;</td>\n      <td>&lt;NA&gt;</td>\n      <td>2015-11-23 23:23:31+00:00</td>\n      <td>This is Herald. He likes to swing. Subtle tong...</td>\n      <td>&lt;NA&gt;</td>\n      <td>&lt;NA&gt;</td>\n      <td>NaT</td>\n      <td>https://twitter.com/dog_rates/status/668932921...</td>\n      <td>9</td>\n      <td>10</td>\n      <td>Herald</td>\n      <td></td>\n      <td>63</td>\n      <td>284</td>\n      <td>3201014</td>\n    </tr>\n    <tr>\n      <th>1123</th>\n      <td>730427201120833536</td>\n      <td>&lt;NA&gt;</td>\n      <td>&lt;NA&gt;</td>\n      <td>2016-05-11 15:59:50+00:00</td>\n      <td>This is Crystal. She's flawless. Really wants ...</td>\n      <td>&lt;NA&gt;</td>\n      <td>&lt;NA&gt;</td>\n      <td>NaT</td>\n      <td>https://twitter.com/dog_rates/status/730427201...</td>\n      <td>11</td>\n      <td>10</td>\n      <td>Crystal</td>\n      <td></td>\n      <td>1176</td>\n      <td>3809</td>\n      <td>3200944</td>\n    </tr>\n    <tr>\n      <th>652</th>\n      <td>792394556390137856</td>\n      <td>&lt;NA&gt;</td>\n      <td>&lt;NA&gt;</td>\n      <td>2016-10-29 15:55:58+00:00</td>\n      <td>Meet BeBe. She rocks the messy bun of your dre...</td>\n      <td>&lt;NA&gt;</td>\n      <td>&lt;NA&gt;</td>\n      <td>NaT</td>\n      <td>https://twitter.com/dog_rates/status/792394556...</td>\n      <td>12</td>\n      <td>10</td>\n      <td>BeBe</td>\n      <td></td>\n      <td>4998</td>\n      <td>15128</td>\n      <td>3200901</td>\n    </tr>\n    <tr>\n      <th>1208</th>\n      <td>715704790270025728</td>\n      <td>&lt;NA&gt;</td>\n      <td>&lt;NA&gt;</td>\n      <td>2016-04-01 00:58:13+00:00</td>\n      <td>This is Bentley. He gives kisses back. 11/10 p...</td>\n      <td>&lt;NA&gt;</td>\n      <td>&lt;NA&gt;</td>\n      <td>NaT</td>\n      <td>https://vine.co/v/ijAlDnuOD0l</td>\n      <td>11</td>\n      <td>10</td>\n      <td>Bentley</td>\n      <td></td>\n      <td>634</td>\n      <td>3055</td>\n      <td>3200945</td>\n    </tr>\n  </tbody>\n</table>\n</div>"
     },
     "metadata": {},
     "execution_count": 615
    }
   ],
   "source": [
    "df_twitter_archive_enhanced_cleaned.sample(10)"
   ]
  },
  {
   "source": [
    "## Save cleaned datasets \n",
    "\n",
    "### I am not going to merage both sets togathe as I want to keep \"df_image_predictions_cleaned\" to be for dogs breeds predictions and I can add more tweets or data from other source so finally this data will be for predictions only and it could contain picutre without tweet . "
   ],
   "cell_type": "markdown",
   "metadata": {}
  },
  {
   "cell_type": "code",
   "execution_count": 542,
   "metadata": {},
   "outputs": [],
   "source": [
    "df_image_predictions_cleaned.to_csv('df_image_predictions_cleaned.csv', index=False)\n",
    "df_twitter_archive_enhanced_cleaned.to_csv('df_twitter_archive_enhanced_cleaned.csv', index=False)"
   ]
  },
  {
   "source": [
    "# Analyzing\n",
    "### 1) What is the most Popular Dog Breeds ? "
   ],
   "cell_type": "markdown",
   "metadata": {}
  },
  {
   "cell_type": "code",
   "execution_count": 536,
   "metadata": {},
   "outputs": [
    {
     "output_type": "execute_result",
     "data": {
      "text/plain": [
       "<matplotlib.axes._subplots.AxesSubplot at 0x2d5806b8a30>"
      ]
     },
     "metadata": {},
     "execution_count": 536
    },
    {
     "output_type": "display_data",
     "data": {
      "text/plain": "<Figure size 1080x360 with 1 Axes>",
      "image/svg+xml": "<?xml version=\"1.0\" encoding=\"utf-8\" standalone=\"no\"?>\r\n<!DOCTYPE svg PUBLIC \"-//W3C//DTD SVG 1.1//EN\"\r\n  \"http://www.w3.org/Graphics/SVG/1.1/DTD/svg11.dtd\">\r\n<!-- Created with matplotlib (https://matplotlib.org/) -->\r\n<svg height=\"442.08pt\" version=\"1.1\" viewBox=\"0 0 888.94 442.08\" width=\"888.94pt\" xmlns=\"http://www.w3.org/2000/svg\" xmlns:xlink=\"http://www.w3.org/1999/xlink\">\r\n <defs>\r\n  <style type=\"text/css\">\r\n*{stroke-linecap:butt;stroke-linejoin:round;}\r\n  </style>\r\n </defs>\r\n <g id=\"figure_1\">\r\n  <g id=\"patch_1\">\r\n   <path d=\"M 0 442.08 \r\nL 888.94 442.08 \r\nL 888.94 0 \r\nL 0 0 \r\nz\r\n\" style=\"fill:none;\"/>\r\n  </g>\r\n  <g id=\"axes_1\">\r\n   <g id=\"patch_2\">\r\n    <path d=\"M 44.74 279 \r\nL 881.74 279 \r\nL 881.74 7.2 \r\nL 44.74 7.2 \r\nz\r\n\" style=\"fill:#ffffff;\"/>\r\n   </g>\r\n   <g id=\"patch_3\">\r\n    <path clip-path=\"url(#pa07a96909e)\" d=\"M 65.665 279 \r\nL 107.515 279 \r\nL 107.515 20.142857 \r\nL 65.665 20.142857 \r\nz\r\n\" style=\"fill:#1f77b4;\"/>\r\n   </g>\r\n   <g id=\"patch_4\">\r\n    <path clip-path=\"url(#pa07a96909e)\" d=\"M 149.365 279 \r\nL 191.215 279 \r\nL 191.215 106.428571 \r\nL 149.365 106.428571 \r\nz\r\n\" style=\"fill:#1f77b4;\"/>\r\n   </g>\r\n   <g id=\"patch_5\">\r\n    <path clip-path=\"url(#pa07a96909e)\" d=\"M 233.065 279 \r\nL 274.915 279 \r\nL 274.915 125.411429 \r\nL 233.065 125.411429 \r\nz\r\n\" style=\"fill:#1f77b4;\"/>\r\n   </g>\r\n   <g id=\"patch_6\">\r\n    <path clip-path=\"url(#pa07a96909e)\" d=\"M 316.765 279 \r\nL 358.615 279 \r\nL 358.615 135.765714 \r\nL 316.765 135.765714 \r\nz\r\n\" style=\"fill:#1f77b4;\"/>\r\n   </g>\r\n   <g id=\"patch_7\">\r\n    <path clip-path=\"url(#pa07a96909e)\" d=\"M 400.465 279 \r\nL 442.315 279 \r\nL 442.315 180.634286 \r\nL 400.465 180.634286 \r\nz\r\n\" style=\"fill:#1f77b4;\"/>\r\n   </g>\r\n   <g id=\"patch_8\">\r\n    <path clip-path=\"url(#pa07a96909e)\" d=\"M 484.165 279 \r\nL 526.015 279 \r\nL 526.015 203.068571 \r\nL 484.165 203.068571 \r\nz\r\n\" style=\"fill:#1f77b4;\"/>\r\n   </g>\r\n   <g id=\"patch_9\">\r\n    <path clip-path=\"url(#pa07a96909e)\" d=\"M 567.865 279 \r\nL 609.715 279 \r\nL 609.715 204.794286 \r\nL 567.865 204.794286 \r\nz\r\n\" style=\"fill:#1f77b4;\"/>\r\n   </g>\r\n   <g id=\"patch_10\">\r\n    <path clip-path=\"url(#pa07a96909e)\" d=\"M 651.565 279 \r\nL 693.415 279 \r\nL 693.415 211.697143 \r\nL 651.565 211.697143 \r\nz\r\n\" style=\"fill:#1f77b4;\"/>\r\n   </g>\r\n   <g id=\"patch_11\">\r\n    <path clip-path=\"url(#pa07a96909e)\" d=\"M 735.265 279 \r\nL 777.115 279 \r\nL 777.115 213.422857 \r\nL 735.265 213.422857 \r\nz\r\n\" style=\"fill:#1f77b4;\"/>\r\n   </g>\r\n   <g id=\"patch_12\">\r\n    <path clip-path=\"url(#pa07a96909e)\" d=\"M 818.965 279 \r\nL 860.815 279 \r\nL 860.815 227.228571 \r\nL 818.965 227.228571 \r\nz\r\n\" style=\"fill:#1f77b4;\"/>\r\n   </g>\r\n   <g id=\"matplotlib.axis_1\">\r\n    <g id=\"xtick_1\">\r\n     <g id=\"line2d_1\">\r\n      <defs>\r\n       <path d=\"M 0 0 \r\nL 0 3.5 \r\n\" id=\"m50ae0d8ca7\" style=\"stroke:#000000;stroke-width:0.8;\"/>\r\n      </defs>\r\n      <g>\r\n       <use style=\"stroke:#000000;stroke-width:0.8;\" x=\"86.59\" xlink:href=\"#m50ae0d8ca7\" y=\"279\"/>\r\n      </g>\r\n     </g>\r\n     <g id=\"text_1\">\r\n      <!-- golden_retriever -->\r\n      <defs>\r\n       <path d=\"M 45.40625 27.984375 \r\nQ 45.40625 37.75 41.375 43.109375 \r\nQ 37.359375 48.484375 30.078125 48.484375 \r\nQ 22.859375 48.484375 18.828125 43.109375 \r\nQ 14.796875 37.75 14.796875 27.984375 \r\nQ 14.796875 18.265625 18.828125 12.890625 \r\nQ 22.859375 7.515625 30.078125 7.515625 \r\nQ 37.359375 7.515625 41.375 12.890625 \r\nQ 45.40625 18.265625 45.40625 27.984375 \r\nz\r\nM 54.390625 6.78125 \r\nQ 54.390625 -7.171875 48.1875 -13.984375 \r\nQ 42 -20.796875 29.203125 -20.796875 \r\nQ 24.46875 -20.796875 20.265625 -20.09375 \r\nQ 16.0625 -19.390625 12.109375 -17.921875 \r\nL 12.109375 -9.1875 \r\nQ 16.0625 -11.328125 19.921875 -12.34375 \r\nQ 23.78125 -13.375 27.78125 -13.375 \r\nQ 36.625 -13.375 41.015625 -8.765625 \r\nQ 45.40625 -4.15625 45.40625 5.171875 \r\nL 45.40625 9.625 \r\nQ 42.625 4.78125 38.28125 2.390625 \r\nQ 33.9375 0 27.875 0 \r\nQ 17.828125 0 11.671875 7.65625 \r\nQ 5.515625 15.328125 5.515625 27.984375 \r\nQ 5.515625 40.671875 11.671875 48.328125 \r\nQ 17.828125 56 27.875 56 \r\nQ 33.9375 56 38.28125 53.609375 \r\nQ 42.625 51.21875 45.40625 46.390625 \r\nL 45.40625 54.6875 \r\nL 54.390625 54.6875 \r\nz\r\n\" id=\"DejaVuSans-103\"/>\r\n       <path d=\"M 30.609375 48.390625 \r\nQ 23.390625 48.390625 19.1875 42.75 \r\nQ 14.984375 37.109375 14.984375 27.296875 \r\nQ 14.984375 17.484375 19.15625 11.84375 \r\nQ 23.34375 6.203125 30.609375 6.203125 \r\nQ 37.796875 6.203125 41.984375 11.859375 \r\nQ 46.1875 17.53125 46.1875 27.296875 \r\nQ 46.1875 37.015625 41.984375 42.703125 \r\nQ 37.796875 48.390625 30.609375 48.390625 \r\nz\r\nM 30.609375 56 \r\nQ 42.328125 56 49.015625 48.375 \r\nQ 55.71875 40.765625 55.71875 27.296875 \r\nQ 55.71875 13.875 49.015625 6.21875 \r\nQ 42.328125 -1.421875 30.609375 -1.421875 \r\nQ 18.84375 -1.421875 12.171875 6.21875 \r\nQ 5.515625 13.875 5.515625 27.296875 \r\nQ 5.515625 40.765625 12.171875 48.375 \r\nQ 18.84375 56 30.609375 56 \r\nz\r\n\" id=\"DejaVuSans-111\"/>\r\n       <path d=\"M 9.421875 75.984375 \r\nL 18.40625 75.984375 \r\nL 18.40625 0 \r\nL 9.421875 0 \r\nz\r\n\" id=\"DejaVuSans-108\"/>\r\n       <path d=\"M 45.40625 46.390625 \r\nL 45.40625 75.984375 \r\nL 54.390625 75.984375 \r\nL 54.390625 0 \r\nL 45.40625 0 \r\nL 45.40625 8.203125 \r\nQ 42.578125 3.328125 38.25 0.953125 \r\nQ 33.9375 -1.421875 27.875 -1.421875 \r\nQ 17.96875 -1.421875 11.734375 6.484375 \r\nQ 5.515625 14.40625 5.515625 27.296875 \r\nQ 5.515625 40.1875 11.734375 48.09375 \r\nQ 17.96875 56 27.875 56 \r\nQ 33.9375 56 38.25 53.625 \r\nQ 42.578125 51.265625 45.40625 46.390625 \r\nz\r\nM 14.796875 27.296875 \r\nQ 14.796875 17.390625 18.875 11.75 \r\nQ 22.953125 6.109375 30.078125 6.109375 \r\nQ 37.203125 6.109375 41.296875 11.75 \r\nQ 45.40625 17.390625 45.40625 27.296875 \r\nQ 45.40625 37.203125 41.296875 42.84375 \r\nQ 37.203125 48.484375 30.078125 48.484375 \r\nQ 22.953125 48.484375 18.875 42.84375 \r\nQ 14.796875 37.203125 14.796875 27.296875 \r\nz\r\n\" id=\"DejaVuSans-100\"/>\r\n       <path d=\"M 56.203125 29.59375 \r\nL 56.203125 25.203125 \r\nL 14.890625 25.203125 \r\nQ 15.484375 15.921875 20.484375 11.0625 \r\nQ 25.484375 6.203125 34.421875 6.203125 \r\nQ 39.59375 6.203125 44.453125 7.46875 \r\nQ 49.3125 8.734375 54.109375 11.28125 \r\nL 54.109375 2.78125 \r\nQ 49.265625 0.734375 44.1875 -0.34375 \r\nQ 39.109375 -1.421875 33.890625 -1.421875 \r\nQ 20.796875 -1.421875 13.15625 6.1875 \r\nQ 5.515625 13.8125 5.515625 26.8125 \r\nQ 5.515625 40.234375 12.765625 48.109375 \r\nQ 20.015625 56 32.328125 56 \r\nQ 43.359375 56 49.78125 48.890625 \r\nQ 56.203125 41.796875 56.203125 29.59375 \r\nz\r\nM 47.21875 32.234375 \r\nQ 47.125 39.59375 43.09375 43.984375 \r\nQ 39.0625 48.390625 32.421875 48.390625 \r\nQ 24.90625 48.390625 20.390625 44.140625 \r\nQ 15.875 39.890625 15.1875 32.171875 \r\nz\r\n\" id=\"DejaVuSans-101\"/>\r\n       <path d=\"M 54.890625 33.015625 \r\nL 54.890625 0 \r\nL 45.90625 0 \r\nL 45.90625 32.71875 \r\nQ 45.90625 40.484375 42.875 44.328125 \r\nQ 39.84375 48.1875 33.796875 48.1875 \r\nQ 26.515625 48.1875 22.3125 43.546875 \r\nQ 18.109375 38.921875 18.109375 30.90625 \r\nL 18.109375 0 \r\nL 9.078125 0 \r\nL 9.078125 54.6875 \r\nL 18.109375 54.6875 \r\nL 18.109375 46.1875 \r\nQ 21.34375 51.125 25.703125 53.5625 \r\nQ 30.078125 56 35.796875 56 \r\nQ 45.21875 56 50.046875 50.171875 \r\nQ 54.890625 44.34375 54.890625 33.015625 \r\nz\r\n\" id=\"DejaVuSans-110\"/>\r\n       <path d=\"M 50.984375 -16.609375 \r\nL 50.984375 -23.578125 \r\nL -0.984375 -23.578125 \r\nL -0.984375 -16.609375 \r\nz\r\n\" id=\"DejaVuSans-95\"/>\r\n       <path d=\"M 41.109375 46.296875 \r\nQ 39.59375 47.171875 37.8125 47.578125 \r\nQ 36.03125 48 33.890625 48 \r\nQ 26.265625 48 22.1875 43.046875 \r\nQ 18.109375 38.09375 18.109375 28.8125 \r\nL 18.109375 0 \r\nL 9.078125 0 \r\nL 9.078125 54.6875 \r\nL 18.109375 54.6875 \r\nL 18.109375 46.1875 \r\nQ 20.953125 51.171875 25.484375 53.578125 \r\nQ 30.03125 56 36.53125 56 \r\nQ 37.453125 56 38.578125 55.875 \r\nQ 39.703125 55.765625 41.0625 55.515625 \r\nz\r\n\" id=\"DejaVuSans-114\"/>\r\n       <path d=\"M 18.3125 70.21875 \r\nL 18.3125 54.6875 \r\nL 36.8125 54.6875 \r\nL 36.8125 47.703125 \r\nL 18.3125 47.703125 \r\nL 18.3125 18.015625 \r\nQ 18.3125 11.328125 20.140625 9.421875 \r\nQ 21.96875 7.515625 27.59375 7.515625 \r\nL 36.8125 7.515625 \r\nL 36.8125 0 \r\nL 27.59375 0 \r\nQ 17.1875 0 13.234375 3.875 \r\nQ 9.28125 7.765625 9.28125 18.015625 \r\nL 9.28125 47.703125 \r\nL 2.6875 47.703125 \r\nL 2.6875 54.6875 \r\nL 9.28125 54.6875 \r\nL 9.28125 70.21875 \r\nz\r\n\" id=\"DejaVuSans-116\"/>\r\n       <path d=\"M 9.421875 54.6875 \r\nL 18.40625 54.6875 \r\nL 18.40625 0 \r\nL 9.421875 0 \r\nz\r\nM 9.421875 75.984375 \r\nL 18.40625 75.984375 \r\nL 18.40625 64.59375 \r\nL 9.421875 64.59375 \r\nz\r\n\" id=\"DejaVuSans-105\"/>\r\n       <path d=\"M 2.984375 54.6875 \r\nL 12.5 54.6875 \r\nL 29.59375 8.796875 \r\nL 46.6875 54.6875 \r\nL 56.203125 54.6875 \r\nL 35.6875 0 \r\nL 23.484375 0 \r\nz\r\n\" id=\"DejaVuSans-118\"/>\r\n      </defs>\r\n      <g transform=\"translate(90.7825 417.63)rotate(-90)scale(0.16 -0.16)\">\r\n       <use xlink:href=\"#DejaVuSans-103\"/>\r\n       <use x=\"63.476562\" xlink:href=\"#DejaVuSans-111\"/>\r\n       <use x=\"124.658203\" xlink:href=\"#DejaVuSans-108\"/>\r\n       <use x=\"152.441406\" xlink:href=\"#DejaVuSans-100\"/>\r\n       <use x=\"215.917969\" xlink:href=\"#DejaVuSans-101\"/>\r\n       <use x=\"277.441406\" xlink:href=\"#DejaVuSans-110\"/>\r\n       <use x=\"340.820312\" xlink:href=\"#DejaVuSans-95\"/>\r\n       <use x=\"390.820312\" xlink:href=\"#DejaVuSans-114\"/>\r\n       <use x=\"429.683594\" xlink:href=\"#DejaVuSans-101\"/>\r\n       <use x=\"491.207031\" xlink:href=\"#DejaVuSans-116\"/>\r\n       <use x=\"530.416016\" xlink:href=\"#DejaVuSans-114\"/>\r\n       <use x=\"571.529297\" xlink:href=\"#DejaVuSans-105\"/>\r\n       <use x=\"599.3125\" xlink:href=\"#DejaVuSans-101\"/>\r\n       <use x=\"660.835938\" xlink:href=\"#DejaVuSans-118\"/>\r\n       <use x=\"720.015625\" xlink:href=\"#DejaVuSans-101\"/>\r\n       <use x=\"781.539062\" xlink:href=\"#DejaVuSans-114\"/>\r\n      </g>\r\n     </g>\r\n    </g>\r\n    <g id=\"xtick_2\">\r\n     <g id=\"line2d_2\">\r\n      <g>\r\n       <use style=\"stroke:#000000;stroke-width:0.8;\" x=\"170.29\" xlink:href=\"#m50ae0d8ca7\" y=\"279\"/>\r\n      </g>\r\n     </g>\r\n     <g id=\"text_2\">\r\n      <!-- Labrador_retriever -->\r\n      <defs>\r\n       <path d=\"M 9.8125 72.90625 \r\nL 19.671875 72.90625 \r\nL 19.671875 8.296875 \r\nL 55.171875 8.296875 \r\nL 55.171875 0 \r\nL 9.8125 0 \r\nz\r\n\" id=\"DejaVuSans-76\"/>\r\n       <path d=\"M 34.28125 27.484375 \r\nQ 23.390625 27.484375 19.1875 25 \r\nQ 14.984375 22.515625 14.984375 16.5 \r\nQ 14.984375 11.71875 18.140625 8.90625 \r\nQ 21.296875 6.109375 26.703125 6.109375 \r\nQ 34.1875 6.109375 38.703125 11.40625 \r\nQ 43.21875 16.703125 43.21875 25.484375 \r\nL 43.21875 27.484375 \r\nz\r\nM 52.203125 31.203125 \r\nL 52.203125 0 \r\nL 43.21875 0 \r\nL 43.21875 8.296875 \r\nQ 40.140625 3.328125 35.546875 0.953125 \r\nQ 30.953125 -1.421875 24.3125 -1.421875 \r\nQ 15.921875 -1.421875 10.953125 3.296875 \r\nQ 6 8.015625 6 15.921875 \r\nQ 6 25.140625 12.171875 29.828125 \r\nQ 18.359375 34.515625 30.609375 34.515625 \r\nL 43.21875 34.515625 \r\nL 43.21875 35.40625 \r\nQ 43.21875 41.609375 39.140625 45 \r\nQ 35.0625 48.390625 27.6875 48.390625 \r\nQ 23 48.390625 18.546875 47.265625 \r\nQ 14.109375 46.140625 10.015625 43.890625 \r\nL 10.015625 52.203125 \r\nQ 14.9375 54.109375 19.578125 55.046875 \r\nQ 24.21875 56 28.609375 56 \r\nQ 40.484375 56 46.34375 49.84375 \r\nQ 52.203125 43.703125 52.203125 31.203125 \r\nz\r\n\" id=\"DejaVuSans-97\"/>\r\n       <path d=\"M 48.6875 27.296875 \r\nQ 48.6875 37.203125 44.609375 42.84375 \r\nQ 40.53125 48.484375 33.40625 48.484375 \r\nQ 26.265625 48.484375 22.1875 42.84375 \r\nQ 18.109375 37.203125 18.109375 27.296875 \r\nQ 18.109375 17.390625 22.1875 11.75 \r\nQ 26.265625 6.109375 33.40625 6.109375 \r\nQ 40.53125 6.109375 44.609375 11.75 \r\nQ 48.6875 17.390625 48.6875 27.296875 \r\nz\r\nM 18.109375 46.390625 \r\nQ 20.953125 51.265625 25.265625 53.625 \r\nQ 29.59375 56 35.59375 56 \r\nQ 45.5625 56 51.78125 48.09375 \r\nQ 58.015625 40.1875 58.015625 27.296875 \r\nQ 58.015625 14.40625 51.78125 6.484375 \r\nQ 45.5625 -1.421875 35.59375 -1.421875 \r\nQ 29.59375 -1.421875 25.265625 0.953125 \r\nQ 20.953125 3.328125 18.109375 8.203125 \r\nL 18.109375 0 \r\nL 9.078125 0 \r\nL 9.078125 75.984375 \r\nL 18.109375 75.984375 \r\nz\r\n\" id=\"DejaVuSans-98\"/>\r\n      </defs>\r\n      <g transform=\"translate(174.4825 434.88)rotate(-90)scale(0.16 -0.16)\">\r\n       <use xlink:href=\"#DejaVuSans-76\"/>\r\n       <use x=\"55.712891\" xlink:href=\"#DejaVuSans-97\"/>\r\n       <use x=\"116.992188\" xlink:href=\"#DejaVuSans-98\"/>\r\n       <use x=\"180.46875\" xlink:href=\"#DejaVuSans-114\"/>\r\n       <use x=\"221.582031\" xlink:href=\"#DejaVuSans-97\"/>\r\n       <use x=\"282.861328\" xlink:href=\"#DejaVuSans-100\"/>\r\n       <use x=\"346.337891\" xlink:href=\"#DejaVuSans-111\"/>\r\n       <use x=\"407.519531\" xlink:href=\"#DejaVuSans-114\"/>\r\n       <use x=\"448.632812\" xlink:href=\"#DejaVuSans-95\"/>\r\n       <use x=\"498.632812\" xlink:href=\"#DejaVuSans-114\"/>\r\n       <use x=\"537.496094\" xlink:href=\"#DejaVuSans-101\"/>\r\n       <use x=\"599.019531\" xlink:href=\"#DejaVuSans-116\"/>\r\n       <use x=\"638.228516\" xlink:href=\"#DejaVuSans-114\"/>\r\n       <use x=\"679.341797\" xlink:href=\"#DejaVuSans-105\"/>\r\n       <use x=\"707.125\" xlink:href=\"#DejaVuSans-101\"/>\r\n       <use x=\"768.648438\" xlink:href=\"#DejaVuSans-118\"/>\r\n       <use x=\"827.828125\" xlink:href=\"#DejaVuSans-101\"/>\r\n       <use x=\"889.351562\" xlink:href=\"#DejaVuSans-114\"/>\r\n      </g>\r\n     </g>\r\n    </g>\r\n    <g id=\"xtick_3\">\r\n     <g id=\"line2d_3\">\r\n      <g>\r\n       <use style=\"stroke:#000000;stroke-width:0.8;\" x=\"253.99\" xlink:href=\"#m50ae0d8ca7\" y=\"279\"/>\r\n      </g>\r\n     </g>\r\n     <g id=\"text_3\">\r\n      <!-- Pembroke -->\r\n      <defs>\r\n       <path d=\"M 19.671875 64.796875 \r\nL 19.671875 37.40625 \r\nL 32.078125 37.40625 \r\nQ 38.96875 37.40625 42.71875 40.96875 \r\nQ 46.484375 44.53125 46.484375 51.125 \r\nQ 46.484375 57.671875 42.71875 61.234375 \r\nQ 38.96875 64.796875 32.078125 64.796875 \r\nz\r\nM 9.8125 72.90625 \r\nL 32.078125 72.90625 \r\nQ 44.34375 72.90625 50.609375 67.359375 \r\nQ 56.890625 61.8125 56.890625 51.125 \r\nQ 56.890625 40.328125 50.609375 34.8125 \r\nQ 44.34375 29.296875 32.078125 29.296875 \r\nL 19.671875 29.296875 \r\nL 19.671875 0 \r\nL 9.8125 0 \r\nz\r\n\" id=\"DejaVuSans-80\"/>\r\n       <path d=\"M 52 44.1875 \r\nQ 55.375 50.25 60.0625 53.125 \r\nQ 64.75 56 71.09375 56 \r\nQ 79.640625 56 84.28125 50.015625 \r\nQ 88.921875 44.046875 88.921875 33.015625 \r\nL 88.921875 0 \r\nL 79.890625 0 \r\nL 79.890625 32.71875 \r\nQ 79.890625 40.578125 77.09375 44.375 \r\nQ 74.3125 48.1875 68.609375 48.1875 \r\nQ 61.625 48.1875 57.5625 43.546875 \r\nQ 53.515625 38.921875 53.515625 30.90625 \r\nL 53.515625 0 \r\nL 44.484375 0 \r\nL 44.484375 32.71875 \r\nQ 44.484375 40.625 41.703125 44.40625 \r\nQ 38.921875 48.1875 33.109375 48.1875 \r\nQ 26.21875 48.1875 22.15625 43.53125 \r\nQ 18.109375 38.875 18.109375 30.90625 \r\nL 18.109375 0 \r\nL 9.078125 0 \r\nL 9.078125 54.6875 \r\nL 18.109375 54.6875 \r\nL 18.109375 46.1875 \r\nQ 21.1875 51.21875 25.484375 53.609375 \r\nQ 29.78125 56 35.6875 56 \r\nQ 41.65625 56 45.828125 52.96875 \r\nQ 50 49.953125 52 44.1875 \r\nz\r\n\" id=\"DejaVuSans-109\"/>\r\n       <path d=\"M 9.078125 75.984375 \r\nL 18.109375 75.984375 \r\nL 18.109375 31.109375 \r\nL 44.921875 54.6875 \r\nL 56.390625 54.6875 \r\nL 27.390625 29.109375 \r\nL 57.625 0 \r\nL 45.90625 0 \r\nL 18.109375 26.703125 \r\nL 18.109375 0 \r\nL 9.078125 0 \r\nz\r\n\" id=\"DejaVuSans-107\"/>\r\n      </defs>\r\n      <g transform=\"translate(258.405 365.1925)rotate(-90)scale(0.16 -0.16)\">\r\n       <use xlink:href=\"#DejaVuSans-80\"/>\r\n       <use x=\"56.677734\" xlink:href=\"#DejaVuSans-101\"/>\r\n       <use x=\"118.201172\" xlink:href=\"#DejaVuSans-109\"/>\r\n       <use x=\"215.613281\" xlink:href=\"#DejaVuSans-98\"/>\r\n       <use x=\"279.089844\" xlink:href=\"#DejaVuSans-114\"/>\r\n       <use x=\"317.953125\" xlink:href=\"#DejaVuSans-111\"/>\r\n       <use x=\"379.134766\" xlink:href=\"#DejaVuSans-107\"/>\r\n       <use x=\"433.419922\" xlink:href=\"#DejaVuSans-101\"/>\r\n      </g>\r\n     </g>\r\n    </g>\r\n    <g id=\"xtick_4\">\r\n     <g id=\"line2d_4\">\r\n      <g>\r\n       <use style=\"stroke:#000000;stroke-width:0.8;\" x=\"337.69\" xlink:href=\"#m50ae0d8ca7\" y=\"279\"/>\r\n      </g>\r\n     </g>\r\n     <g id=\"text_4\">\r\n      <!-- Chihuahua -->\r\n      <defs>\r\n       <path d=\"M 64.40625 67.28125 \r\nL 64.40625 56.890625 \r\nQ 59.421875 61.53125 53.78125 63.8125 \r\nQ 48.140625 66.109375 41.796875 66.109375 \r\nQ 29.296875 66.109375 22.65625 58.46875 \r\nQ 16.015625 50.828125 16.015625 36.375 \r\nQ 16.015625 21.96875 22.65625 14.328125 \r\nQ 29.296875 6.6875 41.796875 6.6875 \r\nQ 48.140625 6.6875 53.78125 8.984375 \r\nQ 59.421875 11.28125 64.40625 15.921875 \r\nL 64.40625 5.609375 \r\nQ 59.234375 2.09375 53.4375 0.328125 \r\nQ 47.65625 -1.421875 41.21875 -1.421875 \r\nQ 24.65625 -1.421875 15.125 8.703125 \r\nQ 5.609375 18.84375 5.609375 36.375 \r\nQ 5.609375 53.953125 15.125 64.078125 \r\nQ 24.65625 74.21875 41.21875 74.21875 \r\nQ 47.75 74.21875 53.53125 72.484375 \r\nQ 59.328125 70.75 64.40625 67.28125 \r\nz\r\n\" id=\"DejaVuSans-67\"/>\r\n       <path d=\"M 54.890625 33.015625 \r\nL 54.890625 0 \r\nL 45.90625 0 \r\nL 45.90625 32.71875 \r\nQ 45.90625 40.484375 42.875 44.328125 \r\nQ 39.84375 48.1875 33.796875 48.1875 \r\nQ 26.515625 48.1875 22.3125 43.546875 \r\nQ 18.109375 38.921875 18.109375 30.90625 \r\nL 18.109375 0 \r\nL 9.078125 0 \r\nL 9.078125 75.984375 \r\nL 18.109375 75.984375 \r\nL 18.109375 46.1875 \r\nQ 21.34375 51.125 25.703125 53.5625 \r\nQ 30.078125 56 35.796875 56 \r\nQ 45.21875 56 50.046875 50.171875 \r\nQ 54.890625 44.34375 54.890625 33.015625 \r\nz\r\n\" id=\"DejaVuSans-104\"/>\r\n       <path d=\"M 8.5 21.578125 \r\nL 8.5 54.6875 \r\nL 17.484375 54.6875 \r\nL 17.484375 21.921875 \r\nQ 17.484375 14.15625 20.5 10.265625 \r\nQ 23.53125 6.390625 29.59375 6.390625 \r\nQ 36.859375 6.390625 41.078125 11.03125 \r\nQ 45.3125 15.671875 45.3125 23.6875 \r\nL 45.3125 54.6875 \r\nL 54.296875 54.6875 \r\nL 54.296875 0 \r\nL 45.3125 0 \r\nL 45.3125 8.40625 \r\nQ 42.046875 3.421875 37.71875 1 \r\nQ 33.40625 -1.421875 27.6875 -1.421875 \r\nQ 18.265625 -1.421875 13.375 4.4375 \r\nQ 8.5 10.296875 8.5 21.578125 \r\nz\r\nM 31.109375 56 \r\nz\r\n\" id=\"DejaVuSans-117\"/>\r\n      </defs>\r\n      <g transform=\"translate(342.105 371.9275)rotate(-90)scale(0.16 -0.16)\">\r\n       <use xlink:href=\"#DejaVuSans-67\"/>\r\n       <use x=\"69.824219\" xlink:href=\"#DejaVuSans-104\"/>\r\n       <use x=\"133.203125\" xlink:href=\"#DejaVuSans-105\"/>\r\n       <use x=\"160.986328\" xlink:href=\"#DejaVuSans-104\"/>\r\n       <use x=\"224.365234\" xlink:href=\"#DejaVuSans-117\"/>\r\n       <use x=\"287.744141\" xlink:href=\"#DejaVuSans-97\"/>\r\n       <use x=\"349.023438\" xlink:href=\"#DejaVuSans-104\"/>\r\n       <use x=\"412.402344\" xlink:href=\"#DejaVuSans-117\"/>\r\n       <use x=\"475.78125\" xlink:href=\"#DejaVuSans-97\"/>\r\n      </g>\r\n     </g>\r\n    </g>\r\n    <g id=\"xtick_5\">\r\n     <g id=\"line2d_5\">\r\n      <g>\r\n       <use style=\"stroke:#000000;stroke-width:0.8;\" x=\"421.39\" xlink:href=\"#m50ae0d8ca7\" y=\"279\"/>\r\n      </g>\r\n     </g>\r\n     <g id=\"text_5\">\r\n      <!-- pug -->\r\n      <defs>\r\n       <path d=\"M 18.109375 8.203125 \r\nL 18.109375 -20.796875 \r\nL 9.078125 -20.796875 \r\nL 9.078125 54.6875 \r\nL 18.109375 54.6875 \r\nL 18.109375 46.390625 \r\nQ 20.953125 51.265625 25.265625 53.625 \r\nQ 29.59375 56 35.59375 56 \r\nQ 45.5625 56 51.78125 48.09375 \r\nQ 58.015625 40.1875 58.015625 27.296875 \r\nQ 58.015625 14.40625 51.78125 6.484375 \r\nQ 45.5625 -1.421875 35.59375 -1.421875 \r\nQ 29.59375 -1.421875 25.265625 0.953125 \r\nQ 20.953125 3.328125 18.109375 8.203125 \r\nz\r\nM 48.6875 27.296875 \r\nQ 48.6875 37.203125 44.609375 42.84375 \r\nQ 40.53125 48.484375 33.40625 48.484375 \r\nQ 26.265625 48.484375 22.1875 42.84375 \r\nQ 18.109375 37.203125 18.109375 27.296875 \r\nQ 18.109375 17.390625 22.1875 11.75 \r\nQ 26.265625 6.109375 33.40625 6.109375 \r\nQ 40.53125 6.109375 44.609375 11.75 \r\nQ 48.6875 17.390625 48.6875 27.296875 \r\nz\r\n\" id=\"DejaVuSans-112\"/>\r\n      </defs>\r\n      <g transform=\"translate(425.805 316.455)rotate(-90)scale(0.16 -0.16)\">\r\n       <use xlink:href=\"#DejaVuSans-112\"/>\r\n       <use x=\"63.476562\" xlink:href=\"#DejaVuSans-117\"/>\r\n       <use x=\"126.855469\" xlink:href=\"#DejaVuSans-103\"/>\r\n      </g>\r\n     </g>\r\n    </g>\r\n    <g id=\"xtick_6\">\r\n     <g id=\"line2d_6\">\r\n      <g>\r\n       <use style=\"stroke:#000000;stroke-width:0.8;\" x=\"505.09\" xlink:href=\"#m50ae0d8ca7\" y=\"279\"/>\r\n      </g>\r\n     </g>\r\n     <g id=\"text_6\">\r\n      <!-- chow -->\r\n      <defs>\r\n       <path d=\"M 48.78125 52.59375 \r\nL 48.78125 44.1875 \r\nQ 44.96875 46.296875 41.140625 47.34375 \r\nQ 37.3125 48.390625 33.40625 48.390625 \r\nQ 24.65625 48.390625 19.8125 42.84375 \r\nQ 14.984375 37.3125 14.984375 27.296875 \r\nQ 14.984375 17.28125 19.8125 11.734375 \r\nQ 24.65625 6.203125 33.40625 6.203125 \r\nQ 37.3125 6.203125 41.140625 7.25 \r\nQ 44.96875 8.296875 48.78125 10.40625 \r\nL 48.78125 2.09375 \r\nQ 45.015625 0.34375 40.984375 -0.53125 \r\nQ 36.96875 -1.421875 32.421875 -1.421875 \r\nQ 20.0625 -1.421875 12.78125 6.34375 \r\nQ 5.515625 14.109375 5.515625 27.296875 \r\nQ 5.515625 40.671875 12.859375 48.328125 \r\nQ 20.21875 56 33.015625 56 \r\nQ 37.15625 56 41.109375 55.140625 \r\nQ 45.0625 54.296875 48.78125 52.59375 \r\nz\r\n\" id=\"DejaVuSans-99\"/>\r\n       <path d=\"M 4.203125 54.6875 \r\nL 13.1875 54.6875 \r\nL 24.421875 12.015625 \r\nL 35.59375 54.6875 \r\nL 46.1875 54.6875 \r\nL 57.421875 12.015625 \r\nL 68.609375 54.6875 \r\nL 77.59375 54.6875 \r\nL 63.28125 0 \r\nL 52.6875 0 \r\nL 40.921875 44.828125 \r\nL 29.109375 0 \r\nL 18.5 0 \r\nz\r\n\" id=\"DejaVuSans-119\"/>\r\n      </defs>\r\n      <g transform=\"translate(509.505 327.8125)rotate(-90)scale(0.16 -0.16)\">\r\n       <use xlink:href=\"#DejaVuSans-99\"/>\r\n       <use x=\"54.980469\" xlink:href=\"#DejaVuSans-104\"/>\r\n       <use x=\"118.359375\" xlink:href=\"#DejaVuSans-111\"/>\r\n       <use x=\"179.541016\" xlink:href=\"#DejaVuSans-119\"/>\r\n      </g>\r\n     </g>\r\n    </g>\r\n    <g id=\"xtick_7\">\r\n     <g id=\"line2d_7\">\r\n      <g>\r\n       <use style=\"stroke:#000000;stroke-width:0.8;\" x=\"588.79\" xlink:href=\"#m50ae0d8ca7\" y=\"279\"/>\r\n      </g>\r\n     </g>\r\n     <g id=\"text_7\">\r\n      <!-- Samoyed -->\r\n      <defs>\r\n       <path d=\"M 53.515625 70.515625 \r\nL 53.515625 60.890625 \r\nQ 47.90625 63.578125 42.921875 64.890625 \r\nQ 37.9375 66.21875 33.296875 66.21875 \r\nQ 25.25 66.21875 20.875 63.09375 \r\nQ 16.5 59.96875 16.5 54.203125 \r\nQ 16.5 49.359375 19.40625 46.890625 \r\nQ 22.3125 44.4375 30.421875 42.921875 \r\nL 36.375 41.703125 \r\nQ 47.40625 39.59375 52.65625 34.296875 \r\nQ 57.90625 29 57.90625 20.125 \r\nQ 57.90625 9.515625 50.796875 4.046875 \r\nQ 43.703125 -1.421875 29.984375 -1.421875 \r\nQ 24.8125 -1.421875 18.96875 -0.25 \r\nQ 13.140625 0.921875 6.890625 3.21875 \r\nL 6.890625 13.375 \r\nQ 12.890625 10.015625 18.65625 8.296875 \r\nQ 24.421875 6.59375 29.984375 6.59375 \r\nQ 38.421875 6.59375 43.015625 9.90625 \r\nQ 47.609375 13.234375 47.609375 19.390625 \r\nQ 47.609375 24.75 44.3125 27.78125 \r\nQ 41.015625 30.8125 33.5 32.328125 \r\nL 27.484375 33.5 \r\nQ 16.453125 35.6875 11.515625 40.375 \r\nQ 6.59375 45.0625 6.59375 53.421875 \r\nQ 6.59375 63.09375 13.40625 68.65625 \r\nQ 20.21875 74.21875 32.171875 74.21875 \r\nQ 37.3125 74.21875 42.625 73.28125 \r\nQ 47.953125 72.359375 53.515625 70.515625 \r\nz\r\n\" id=\"DejaVuSans-83\"/>\r\n       <path d=\"M 32.171875 -5.078125 \r\nQ 28.375 -14.84375 24.75 -17.8125 \r\nQ 21.140625 -20.796875 15.09375 -20.796875 \r\nL 7.90625 -20.796875 \r\nL 7.90625 -13.28125 \r\nL 13.1875 -13.28125 \r\nQ 16.890625 -13.28125 18.9375 -11.515625 \r\nQ 21 -9.765625 23.484375 -3.21875 \r\nL 25.09375 0.875 \r\nL 2.984375 54.6875 \r\nL 12.5 54.6875 \r\nL 29.59375 11.921875 \r\nL 46.6875 54.6875 \r\nL 56.203125 54.6875 \r\nz\r\n\" id=\"DejaVuSans-121\"/>\r\n      </defs>\r\n      <g transform=\"translate(593.205 360.81)rotate(-90)scale(0.16 -0.16)\">\r\n       <use xlink:href=\"#DejaVuSans-83\"/>\r\n       <use x=\"63.476562\" xlink:href=\"#DejaVuSans-97\"/>\r\n       <use x=\"124.755859\" xlink:href=\"#DejaVuSans-109\"/>\r\n       <use x=\"222.167969\" xlink:href=\"#DejaVuSans-111\"/>\r\n       <use x=\"283.349609\" xlink:href=\"#DejaVuSans-121\"/>\r\n       <use x=\"342.529297\" xlink:href=\"#DejaVuSans-101\"/>\r\n       <use x=\"404.052734\" xlink:href=\"#DejaVuSans-100\"/>\r\n      </g>\r\n     </g>\r\n    </g>\r\n    <g id=\"xtick_8\">\r\n     <g id=\"line2d_8\">\r\n      <g>\r\n       <use style=\"stroke:#000000;stroke-width:0.8;\" x=\"672.49\" xlink:href=\"#m50ae0d8ca7\" y=\"279\"/>\r\n      </g>\r\n     </g>\r\n     <g id=\"text_8\">\r\n      <!-- toy_poodle -->\r\n      <g transform=\"translate(676.6825 373.7175)rotate(-90)scale(0.16 -0.16)\">\r\n       <use xlink:href=\"#DejaVuSans-116\"/>\r\n       <use x=\"39.208984\" xlink:href=\"#DejaVuSans-111\"/>\r\n       <use x=\"100.390625\" xlink:href=\"#DejaVuSans-121\"/>\r\n       <use x=\"159.570312\" xlink:href=\"#DejaVuSans-95\"/>\r\n       <use x=\"209.570312\" xlink:href=\"#DejaVuSans-112\"/>\r\n       <use x=\"273.046875\" xlink:href=\"#DejaVuSans-111\"/>\r\n       <use x=\"334.228516\" xlink:href=\"#DejaVuSans-111\"/>\r\n       <use x=\"395.410156\" xlink:href=\"#DejaVuSans-100\"/>\r\n       <use x=\"458.886719\" xlink:href=\"#DejaVuSans-108\"/>\r\n       <use x=\"486.669922\" xlink:href=\"#DejaVuSans-101\"/>\r\n      </g>\r\n     </g>\r\n    </g>\r\n    <g id=\"xtick_9\">\r\n     <g id=\"line2d_9\">\r\n      <g>\r\n       <use style=\"stroke:#000000;stroke-width:0.8;\" x=\"756.19\" xlink:href=\"#m50ae0d8ca7\" y=\"279\"/>\r\n      </g>\r\n     </g>\r\n     <g id=\"text_9\">\r\n      <!-- Pomeranian -->\r\n      <g transform=\"translate(760.605 381.2)rotate(-90)scale(0.16 -0.16)\">\r\n       <use xlink:href=\"#DejaVuSans-80\"/>\r\n       <use x=\"56.677734\" xlink:href=\"#DejaVuSans-111\"/>\r\n       <use x=\"117.859375\" xlink:href=\"#DejaVuSans-109\"/>\r\n       <use x=\"215.271484\" xlink:href=\"#DejaVuSans-101\"/>\r\n       <use x=\"276.794922\" xlink:href=\"#DejaVuSans-114\"/>\r\n       <use x=\"317.908203\" xlink:href=\"#DejaVuSans-97\"/>\r\n       <use x=\"379.1875\" xlink:href=\"#DejaVuSans-110\"/>\r\n       <use x=\"442.566406\" xlink:href=\"#DejaVuSans-105\"/>\r\n       <use x=\"470.349609\" xlink:href=\"#DejaVuSans-97\"/>\r\n       <use x=\"531.628906\" xlink:href=\"#DejaVuSans-110\"/>\r\n      </g>\r\n     </g>\r\n    </g>\r\n    <g id=\"xtick_10\">\r\n     <g id=\"line2d_10\">\r\n      <g>\r\n       <use style=\"stroke:#000000;stroke-width:0.8;\" x=\"839.89\" xlink:href=\"#m50ae0d8ca7\" y=\"279\"/>\r\n      </g>\r\n     </g>\r\n     <g id=\"text_10\">\r\n      <!-- cocker_spaniel -->\r\n      <defs>\r\n       <path d=\"M 44.28125 53.078125 \r\nL 44.28125 44.578125 \r\nQ 40.484375 46.53125 36.375 47.5 \r\nQ 32.28125 48.484375 27.875 48.484375 \r\nQ 21.1875 48.484375 17.84375 46.4375 \r\nQ 14.5 44.390625 14.5 40.28125 \r\nQ 14.5 37.15625 16.890625 35.375 \r\nQ 19.28125 33.59375 26.515625 31.984375 \r\nL 29.59375 31.296875 \r\nQ 39.15625 29.25 43.1875 25.515625 \r\nQ 47.21875 21.78125 47.21875 15.09375 \r\nQ 47.21875 7.46875 41.1875 3.015625 \r\nQ 35.15625 -1.421875 24.609375 -1.421875 \r\nQ 20.21875 -1.421875 15.453125 -0.5625 \r\nQ 10.6875 0.296875 5.421875 2 \r\nL 5.421875 11.28125 \r\nQ 10.40625 8.6875 15.234375 7.390625 \r\nQ 20.0625 6.109375 24.8125 6.109375 \r\nQ 31.15625 6.109375 34.5625 8.28125 \r\nQ 37.984375 10.453125 37.984375 14.40625 \r\nQ 37.984375 18.0625 35.515625 20.015625 \r\nQ 33.0625 21.96875 24.703125 23.78125 \r\nL 21.578125 24.515625 \r\nQ 13.234375 26.265625 9.515625 29.90625 \r\nQ 5.8125 33.546875 5.8125 39.890625 \r\nQ 5.8125 47.609375 11.28125 51.796875 \r\nQ 16.75 56 26.8125 56 \r\nQ 31.78125 56 36.171875 55.265625 \r\nQ 40.578125 54.546875 44.28125 53.078125 \r\nz\r\n\" id=\"DejaVuSans-115\"/>\r\n      </defs>\r\n      <g transform=\"translate(844.0825 403.665)rotate(-90)scale(0.16 -0.16)\">\r\n       <use xlink:href=\"#DejaVuSans-99\"/>\r\n       <use x=\"54.980469\" xlink:href=\"#DejaVuSans-111\"/>\r\n       <use x=\"116.162109\" xlink:href=\"#DejaVuSans-99\"/>\r\n       <use x=\"171.142578\" xlink:href=\"#DejaVuSans-107\"/>\r\n       <use x=\"225.427734\" xlink:href=\"#DejaVuSans-101\"/>\r\n       <use x=\"286.951172\" xlink:href=\"#DejaVuSans-114\"/>\r\n       <use x=\"328.064453\" xlink:href=\"#DejaVuSans-95\"/>\r\n       <use x=\"378.064453\" xlink:href=\"#DejaVuSans-115\"/>\r\n       <use x=\"430.164062\" xlink:href=\"#DejaVuSans-112\"/>\r\n       <use x=\"493.640625\" xlink:href=\"#DejaVuSans-97\"/>\r\n       <use x=\"554.919922\" xlink:href=\"#DejaVuSans-110\"/>\r\n       <use x=\"618.298828\" xlink:href=\"#DejaVuSans-105\"/>\r\n       <use x=\"646.082031\" xlink:href=\"#DejaVuSans-101\"/>\r\n       <use x=\"707.605469\" xlink:href=\"#DejaVuSans-108\"/>\r\n      </g>\r\n     </g>\r\n    </g>\r\n   </g>\r\n   <g id=\"matplotlib.axis_2\">\r\n    <g id=\"ytick_1\">\r\n     <g id=\"line2d_11\">\r\n      <defs>\r\n       <path d=\"M 0 0 \r\nL -3.5 0 \r\n\" id=\"m35c9451b89\" style=\"stroke:#000000;stroke-width:0.8;\"/>\r\n      </defs>\r\n      <g>\r\n       <use style=\"stroke:#000000;stroke-width:0.8;\" x=\"44.74\" xlink:href=\"#m35c9451b89\" y=\"279\"/>\r\n      </g>\r\n     </g>\r\n     <g id=\"text_11\">\r\n      <!-- 0 -->\r\n      <defs>\r\n       <path d=\"M 31.78125 66.40625 \r\nQ 24.171875 66.40625 20.328125 58.90625 \r\nQ 16.5 51.421875 16.5 36.375 \r\nQ 16.5 21.390625 20.328125 13.890625 \r\nQ 24.171875 6.390625 31.78125 6.390625 \r\nQ 39.453125 6.390625 43.28125 13.890625 \r\nQ 47.125 21.390625 47.125 36.375 \r\nQ 47.125 51.421875 43.28125 58.90625 \r\nQ 39.453125 66.40625 31.78125 66.40625 \r\nz\r\nM 31.78125 74.21875 \r\nQ 44.046875 74.21875 50.515625 64.515625 \r\nQ 56.984375 54.828125 56.984375 36.375 \r\nQ 56.984375 17.96875 50.515625 8.265625 \r\nQ 44.046875 -1.421875 31.78125 -1.421875 \r\nQ 19.53125 -1.421875 13.0625 8.265625 \r\nQ 6.59375 17.96875 6.59375 36.375 \r\nQ 6.59375 54.828125 13.0625 64.515625 \r\nQ 19.53125 74.21875 31.78125 74.21875 \r\nz\r\n\" id=\"DejaVuSans-48\"/>\r\n      </defs>\r\n      <g transform=\"translate(27.56 285.07875)scale(0.16 -0.16)\">\r\n       <use xlink:href=\"#DejaVuSans-48\"/>\r\n      </g>\r\n     </g>\r\n    </g>\r\n    <g id=\"ytick_2\">\r\n     <g id=\"line2d_12\">\r\n      <g>\r\n       <use style=\"stroke:#000000;stroke-width:0.8;\" x=\"44.74\" xlink:href=\"#m35c9451b89\" y=\"244.485714\"/>\r\n      </g>\r\n     </g>\r\n     <g id=\"text_12\">\r\n      <!-- 20 -->\r\n      <defs>\r\n       <path d=\"M 19.1875 8.296875 \r\nL 53.609375 8.296875 \r\nL 53.609375 0 \r\nL 7.328125 0 \r\nL 7.328125 8.296875 \r\nQ 12.9375 14.109375 22.625 23.890625 \r\nQ 32.328125 33.6875 34.8125 36.53125 \r\nQ 39.546875 41.84375 41.421875 45.53125 \r\nQ 43.3125 49.21875 43.3125 52.78125 \r\nQ 43.3125 58.59375 39.234375 62.25 \r\nQ 35.15625 65.921875 28.609375 65.921875 \r\nQ 23.96875 65.921875 18.8125 64.3125 \r\nQ 13.671875 62.703125 7.8125 59.421875 \r\nL 7.8125 69.390625 \r\nQ 13.765625 71.78125 18.9375 73 \r\nQ 24.125 74.21875 28.421875 74.21875 \r\nQ 39.75 74.21875 46.484375 68.546875 \r\nQ 53.21875 62.890625 53.21875 53.421875 \r\nQ 53.21875 48.921875 51.53125 44.890625 \r\nQ 49.859375 40.875 45.40625 35.40625 \r\nQ 44.1875 33.984375 37.640625 27.21875 \r\nQ 31.109375 20.453125 19.1875 8.296875 \r\nz\r\n\" id=\"DejaVuSans-50\"/>\r\n      </defs>\r\n      <g transform=\"translate(17.38 250.564464)scale(0.16 -0.16)\">\r\n       <use xlink:href=\"#DejaVuSans-50\"/>\r\n       <use x=\"63.623047\" xlink:href=\"#DejaVuSans-48\"/>\r\n      </g>\r\n     </g>\r\n    </g>\r\n    <g id=\"ytick_3\">\r\n     <g id=\"line2d_13\">\r\n      <g>\r\n       <use style=\"stroke:#000000;stroke-width:0.8;\" x=\"44.74\" xlink:href=\"#m35c9451b89\" y=\"209.971429\"/>\r\n      </g>\r\n     </g>\r\n     <g id=\"text_13\">\r\n      <!-- 40 -->\r\n      <defs>\r\n       <path d=\"M 37.796875 64.3125 \r\nL 12.890625 25.390625 \r\nL 37.796875 25.390625 \r\nz\r\nM 35.203125 72.90625 \r\nL 47.609375 72.90625 \r\nL 47.609375 25.390625 \r\nL 58.015625 25.390625 \r\nL 58.015625 17.1875 \r\nL 47.609375 17.1875 \r\nL 47.609375 0 \r\nL 37.796875 0 \r\nL 37.796875 17.1875 \r\nL 4.890625 17.1875 \r\nL 4.890625 26.703125 \r\nz\r\n\" id=\"DejaVuSans-52\"/>\r\n      </defs>\r\n      <g transform=\"translate(17.38 216.050179)scale(0.16 -0.16)\">\r\n       <use xlink:href=\"#DejaVuSans-52\"/>\r\n       <use x=\"63.623047\" xlink:href=\"#DejaVuSans-48\"/>\r\n      </g>\r\n     </g>\r\n    </g>\r\n    <g id=\"ytick_4\">\r\n     <g id=\"line2d_14\">\r\n      <g>\r\n       <use style=\"stroke:#000000;stroke-width:0.8;\" x=\"44.74\" xlink:href=\"#m35c9451b89\" y=\"175.457143\"/>\r\n      </g>\r\n     </g>\r\n     <g id=\"text_14\">\r\n      <!-- 60 -->\r\n      <defs>\r\n       <path d=\"M 33.015625 40.375 \r\nQ 26.375 40.375 22.484375 35.828125 \r\nQ 18.609375 31.296875 18.609375 23.390625 \r\nQ 18.609375 15.53125 22.484375 10.953125 \r\nQ 26.375 6.390625 33.015625 6.390625 \r\nQ 39.65625 6.390625 43.53125 10.953125 \r\nQ 47.40625 15.53125 47.40625 23.390625 \r\nQ 47.40625 31.296875 43.53125 35.828125 \r\nQ 39.65625 40.375 33.015625 40.375 \r\nz\r\nM 52.59375 71.296875 \r\nL 52.59375 62.3125 \r\nQ 48.875 64.0625 45.09375 64.984375 \r\nQ 41.3125 65.921875 37.59375 65.921875 \r\nQ 27.828125 65.921875 22.671875 59.328125 \r\nQ 17.53125 52.734375 16.796875 39.40625 \r\nQ 19.671875 43.65625 24.015625 45.921875 \r\nQ 28.375 48.1875 33.59375 48.1875 \r\nQ 44.578125 48.1875 50.953125 41.515625 \r\nQ 57.328125 34.859375 57.328125 23.390625 \r\nQ 57.328125 12.15625 50.6875 5.359375 \r\nQ 44.046875 -1.421875 33.015625 -1.421875 \r\nQ 20.359375 -1.421875 13.671875 8.265625 \r\nQ 6.984375 17.96875 6.984375 36.375 \r\nQ 6.984375 53.65625 15.1875 63.9375 \r\nQ 23.390625 74.21875 37.203125 74.21875 \r\nQ 40.921875 74.21875 44.703125 73.484375 \r\nQ 48.484375 72.75 52.59375 71.296875 \r\nz\r\n\" id=\"DejaVuSans-54\"/>\r\n      </defs>\r\n      <g transform=\"translate(17.38 181.535893)scale(0.16 -0.16)\">\r\n       <use xlink:href=\"#DejaVuSans-54\"/>\r\n       <use x=\"63.623047\" xlink:href=\"#DejaVuSans-48\"/>\r\n      </g>\r\n     </g>\r\n    </g>\r\n    <g id=\"ytick_5\">\r\n     <g id=\"line2d_15\">\r\n      <g>\r\n       <use style=\"stroke:#000000;stroke-width:0.8;\" x=\"44.74\" xlink:href=\"#m35c9451b89\" y=\"140.942857\"/>\r\n      </g>\r\n     </g>\r\n     <g id=\"text_15\">\r\n      <!-- 80 -->\r\n      <defs>\r\n       <path d=\"M 31.78125 34.625 \r\nQ 24.75 34.625 20.71875 30.859375 \r\nQ 16.703125 27.09375 16.703125 20.515625 \r\nQ 16.703125 13.921875 20.71875 10.15625 \r\nQ 24.75 6.390625 31.78125 6.390625 \r\nQ 38.8125 6.390625 42.859375 10.171875 \r\nQ 46.921875 13.96875 46.921875 20.515625 \r\nQ 46.921875 27.09375 42.890625 30.859375 \r\nQ 38.875 34.625 31.78125 34.625 \r\nz\r\nM 21.921875 38.8125 \r\nQ 15.578125 40.375 12.03125 44.71875 \r\nQ 8.5 49.078125 8.5 55.328125 \r\nQ 8.5 64.0625 14.71875 69.140625 \r\nQ 20.953125 74.21875 31.78125 74.21875 \r\nQ 42.671875 74.21875 48.875 69.140625 \r\nQ 55.078125 64.0625 55.078125 55.328125 \r\nQ 55.078125 49.078125 51.53125 44.71875 \r\nQ 48 40.375 41.703125 38.8125 \r\nQ 48.828125 37.15625 52.796875 32.3125 \r\nQ 56.78125 27.484375 56.78125 20.515625 \r\nQ 56.78125 9.90625 50.3125 4.234375 \r\nQ 43.84375 -1.421875 31.78125 -1.421875 \r\nQ 19.734375 -1.421875 13.25 4.234375 \r\nQ 6.78125 9.90625 6.78125 20.515625 \r\nQ 6.78125 27.484375 10.78125 32.3125 \r\nQ 14.796875 37.15625 21.921875 38.8125 \r\nz\r\nM 18.3125 54.390625 \r\nQ 18.3125 48.734375 21.84375 45.5625 \r\nQ 25.390625 42.390625 31.78125 42.390625 \r\nQ 38.140625 42.390625 41.71875 45.5625 \r\nQ 45.3125 48.734375 45.3125 54.390625 \r\nQ 45.3125 60.0625 41.71875 63.234375 \r\nQ 38.140625 66.40625 31.78125 66.40625 \r\nQ 25.390625 66.40625 21.84375 63.234375 \r\nQ 18.3125 60.0625 18.3125 54.390625 \r\nz\r\n\" id=\"DejaVuSans-56\"/>\r\n      </defs>\r\n      <g transform=\"translate(17.38 147.021607)scale(0.16 -0.16)\">\r\n       <use xlink:href=\"#DejaVuSans-56\"/>\r\n       <use x=\"63.623047\" xlink:href=\"#DejaVuSans-48\"/>\r\n      </g>\r\n     </g>\r\n    </g>\r\n    <g id=\"ytick_6\">\r\n     <g id=\"line2d_16\">\r\n      <g>\r\n       <use style=\"stroke:#000000;stroke-width:0.8;\" x=\"44.74\" xlink:href=\"#m35c9451b89\" y=\"106.428571\"/>\r\n      </g>\r\n     </g>\r\n     <g id=\"text_16\">\r\n      <!-- 100 -->\r\n      <defs>\r\n       <path d=\"M 12.40625 8.296875 \r\nL 28.515625 8.296875 \r\nL 28.515625 63.921875 \r\nL 10.984375 60.40625 \r\nL 10.984375 69.390625 \r\nL 28.421875 72.90625 \r\nL 38.28125 72.90625 \r\nL 38.28125 8.296875 \r\nL 54.390625 8.296875 \r\nL 54.390625 0 \r\nL 12.40625 0 \r\nz\r\n\" id=\"DejaVuSans-49\"/>\r\n      </defs>\r\n      <g transform=\"translate(7.2 112.507321)scale(0.16 -0.16)\">\r\n       <use xlink:href=\"#DejaVuSans-49\"/>\r\n       <use x=\"63.623047\" xlink:href=\"#DejaVuSans-48\"/>\r\n       <use x=\"127.246094\" xlink:href=\"#DejaVuSans-48\"/>\r\n      </g>\r\n     </g>\r\n    </g>\r\n    <g id=\"ytick_7\">\r\n     <g id=\"line2d_17\">\r\n      <g>\r\n       <use style=\"stroke:#000000;stroke-width:0.8;\" x=\"44.74\" xlink:href=\"#m35c9451b89\" y=\"71.914286\"/>\r\n      </g>\r\n     </g>\r\n     <g id=\"text_17\">\r\n      <!-- 120 -->\r\n      <g transform=\"translate(7.2 77.993036)scale(0.16 -0.16)\">\r\n       <use xlink:href=\"#DejaVuSans-49\"/>\r\n       <use x=\"63.623047\" xlink:href=\"#DejaVuSans-50\"/>\r\n       <use x=\"127.246094\" xlink:href=\"#DejaVuSans-48\"/>\r\n      </g>\r\n     </g>\r\n    </g>\r\n    <g id=\"ytick_8\">\r\n     <g id=\"line2d_18\">\r\n      <g>\r\n       <use style=\"stroke:#000000;stroke-width:0.8;\" x=\"44.74\" xlink:href=\"#m35c9451b89\" y=\"37.4\"/>\r\n      </g>\r\n     </g>\r\n     <g id=\"text_18\">\r\n      <!-- 140 -->\r\n      <g transform=\"translate(7.2 43.47875)scale(0.16 -0.16)\">\r\n       <use xlink:href=\"#DejaVuSans-49\"/>\r\n       <use x=\"63.623047\" xlink:href=\"#DejaVuSans-52\"/>\r\n       <use x=\"127.246094\" xlink:href=\"#DejaVuSans-48\"/>\r\n      </g>\r\n     </g>\r\n    </g>\r\n   </g>\r\n   <g id=\"patch_13\">\r\n    <path d=\"M 44.74 279 \r\nL 44.74 7.2 \r\n\" style=\"fill:none;stroke:#000000;stroke-linecap:square;stroke-linejoin:miter;stroke-width:0.8;\"/>\r\n   </g>\r\n   <g id=\"patch_14\">\r\n    <path d=\"M 881.74 279 \r\nL 881.74 7.2 \r\n\" style=\"fill:none;stroke:#000000;stroke-linecap:square;stroke-linejoin:miter;stroke-width:0.8;\"/>\r\n   </g>\r\n   <g id=\"patch_15\">\r\n    <path d=\"M 44.74 279 \r\nL 881.74 279 \r\n\" style=\"fill:none;stroke:#000000;stroke-linecap:square;stroke-linejoin:miter;stroke-width:0.8;\"/>\r\n   </g>\r\n   <g id=\"patch_16\">\r\n    <path d=\"M 44.74 7.2 \r\nL 881.74 7.2 \r\n\" style=\"fill:none;stroke:#000000;stroke-linecap:square;stroke-linejoin:miter;stroke-width:0.8;\"/>\r\n   </g>\r\n  </g>\r\n </g>\r\n <defs>\r\n  <clipPath id=\"pa07a96909e\">\r\n   <rect height=\"271.8\" width=\"837\" x=\"44.74\" y=\"7.2\"/>\r\n  </clipPath>\r\n </defs>\r\n</svg>\r\n",
      "image/png": "[encoded data removed]"
     },
     "metadata": {
      "needs_background": "light"
     }
    }
   ],
   "source": [
    "# What is the most Popular Dog Breeds\n",
    "n = 10\n",
    "breeds_list = df_image_predictions_cleaned['p1'].value_counts()[:n].index.tolist()\n",
    "df_breeds = df_image_predictions_cleaned[df_image_predictions_cleaned['p1'].isin(breeds_list)]\n",
    "df_breeds['p1'].value_counts().plot(kind='bar', figsize=(15,5), fontsize=16)\n"
   ]
  },
  {
   "source": [
    "### We can see from bars that the most popular dog breeds is \"golden_retriever\""
   ],
   "cell_type": "markdown",
   "metadata": {}
  },
  {
   "source": [
    "### 2) What are the most common dog names ?"
   ],
   "cell_type": "markdown",
   "metadata": {}
  },
  {
   "cell_type": "code",
   "execution_count": 537,
   "metadata": {},
   "outputs": [
    {
     "output_type": "execute_result",
     "data": {
      "text/plain": [
       "<bound method Series.max of None        718\n",
       "Lucy         11\n",
       "Charlie      11\n",
       "Cooper       10\n",
       "Oliver       10\n",
       "           ... \n",
       "Storkson      1\n",
       "Mona          1\n",
       "Bilbo         1\n",
       "Dante         1\n",
       "Arlen         1\n",
       "Name: name, Length: 952, dtype: int64>"
      ]
     },
     "metadata": {},
     "execution_count": 537
    }
   ],
   "source": [
    "# What are the most common dog names\n",
    "\n",
    "df_twitter_archive_enhanced_cleaned['name'].value_counts().max"
   ]
  },
  {
   "source": [
    "###  We can see that the most common names are \"Charlie\", \"Lucy\", \"Cooper\""
   ],
   "cell_type": "markdown",
   "metadata": {}
  },
  {
   "source": [
    "### 3) What is the most common stage of dogs ? "
   ],
   "cell_type": "markdown",
   "metadata": {}
  },
  {
   "cell_type": "code",
   "execution_count": 538,
   "metadata": {},
   "outputs": [
    {
     "output_type": "execute_result",
     "data": {
      "text/plain": [
       "<bound method Series.max of                   1809\n",
       "pupper             224\n",
       "doggo               75\n",
       "puppo               24\n",
       "doggo, pupper       10\n",
       "floofer              9\n",
       "doggo, puppo         1\n",
       "doggo, floofer       1\n",
       "Name: stage, dtype: int64>"
      ]
     },
     "metadata": {},
     "execution_count": 538
    }
   ],
   "source": [
    "# What are the most common stage of dogs\n",
    "df_twitter_archive_enhanced_cleaned['stage'].value_counts().max"
   ]
  },
  {
   "source": [
    "### We can see that the most common stage is \"Pupper\""
   ],
   "cell_type": "markdown",
   "metadata": {}
  },
  {
   "source": [
    "### 4) What is the average rating numerator value ?  "
   ],
   "cell_type": "markdown",
   "metadata": {}
  },
  {
   "cell_type": "code",
   "execution_count": 539,
   "metadata": {},
   "outputs": [
    {
     "output_type": "execute_result",
     "data": {
      "text/plain": [
       "0         2\n",
       "1         7\n",
       "2         9\n",
       "3        19\n",
       "4        15\n",
       "5        36\n",
       "6        32\n",
       "7        53\n",
       "8        98\n",
       "9       156\n",
       "10      442\n",
       "11      427\n",
       "12      500\n",
       "13      307\n",
       "14       43\n",
       "15        1\n",
       "17        1\n",
       "182       1\n",
       "420       2\n",
       "666       1\n",
       "1776      1\n",
       "Name: rating_numerator, dtype: int64"
      ]
     },
     "metadata": {},
     "execution_count": 539
    }
   ],
   "source": [
    "\n",
    "df_twitter_archive_enhanced_cleaned.rating_numerator.value_counts().sort_index()\n"
   ]
  },
  {
   "source": [
    "### we can see that 12 is most common value for rating "
   ],
   "cell_type": "markdown",
   "metadata": {}
  },
  {
   "source": [
    "### 5) What is the most common hour to tweet ? "
   ],
   "cell_type": "markdown",
   "metadata": {}
  },
  {
   "cell_type": "code",
   "execution_count": 541,
   "metadata": {},
   "outputs": [
    {
     "output_type": "execute_result",
     "data": {
      "text/plain": [
       "00    268\n",
       "01    292\n",
       "02    222\n",
       "03    187\n",
       "04    103\n",
       "05     28\n",
       "06      4\n",
       "12      2\n",
       "13      3\n",
       "14      9\n",
       "15     97\n",
       "16    204\n",
       "17    174\n",
       "18    112\n",
       "19     94\n",
       "20     87\n",
       "21     76\n",
       "22     75\n",
       "23    116\n",
       "Name: timestamp, dtype: int64"
      ]
     },
     "metadata": {},
     "execution_count": 541
    }
   ],
   "source": [
    "df_twitter_archive_enhanced_cleaned['timestamp'].apply(lambda x:x.strftime('%H')).value_counts().sort_index()\n"
   ]
  },
  {
   "source": [
    "### 1 AM is most hour the tweets being tweeted "
   ],
   "cell_type": "code",
   "metadata": {},
   "execution_count": null,
   "outputs": []
  }
 ]
}